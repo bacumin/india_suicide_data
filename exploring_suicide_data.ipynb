{
 "cells": [
  {
   "cell_type": "markdown",
   "metadata": {},
   "source": [
    "# The explosion of drug abuse deaths in India"
   ]
  },
  {
   "cell_type": "markdown",
   "metadata": {},
   "source": [
    "I built this quick notebook to look at how the top causes of death have evolved over the past 10 years. The data shows drug abuses have sky-rocketed. <br> Graphs made using bokeh (http://bokeh.pydata.org/)"
   ]
  },
  {
   "cell_type": "code",
   "execution_count": 93,
   "metadata": {
    "collapsed": true
   },
   "outputs": [],
   "source": [
    "import pandas as pd, numpy as np"
   ]
  },
  {
   "cell_type": "code",
   "execution_count": 94,
   "metadata": {
    "collapsed": false
   },
   "outputs": [
    {
     "data": {
      "text/html": [
       "<div>\n",
       "<table border=\"1\" class=\"dataframe\">\n",
       "  <thead>\n",
       "    <tr style=\"text-align: right;\">\n",
       "      <th></th>\n",
       "      <th>State</th>\n",
       "      <th>Year</th>\n",
       "      <th>Type_code</th>\n",
       "      <th>Type</th>\n",
       "      <th>Gender</th>\n",
       "      <th>Age_group</th>\n",
       "      <th>Total</th>\n",
       "    </tr>\n",
       "  </thead>\n",
       "  <tbody>\n",
       "    <tr>\n",
       "      <th>0</th>\n",
       "      <td>A &amp; N Islands</td>\n",
       "      <td>2001</td>\n",
       "      <td>Causes</td>\n",
       "      <td>Illness (Aids/STD)</td>\n",
       "      <td>Female</td>\n",
       "      <td>0-14</td>\n",
       "      <td>0</td>\n",
       "    </tr>\n",
       "    <tr>\n",
       "      <th>1</th>\n",
       "      <td>A &amp; N Islands</td>\n",
       "      <td>2001</td>\n",
       "      <td>Causes</td>\n",
       "      <td>Bankruptcy or Sudden change in Economic</td>\n",
       "      <td>Female</td>\n",
       "      <td>0-14</td>\n",
       "      <td>0</td>\n",
       "    </tr>\n",
       "    <tr>\n",
       "      <th>2</th>\n",
       "      <td>A &amp; N Islands</td>\n",
       "      <td>2001</td>\n",
       "      <td>Causes</td>\n",
       "      <td>Cancellation/Non-Settlement of Marriage</td>\n",
       "      <td>Female</td>\n",
       "      <td>0-14</td>\n",
       "      <td>0</td>\n",
       "    </tr>\n",
       "  </tbody>\n",
       "</table>\n",
       "</div>"
      ],
      "text/plain": [
       "           State  Year Type_code                                     Type  \\\n",
       "0  A & N Islands  2001    Causes                       Illness (Aids/STD)   \n",
       "1  A & N Islands  2001    Causes  Bankruptcy or Sudden change in Economic   \n",
       "2  A & N Islands  2001    Causes  Cancellation/Non-Settlement of Marriage   \n",
       "\n",
       "   Gender Age_group  Total  \n",
       "0  Female      0-14      0  \n",
       "1  Female      0-14      0  \n",
       "2  Female      0-14      0  "
      ]
     },
     "execution_count": 94,
     "metadata": {},
     "output_type": "execute_result"
    }
   ],
   "source": [
    "df=pd.read_csv('Suicides in India 2001-2012.csv')\n",
    "df.head(3)"
   ]
  },
  {
   "cell_type": "code",
   "execution_count": 95,
   "metadata": {
    "collapsed": false
   },
   "outputs": [
    {
     "data": {
      "text/plain": [
       "(237519, 7)"
      ]
     },
     "execution_count": 95,
     "metadata": {},
     "output_type": "execute_result"
    }
   ],
   "source": [
    "df.shape"
   ]
  },
  {
   "cell_type": "code",
   "execution_count": 4,
   "metadata": {
    "collapsed": false
   },
   "outputs": [
    {
     "data": {
      "text/plain": [
       "Causes                  109200\n",
       "Means_adopted            67200\n",
       "Professional_Profile     49263\n",
       "Education_Status          7296\n",
       "Social_Status             4560\n",
       "Name: Type_code, dtype: int64"
      ]
     },
     "execution_count": 4,
     "metadata": {},
     "output_type": "execute_result"
    }
   ],
   "source": [
    "df.Type_code.value_counts()"
   ]
  },
  {
   "cell_type": "markdown",
   "metadata": {},
   "source": [
    "I started by wondering how the top causes evolved over the 10 years. Since the raw amounts are different, I indexed them versus 2001 totals"
   ]
  },
  {
   "cell_type": "code",
   "execution_count": 5,
   "metadata": {
    "collapsed": false
   },
   "outputs": [],
   "source": [
    "#how have causes evolved over the years? Looking at overall data.\n",
    "causes=df.loc[df['Type_code']=='Causes']\n",
    "causes_total=causes.drop(['Gender', 'Age_group'], axis=1)\n",
    "causes_by_y_state=causes_total.groupby(['State', 'Year', 'Type']).agg('sum')"
   ]
  },
  {
   "cell_type": "code",
   "execution_count": 6,
   "metadata": {
    "collapsed": true
   },
   "outputs": [],
   "source": [
    "causes_by_y_state.reset_index(inplace=True)\n",
    "causes_by_y=causes_by_y_state.groupby(['Year', 'Type']).agg('sum')"
   ]
  },
  {
   "cell_type": "code",
   "execution_count": 7,
   "metadata": {
    "collapsed": true
   },
   "outputs": [],
   "source": [
    "causes_by_y.reset_index(inplace=True)"
   ]
  },
  {
   "cell_type": "code",
   "execution_count": 8,
   "metadata": {
    "collapsed": false
   },
   "outputs": [],
   "source": [
    "def index_cause_totals(total, cause, year, df):\n",
    "    #not super efficient to keep recalculating the index values, but the dataset is 312 rows so my cpu will survive.\n",
    "    #if indexer not available for 2001, use index base of the next year, until and index base exists.\n",
    "    i=0\n",
    "    while(i==0):\n",
    "        try:\n",
    "            indexer=df.loc[(df['Year']==year) & (df['Type']==cause), 'Total'].values\n",
    "            return float(total/indexer)\n",
    "        \n",
    "        except TypeError:\n",
    "            year+=1"
   ]
  },
  {
   "cell_type": "code",
   "execution_count": 13,
   "metadata": {
    "collapsed": false
   },
   "outputs": [],
   "source": [
    "causes_by_y['indexed_total']=causes_by_y.apply(lambda x: index_cause_totals(x['Total'], x['Type'], 2001, causes_by_y), axis=1)"
   ]
  },
  {
   "cell_type": "code",
   "execution_count": 14,
   "metadata": {
    "collapsed": false
   },
   "outputs": [
    {
     "data": {
      "text/html": [
       "<div>\n",
       "<table border=\"1\" class=\"dataframe\">\n",
       "  <thead>\n",
       "    <tr style=\"text-align: right;\">\n",
       "      <th></th>\n",
       "      <th>Year</th>\n",
       "      <th>Type</th>\n",
       "      <th>Total</th>\n",
       "      <th>indexed_total</th>\n",
       "    </tr>\n",
       "  </thead>\n",
       "  <tbody>\n",
       "    <tr>\n",
       "      <th>0</th>\n",
       "      <td>2001</td>\n",
       "      <td>Bankruptcy or Sudden change in Economic</td>\n",
       "      <td>2918</td>\n",
       "      <td>1.0</td>\n",
       "    </tr>\n",
       "    <tr>\n",
       "      <th>1</th>\n",
       "      <td>2001</td>\n",
       "      <td>Cancellation/Non-Settlement of Marriage</td>\n",
       "      <td>924</td>\n",
       "      <td>1.0</td>\n",
       "    </tr>\n",
       "    <tr>\n",
       "      <th>2</th>\n",
       "      <td>2001</td>\n",
       "      <td>Cancer</td>\n",
       "      <td>780</td>\n",
       "      <td>1.0</td>\n",
       "    </tr>\n",
       "  </tbody>\n",
       "</table>\n",
       "</div>"
      ],
      "text/plain": [
       "   Year                                     Type  Total  indexed_total\n",
       "0  2001  Bankruptcy or Sudden change in Economic   2918            1.0\n",
       "1  2001  Cancellation/Non-Settlement of Marriage    924            1.0\n",
       "2  2001                                   Cancer    780            1.0"
      ]
     },
     "execution_count": 14,
     "metadata": {},
     "output_type": "execute_result"
    }
   ],
   "source": [
    "causes_by_y.head(3)"
   ]
  },
  {
   "cell_type": "code",
   "execution_count": 15,
   "metadata": {
    "collapsed": false
   },
   "outputs": [
    {
     "name": "stderr",
     "output_type": "stream",
     "text": [
      "/home/e84605/anaconda2/envs/current2/lib/python3.5/site-packages/ipykernel/__main__.py:2: FutureWarning: sort(columns=....) is deprecated, use sort_values(by=.....)\n",
      "  from ipykernel import kernelapp as app\n"
     ]
    },
    {
     "data": {
      "text/plain": [
       "['Family Problems',\n",
       " 'Other Prolonged Illness',\n",
       " 'Insanity/Mental Illness',\n",
       " 'Love Affairs',\n",
       " 'Bankruptcy or Sudden change in Economic',\n",
       " 'Poverty',\n",
       " 'Dowry Dispute',\n",
       " 'Drug Abuse/Addiction']"
      ]
     },
     "execution_count": 15,
     "metadata": {},
     "output_type": "execute_result"
    }
   ],
   "source": [
    "#keeping only the top 10 causes of suicide, excluding 2 categories with limited information\n",
    "top_5=pd.DataFrame(causes_by_y.groupby(['Type']).agg('sum'))[['Total']].sort(columns='Total', ascending=False).iloc[:10]\n",
    "top_5_list=[x for x in top_5.index if x not in ['Causes Not known', 'Other Causes (Please Specity)']]\n",
    "top_5_list"
   ]
  },
  {
   "cell_type": "code",
   "execution_count": 16,
   "metadata": {
    "collapsed": false
   },
   "outputs": [],
   "source": [
    "causes_by_y_top_5=causes_by_y.loc[causes_by_y.Type.isin(top_5_list), ['Year', 'Type', 'indexed_total']]"
   ]
  },
  {
   "cell_type": "markdown",
   "metadata": {},
   "source": [
    "I needed to get a look at this graphically. Sadly, drug abuses seem to be increasing much faster than all other causes of death. What's going on here?"
   ]
  },
  {
   "cell_type": "code",
   "execution_count": 88,
   "metadata": {
    "collapsed": false
   },
   "outputs": [
    {
     "data": {
      "text/html": []
     },
     "metadata": {},
     "output_type": "display_data"
    },
    {
     "data": {
      "application/javascript": [
       "\n",
       "(function(global) {\n",
       "  function now() {\n",
       "    return new Date();\n",
       "  }\n",
       "\n",
       "  var force = true;\n",
       "\n",
       "  if (typeof (window._bokeh_onload_callbacks) === \"undefined\" || force === true) {\n",
       "    window._bokeh_onload_callbacks = [];\n",
       "    window._bokeh_is_loading = undefined;\n",
       "  }\n",
       "\n",
       "\n",
       "  \n",
       "  if (typeof (window._bokeh_timeout) === \"undefined\" || force === true) {\n",
       "    window._bokeh_timeout = Date.now() + 5000;\n",
       "    window._bokeh_failed_load = false;\n",
       "  }\n",
       "\n",
       "  var NB_LOAD_WARNING = {'data': {'text/html':\n",
       "     \"<div style='background-color: #fdd'>\\n\"+\n",
       "     \"<p>\\n\"+\n",
       "     \"BokehJS does not appear to have successfully loaded. If loading BokehJS from CDN, this \\n\"+\n",
       "     \"may be due to a slow or bad network connection. Possible fixes:\\n\"+\n",
       "     \"</p>\\n\"+\n",
       "     \"<ul>\\n\"+\n",
       "     \"<li>re-rerun `output_notebook()` to attempt to load from CDN again, or</li>\\n\"+\n",
       "     \"<li>use INLINE resources instead, as so:</li>\\n\"+\n",
       "     \"</ul>\\n\"+\n",
       "     \"<code>\\n\"+\n",
       "     \"from bokeh.resources import INLINE\\n\"+\n",
       "     \"output_notebook(resources=INLINE)\\n\"+\n",
       "     \"</code>\\n\"+\n",
       "     \"</div>\"}};\n",
       "\n",
       "  function display_loaded() {\n",
       "    if (window.Bokeh !== undefined) {\n",
       "      document.getElementById(\"\").textContent = \"BokehJS successfully loaded.\";\n",
       "    } else if (Date.now() < window._bokeh_timeout) {\n",
       "      setTimeout(display_loaded, 100)\n",
       "    }\n",
       "  }\n",
       "\n",
       "  function run_callbacks() {\n",
       "    window._bokeh_onload_callbacks.forEach(function(callback) { callback() });\n",
       "    delete window._bokeh_onload_callbacks\n",
       "    console.info(\"Bokeh: all callbacks have finished\");\n",
       "  }\n",
       "\n",
       "  function load_libs(js_urls, callback) {\n",
       "    window._bokeh_onload_callbacks.push(callback);\n",
       "    if (window._bokeh_is_loading > 0) {\n",
       "      console.log(\"Bokeh: BokehJS is being loaded, scheduling callback at\", now());\n",
       "      return null;\n",
       "    }\n",
       "    if (js_urls == null || js_urls.length === 0) {\n",
       "      run_callbacks();\n",
       "      return null;\n",
       "    }\n",
       "    console.log(\"Bokeh: BokehJS not loaded, scheduling load and callback at\", now());\n",
       "    window._bokeh_is_loading = js_urls.length;\n",
       "    for (var i = 0; i < js_urls.length; i++) {\n",
       "      var url = js_urls[i];\n",
       "      var s = document.createElement('script');\n",
       "      s.src = url;\n",
       "      s.async = false;\n",
       "      s.onreadystatechange = s.onload = function() {\n",
       "        window._bokeh_is_loading--;\n",
       "        if (window._bokeh_is_loading === 0) {\n",
       "          console.log(\"Bokeh: all BokehJS libraries loaded\");\n",
       "          run_callbacks()\n",
       "        }\n",
       "      };\n",
       "      s.onerror = function() {\n",
       "        console.warn(\"failed to load library \" + url);\n",
       "      };\n",
       "      console.log(\"Bokeh: injecting script tag for BokehJS library: \", url);\n",
       "      document.getElementsByTagName(\"head\")[0].appendChild(s);\n",
       "    }\n",
       "  };\n",
       "\n",
       "  var js_urls = [\"https://cdn.pydata.org/bokeh/release/bokeh-0.12.4.min.js\", \"https://cdn.pydata.org/bokeh/release/bokeh-widgets-0.12.4.min.js\"];\n",
       "\n",
       "  var inline_js = [\n",
       "    function(Bokeh) {\n",
       "      Bokeh.set_log_level(\"info\");\n",
       "    },\n",
       "    function(Bokeh) {\n",
       "      console.log(\"Bokeh: injecting CSS: https://cdn.pydata.org/bokeh/release/bokeh-0.12.4.min.css\");\n",
       "      Bokeh.embed.inject_css(\"https://cdn.pydata.org/bokeh/release/bokeh-0.12.4.min.css\");\n",
       "      console.log(\"Bokeh: injecting CSS: https://cdn.pydata.org/bokeh/release/bokeh-widgets-0.12.4.min.css\");\n",
       "      Bokeh.embed.inject_css(\"https://cdn.pydata.org/bokeh/release/bokeh-widgets-0.12.4.min.css\");\n",
       "    }\n",
       "  ];\n",
       "\n",
       "  function run_inline_js() {\n",
       "    \n",
       "    if ((window.Bokeh !== undefined) || (force === true)) {\n",
       "      for (var i = 0; i < inline_js.length; i++) {\n",
       "        inline_js[i](window.Bokeh);\n",
       "      }} else if (Date.now() < window._bokeh_timeout) {\n",
       "      setTimeout(run_inline_js, 100);\n",
       "    } else if (!window._bokeh_failed_load) {\n",
       "      console.log(\"Bokeh: BokehJS failed to load within specified timeout.\");\n",
       "      window._bokeh_failed_load = true;\n",
       "    } else if (force !== true) {\n",
       "      var cell = $(document.getElementById(\"\")).parents('.cell').data().cell;\n",
       "      cell.output_area.append_execute_result(NB_LOAD_WARNING)\n",
       "    }\n",
       "\n",
       "  }\n",
       "\n",
       "  if (window._bokeh_is_loading === 0) {\n",
       "    console.log(\"Bokeh: BokehJS loaded, going straight to plotting\");\n",
       "    run_inline_js();\n",
       "  } else {\n",
       "    load_libs(js_urls, function() {\n",
       "      console.log(\"Bokeh: BokehJS plotting callback run at\", now());\n",
       "      run_inline_js();\n",
       "    });\n",
       "  }\n",
       "}(this));"
      ]
     },
     "metadata": {},
     "output_type": "display_data"
    }
   ],
   "source": [
    "from bokeh.plotting import figure, output_notebook, show\n",
    "from bokeh.charts import Line, Bar\n",
    "from bokeh.layouts import row\n",
    "from bokeh.models.widgets import Panel,Tabs\n",
    "from bokeh.models import ranges\n",
    "output_notebook(hide_banner=True)"
   ]
  },
  {
   "cell_type": "code",
   "execution_count": 86,
   "metadata": {
    "collapsed": false
   },
   "outputs": [
    {
     "data": {
      "text/html": [
       "\n",
       "\n",
       "    <div class=\"bk-root\">\n",
       "        <div class=\"bk-plotdiv\" id=\"b10f9637-467e-4ec9-8042-576b9d9dbdad\"></div>\n",
       "    </div>\n",
       "<script type=\"text/javascript\">\n",
       "  \n",
       "  (function(global) {\n",
       "    function now() {\n",
       "      return new Date();\n",
       "    }\n",
       "  \n",
       "    var force = false;\n",
       "  \n",
       "    if (typeof (window._bokeh_onload_callbacks) === \"undefined\" || force === true) {\n",
       "      window._bokeh_onload_callbacks = [];\n",
       "      window._bokeh_is_loading = undefined;\n",
       "    }\n",
       "  \n",
       "  \n",
       "    \n",
       "    if (typeof (window._bokeh_timeout) === \"undefined\" || force === true) {\n",
       "      window._bokeh_timeout = Date.now() + 0;\n",
       "      window._bokeh_failed_load = false;\n",
       "    }\n",
       "  \n",
       "    var NB_LOAD_WARNING = {'data': {'text/html':\n",
       "       \"<div style='background-color: #fdd'>\\n\"+\n",
       "       \"<p>\\n\"+\n",
       "       \"BokehJS does not appear to have successfully loaded. If loading BokehJS from CDN, this \\n\"+\n",
       "       \"may be due to a slow or bad network connection. Possible fixes:\\n\"+\n",
       "       \"</p>\\n\"+\n",
       "       \"<ul>\\n\"+\n",
       "       \"<li>re-rerun `output_notebook()` to attempt to load from CDN again, or</li>\\n\"+\n",
       "       \"<li>use INLINE resources instead, as so:</li>\\n\"+\n",
       "       \"</ul>\\n\"+\n",
       "       \"<code>\\n\"+\n",
       "       \"from bokeh.resources import INLINE\\n\"+\n",
       "       \"output_notebook(resources=INLINE)\\n\"+\n",
       "       \"</code>\\n\"+\n",
       "       \"</div>\"}};\n",
       "  \n",
       "    function display_loaded() {\n",
       "      if (window.Bokeh !== undefined) {\n",
       "        document.getElementById(\"b10f9637-467e-4ec9-8042-576b9d9dbdad\").textContent = \"BokehJS successfully loaded.\";\n",
       "      } else if (Date.now() < window._bokeh_timeout) {\n",
       "        setTimeout(display_loaded, 100)\n",
       "      }\n",
       "    }\n",
       "  \n",
       "    function run_callbacks() {\n",
       "      window._bokeh_onload_callbacks.forEach(function(callback) { callback() });\n",
       "      delete window._bokeh_onload_callbacks\n",
       "      console.info(\"Bokeh: all callbacks have finished\");\n",
       "    }\n",
       "  \n",
       "    function load_libs(js_urls, callback) {\n",
       "      window._bokeh_onload_callbacks.push(callback);\n",
       "      if (window._bokeh_is_loading > 0) {\n",
       "        console.log(\"Bokeh: BokehJS is being loaded, scheduling callback at\", now());\n",
       "        return null;\n",
       "      }\n",
       "      if (js_urls == null || js_urls.length === 0) {\n",
       "        run_callbacks();\n",
       "        return null;\n",
       "      }\n",
       "      console.log(\"Bokeh: BokehJS not loaded, scheduling load and callback at\", now());\n",
       "      window._bokeh_is_loading = js_urls.length;\n",
       "      for (var i = 0; i < js_urls.length; i++) {\n",
       "        var url = js_urls[i];\n",
       "        var s = document.createElement('script');\n",
       "        s.src = url;\n",
       "        s.async = false;\n",
       "        s.onreadystatechange = s.onload = function() {\n",
       "          window._bokeh_is_loading--;\n",
       "          if (window._bokeh_is_loading === 0) {\n",
       "            console.log(\"Bokeh: all BokehJS libraries loaded\");\n",
       "            run_callbacks()\n",
       "          }\n",
       "        };\n",
       "        s.onerror = function() {\n",
       "          console.warn(\"failed to load library \" + url);\n",
       "        };\n",
       "        console.log(\"Bokeh: injecting script tag for BokehJS library: \", url);\n",
       "        document.getElementsByTagName(\"head\")[0].appendChild(s);\n",
       "      }\n",
       "    };var element = document.getElementById(\"b10f9637-467e-4ec9-8042-576b9d9dbdad\");\n",
       "    if (element == null) {\n",
       "      console.log(\"Bokeh: ERROR: autoload.js configured with elementid 'b10f9637-467e-4ec9-8042-576b9d9dbdad' but no matching script tag was found. \")\n",
       "      return false;\n",
       "    }\n",
       "  \n",
       "    var js_urls = [];\n",
       "  \n",
       "    var inline_js = [\n",
       "      function(Bokeh) {\n",
       "        (function() {\n",
       "          var fn = function() {\n",
       "            var docs_json = {\"53c2accb-a603-44b2-b8fb-a6f7a952686a\":{\"roots\":{\"references\":[{\"attributes\":{\"data_source\":{\"id\":\"80aecebe-9a55-4357-8b2c-4cf5909f1a27\",\"type\":\"ColumnDataSource\"},\"glyph\":{\"id\":\"fe223260-84d1-4bf6-8a07-dc7e76ca2f8b\",\"type\":\"Line\"},\"hover_glyph\":null,\"nonselection_glyph\":null,\"selection_glyph\":null},\"id\":\"33d4f9a9-e527-4031-9bc5-9c810946c009\",\"type\":\"GlyphRenderer\"},{\"attributes\":{\"plot\":{\"id\":\"9abfff23-8608-4e6f-9f9b-4a132871e9e5\",\"subtype\":\"Chart\",\"type\":\"Plot\"}},\"id\":\"a0068056-c727-42f7-a0e8-dbc5c9b968df\",\"type\":\"PanTool\"},{\"attributes\":{\"callback\":null,\"end\":3.0378058098152105,\"start\":0.5982803636026994},\"id\":\"e4808c3d-18b4-4c3c-81e7-6a3e6b57943b\",\"type\":\"Range1d\"},{\"attributes\":{\"axis_label\":\"Suicides, indexed at 2001 values\",\"formatter\":{\"id\":\"d7d6d9ca-afa9-471b-9edb-294f44a84c95\",\"type\":\"BasicTickFormatter\"},\"plot\":{\"id\":\"9abfff23-8608-4e6f-9f9b-4a132871e9e5\",\"subtype\":\"Chart\",\"type\":\"Plot\"},\"ticker\":{\"id\":\"4bf2638d-f60f-419b-a6d9-8c42584b8985\",\"type\":\"BasicTicker\"}},\"id\":\"0a9cbf89-9919-4c76-aeae-e25d7833501d\",\"type\":\"LinearAxis\"},{\"attributes\":{\"data_source\":{\"id\":\"311f176d-3cb2-4fbb-bf64-a59d3f784b0b\",\"type\":\"ColumnDataSource\"},\"glyph\":{\"id\":\"e03ff36c-5440-47e7-816d-643f57580233\",\"type\":\"Line\"},\"hover_glyph\":null,\"nonselection_glyph\":null,\"selection_glyph\":null},\"id\":\"288133e2-3cdd-4237-9f4b-2ccf1946f0bb\",\"type\":\"GlyphRenderer\"},{\"attributes\":{\"line_color\":{\"value\":\"#5ab738\"},\"line_width\":{\"value\":2},\"x\":{\"field\":\"x_values\"},\"y\":{\"field\":\"y_values\"}},\"id\":\"d38ece0d-dafc-4994-99ab-f5752dc82ee2\",\"type\":\"Line\"},{\"attributes\":{\"label\":{\"value\":\"Insanity/Mental Illness\"},\"renderers\":[{\"id\":\"33d4f9a9-e527-4031-9bc5-9c810946c009\",\"type\":\"GlyphRenderer\"}]},\"id\":\"e15979f4-58a8-4d90-8cce-c262d2dc0ce2\",\"type\":\"LegendItem\"},{\"attributes\":{\"label\":{\"value\":\"Dowry Dispute\"},\"renderers\":[{\"id\":\"30ddffd2-45dc-45f6-ae05-778910cc2984\",\"type\":\"GlyphRenderer\"}]},\"id\":\"465be4e9-025b-4bdd-80e3-9d123f4ed1b3\",\"type\":\"LegendItem\"},{\"attributes\":{\"plot\":null,\"text\":\"Drug Abuses Sky-Rocket\"},\"id\":\"e243b997-affa-48bf-8e62-498d82e6e69c\",\"type\":\"Title\"},{\"attributes\":{\"data_source\":{\"id\":\"f99b47ce-ac85-442b-bbe2-cc163dde712e\",\"type\":\"ColumnDataSource\"},\"glyph\":{\"id\":\"c3bca1cc-ef72-4f56-8070-ef2963cc7a5b\",\"type\":\"Line\"},\"hover_glyph\":null,\"nonselection_glyph\":null,\"selection_glyph\":null},\"id\":\"2fe9402c-71cb-483b-abee-da8e6409196d\",\"type\":\"GlyphRenderer\"},{\"attributes\":{},\"id\":\"fb2ce88e-3888-46c4-aa8c-c98378885eca\",\"type\":\"ToolEvents\"},{\"attributes\":{\"line_color\":{\"value\":\"#f22c40\"},\"line_width\":{\"value\":2},\"x\":{\"field\":\"x_values\"},\"y\":{\"field\":\"y_values\"}},\"id\":\"e21cab99-ed8a-43f6-8135-1005ec818744\",\"type\":\"Line\"},{\"attributes\":{\"label\":{\"value\":\"Bankruptcy or Sudden change in Economic\"},\"renderers\":[{\"id\":\"2fe9402c-71cb-483b-abee-da8e6409196d\",\"type\":\"GlyphRenderer\"}]},\"id\":\"c613a09a-047d-4f9e-86a3-ec2bc8c3e20c\",\"type\":\"LegendItem\"},{\"attributes\":{\"callback\":null,\"column_names\":[\"y_values\",\"x_values\"],\"data\":{\"Type\":[\"Poverty\",\"Poverty\",\"Poverty\",\"Poverty\",\"Poverty\",\"Poverty\",\"Poverty\",\"Poverty\",\"Poverty\",\"Poverty\",\"Poverty\",\"Poverty\"],\"chart_index\":[{\"Type\":\"Poverty\"},{\"Type\":\"Poverty\"},{\"Type\":\"Poverty\"},{\"Type\":\"Poverty\"},{\"Type\":\"Poverty\"},{\"Type\":\"Poverty\"},{\"Type\":\"Poverty\"},{\"Type\":\"Poverty\"},{\"Type\":\"Poverty\"},{\"Type\":\"Poverty\"},{\"Type\":\"Poverty\"},{\"Type\":\"Poverty\"}],\"x_values\":[2001,2002,2003,2004,2005,2006,2007,2008,2009,2010,2011,2012],\"y_values\":{\"__ndarray__\":\"AAAAAAAA8D/GnOu+Z7vuP1M0u9gKxPA/Rm4e7Utc9T8HkspDyfzvP7Ywz40Ml/A/btghk8uh8T+6qLD9Wt7yP/wTtQHTv/I/Kff3Dz0g8z9VTUa06aXsPxYrJ1LWwuw/\",\"dtype\":\"float64\",\"shape\":[12]}}},\"id\":\"9af6535f-2d7f-4a61-9637-26b2abea2712\",\"type\":\"ColumnDataSource\"},{\"attributes\":{\"callback\":null,\"column_names\":[\"y_values\",\"x_values\"],\"data\":{\"Type\":[\"Insanity/Mental Illness\",\"Insanity/Mental Illness\",\"Insanity/Mental Illness\",\"Insanity/Mental Illness\",\"Insanity/Mental Illness\",\"Insanity/Mental Illness\",\"Insanity/Mental Illness\",\"Insanity/Mental Illness\",\"Insanity/Mental Illness\",\"Insanity/Mental Illness\",\"Insanity/Mental Illness\",\"Insanity/Mental Illness\"],\"chart_index\":[{\"Type\":\"Insanity/Mental Illness\"},{\"Type\":\"Insanity/Mental Illness\"},{\"Type\":\"Insanity/Mental Illness\"},{\"Type\":\"Insanity/Mental Illness\"},{\"Type\":\"Insanity/Mental Illness\"},{\"Type\":\"Insanity/Mental Illness\"},{\"Type\":\"Insanity/Mental Illness\"},{\"Type\":\"Insanity/Mental Illness\"},{\"Type\":\"Insanity/Mental Illness\"},{\"Type\":\"Insanity/Mental Illness\"},{\"Type\":\"Insanity/Mental Illness\"},{\"Type\":\"Insanity/Mental Illness\"}],\"x_values\":[2001,2002,2003,2004,2005,2006,2007,2008,2009,2010,2011,2012],\"y_values\":{\"__ndarray__\":\"AAAAAAAA8D86eWVn8ZbxPw1w3n9ZAPQ/yxvitU9w8z+uazA21MT0Pwt3jsIu+fU/WZERJ9GX9z9Z9xIXeML3P7ugYVOmIfc/qoI5ThHa+T96IRH8fAr4P+fb7AozOPU/\",\"dtype\":\"float64\",\"shape\":[12]}}},\"id\":\"80aecebe-9a55-4357-8b2c-4cf5909f1a27\",\"type\":\"ColumnDataSource\"},{\"attributes\":{\"label\":{\"value\":\"Love Affairs\"},\"renderers\":[{\"id\":\"288133e2-3cdd-4237-9f4b-2ccf1946f0bb\",\"type\":\"GlyphRenderer\"}]},\"id\":\"3ae21eaa-3de7-440d-86c0-2f7900f6d6a8\",\"type\":\"LegendItem\"},{\"attributes\":{\"callback\":null,\"column_names\":[\"y_values\",\"x_values\"],\"data\":{\"Type\":[\"Other Prolonged Illness\",\"Other Prolonged Illness\",\"Other Prolonged Illness\",\"Other Prolonged Illness\",\"Other Prolonged Illness\",\"Other Prolonged Illness\",\"Other Prolonged Illness\",\"Other Prolonged Illness\",\"Other Prolonged Illness\",\"Other Prolonged Illness\",\"Other Prolonged Illness\",\"Other Prolonged Illness\"],\"chart_index\":[{\"Type\":\"Other Prolonged Illness\"},{\"Type\":\"Other Prolonged Illness\"},{\"Type\":\"Other Prolonged Illness\"},{\"Type\":\"Other Prolonged Illness\"},{\"Type\":\"Other Prolonged Illness\"},{\"Type\":\"Other Prolonged Illness\"},{\"Type\":\"Other Prolonged Illness\"},{\"Type\":\"Other Prolonged Illness\"},{\"Type\":\"Other Prolonged Illness\"},{\"Type\":\"Other Prolonged Illness\"},{\"Type\":\"Other Prolonged Illness\"},{\"Type\":\"Other Prolonged Illness\"}],\"x_values\":[2001,2002,2003,2004,2005,2006,2007,2008,2009,2010,2011,2012],\"y_values\":{\"__ndarray__\":\"AAAAAAAA8D8d/JXjfVrxP9caaCE9YO8/6qQ9ADNl8D/Tn9TpDr3tP45yYJhEjfA/7sp9rLWB8D/K7o+u0rTwP+5g/g7OFPA/AevT7cMZ8T98ad8JKzXwP2YjSRyagO8/\",\"dtype\":\"float64\",\"shape\":[12]}}},\"id\":\"e309f900-2b05-4306-855b-8a9bc2540250\",\"type\":\"ColumnDataSource\"},{\"attributes\":{\"callback\":null,\"column_names\":[\"y_values\",\"x_values\"],\"data\":{\"Type\":[\"Family Problems\",\"Family Problems\",\"Family Problems\",\"Family Problems\",\"Family Problems\",\"Family Problems\",\"Family Problems\",\"Family Problems\",\"Family Problems\",\"Family Problems\",\"Family Problems\",\"Family Problems\"],\"chart_index\":[{\"Type\":\"Family Problems\"},{\"Type\":\"Family Problems\"},{\"Type\":\"Family Problems\"},{\"Type\":\"Family Problems\"},{\"Type\":\"Family Problems\"},{\"Type\":\"Family Problems\"},{\"Type\":\"Family Problems\"},{\"Type\":\"Family Problems\"},{\"Type\":\"Family Problems\"},{\"Type\":\"Family Problems\"},{\"Type\":\"Family Problems\"},{\"Type\":\"Family Problems\"}],\"x_values\":[2001,2002,2003,2004,2005,2006,2007,2008,2009,2010,2011,2012],\"y_values\":{\"__ndarray__\":\"AAAAAAAA8D/sCEsbeJzwP2zmZojLa/E/uDq9fhPo8D+LlP6y0djwPzMiUpxfYPQ/b88z435c8z828dlD3rfzPyKWw5KS6/M/o7xaJk4Y9T967ir2z8r1P9gmh/buY/Q/\",\"dtype\":\"float64\",\"shape\":[12]}}},\"id\":\"96f267df-111a-4209-9346-24935cc4e96a\",\"type\":\"ColumnDataSource\"},{\"attributes\":{\"line_color\":{\"value\":\"#f22c40\"},\"line_width\":{\"value\":2},\"x\":{\"field\":\"x_values\"},\"y\":{\"field\":\"y_values\"}},\"id\":\"c3bca1cc-ef72-4f56-8070-ef2963cc7a5b\",\"type\":\"Line\"},{\"attributes\":{\"dimension\":1,\"plot\":{\"id\":\"9abfff23-8608-4e6f-9f9b-4a132871e9e5\",\"subtype\":\"Chart\",\"type\":\"Plot\"},\"ticker\":{\"id\":\"4bf2638d-f60f-419b-a6d9-8c42584b8985\",\"type\":\"BasicTicker\"}},\"id\":\"1eb4e24f-06e9-4dc6-ab5a-059925787c64\",\"type\":\"Grid\"},{\"attributes\":{},\"id\":\"d7d6d9ca-afa9-471b-9edb-294f44a84c95\",\"type\":\"BasicTickFormatter\"},{\"attributes\":{\"line_color\":{\"value\":\"#df5320\"},\"line_width\":{\"value\":2},\"x\":{\"field\":\"x_values\"},\"y\":{\"field\":\"y_values\"}},\"id\":\"d1d239b7-1f42-45af-a6ed-c8135867a7f5\",\"type\":\"Line\"},{\"attributes\":{\"callback\":null,\"column_names\":[\"y_values\",\"x_values\"],\"data\":{\"Type\":[\"Bankruptcy or Sudden change in Economic\",\"Bankruptcy or Sudden change in Economic\",\"Bankruptcy or Sudden change in Economic\",\"Bankruptcy or Sudden change in Economic\",\"Bankruptcy or Sudden change in Economic\",\"Bankruptcy or Sudden change in Economic\",\"Bankruptcy or Sudden change in Economic\",\"Bankruptcy or Sudden change in Economic\",\"Bankruptcy or Sudden change in Economic\",\"Bankruptcy or Sudden change in Economic\",\"Bankruptcy or Sudden change in Economic\"],\"chart_index\":[{\"Type\":\"Bankruptcy or Sudden change in Economic\"},{\"Type\":\"Bankruptcy or Sudden change in Economic\"},{\"Type\":\"Bankruptcy or Sudden change in Economic\"},{\"Type\":\"Bankruptcy or Sudden change in Economic\"},{\"Type\":\"Bankruptcy or Sudden change in Economic\"},{\"Type\":\"Bankruptcy or Sudden change in Economic\"},{\"Type\":\"Bankruptcy or Sudden change in Economic\"},{\"Type\":\"Bankruptcy or Sudden change in Economic\"},{\"Type\":\"Bankruptcy or Sudden change in Economic\"},{\"Type\":\"Bankruptcy or Sudden change in Economic\"},{\"Type\":\"Bankruptcy or Sudden change in Economic\"}],\"x_values\":[2001,2003,2004,2005,2006,2007,2008,2009,2010,2011,2012],\"y_values\":{\"__ndarray__\":\"AAAAAAAA8D+IozTcA27vP8XqImOJy/A/wqTXgXT48D+BYL6xSTTyPwIyEeoOKfI/PK7lEf5I8D8tCiLKgFbxP4BC575Ate0/yxlflj1b8D+2Rl8bDNnpPw==\",\"dtype\":\"float64\",\"shape\":[11]}}},\"id\":\"f99b47ce-ac85-442b-bbe2-cc163dde712e\",\"type\":\"ColumnDataSource\"},{\"attributes\":{\"label\":{\"value\":\"Drug Abuse/Addiction\"},\"renderers\":[{\"id\":\"1492a29c-f8ad-4f40-8a10-aef58c1ba959\",\"type\":\"GlyphRenderer\"}]},\"id\":\"f093efb2-77db-482c-bcc7-8fb5c5e2972a\",\"type\":\"LegendItem\"},{\"attributes\":{\"line_color\":{\"value\":\"#c33ff3\"},\"line_width\":{\"value\":2},\"x\":{\"field\":\"x_values\"},\"y\":{\"field\":\"y_values\"}},\"id\":\"e03ff36c-5440-47e7-816d-643f57580233\",\"type\":\"Line\"},{\"attributes\":{\"overlay\":{\"id\":\"651faf99-23d0-4ccc-9df4-2706c51c23c8\",\"type\":\"BoxAnnotation\"},\"plot\":{\"id\":\"9abfff23-8608-4e6f-9f9b-4a132871e9e5\",\"subtype\":\"Chart\",\"type\":\"Plot\"}},\"id\":\"ad46d667-91fd-4037-bb87-888621670a9c\",\"type\":\"BoxZoomTool\"},{\"attributes\":{\"data_source\":{\"id\":\"e309f900-2b05-4306-855b-8a9bc2540250\",\"type\":\"ColumnDataSource\"},\"glyph\":{\"id\":\"e21cab99-ed8a-43f6-8135-1005ec818744\",\"type\":\"Line\"},\"hover_glyph\":null,\"nonselection_glyph\":null,\"selection_glyph\":null},\"id\":\"b54a6524-008f-4f4c-bb4c-1a29dde7b34b\",\"type\":\"GlyphRenderer\"},{\"attributes\":{\"callback\":null,\"column_names\":[\"y_values\",\"x_values\"],\"data\":{\"Type\":[\"Dowry Dispute\",\"Dowry Dispute\",\"Dowry Dispute\",\"Dowry Dispute\",\"Dowry Dispute\",\"Dowry Dispute\",\"Dowry Dispute\",\"Dowry Dispute\",\"Dowry Dispute\",\"Dowry Dispute\",\"Dowry Dispute\",\"Dowry Dispute\"],\"chart_index\":[{\"Type\":\"Dowry Dispute\"},{\"Type\":\"Dowry Dispute\"},{\"Type\":\"Dowry Dispute\"},{\"Type\":\"Dowry Dispute\"},{\"Type\":\"Dowry Dispute\"},{\"Type\":\"Dowry Dispute\"},{\"Type\":\"Dowry Dispute\"},{\"Type\":\"Dowry Dispute\"},{\"Type\":\"Dowry Dispute\"},{\"Type\":\"Dowry Dispute\"},{\"Type\":\"Dowry Dispute\"},{\"Type\":\"Dowry Dispute\"}],\"x_values\":[2001,2002,2003,2004,2005,2006,2007,2008,2009,2010,2011,2012],\"y_values\":{\"__ndarray__\":\"AAAAAAAA8D+KOnQEbfLvP4eOoE3+N/A/7JhJgxN88T/7mSYGNSrvP4B12tZN9+4/FwVYp23d9D//KZakyCL0Px8CugVDXPM/ixf3JRuA9D83662U1Xf1P/1hXtV+puk/\",\"dtype\":\"float64\",\"shape\":[12]}}},\"id\":\"fefc950a-7cae-4a46-863c-967cff2675db\",\"type\":\"ColumnDataSource\"},{\"attributes\":{\"line_color\":{\"value\":\"#407ee7\"},\"line_width\":{\"value\":2},\"x\":{\"field\":\"x_values\"},\"y\":{\"field\":\"y_values\"}},\"id\":\"40d673ef-4615-4289-9c94-b20f6d9628ce\",\"type\":\"Line\"},{\"attributes\":{\"plot\":{\"id\":\"9abfff23-8608-4e6f-9f9b-4a132871e9e5\",\"subtype\":\"Chart\",\"type\":\"Plot\"}},\"id\":\"da910edf-bd97-4be9-a617-f52553a391e8\",\"type\":\"HelpTool\"},{\"attributes\":{\"callback\":null,\"column_names\":[\"y_values\",\"x_values\"],\"data\":{\"Type\":[\"Drug Abuse/Addiction\",\"Drug Abuse/Addiction\",\"Drug Abuse/Addiction\",\"Drug Abuse/Addiction\",\"Drug Abuse/Addiction\",\"Drug Abuse/Addiction\",\"Drug Abuse/Addiction\",\"Drug Abuse/Addiction\",\"Drug Abuse/Addiction\",\"Drug Abuse/Addiction\",\"Drug Abuse/Addiction\",\"Drug Abuse/Addiction\"],\"chart_index\":[{\"Type\":\"Drug Abuse/Addiction\"},{\"Type\":\"Drug Abuse/Addiction\"},{\"Type\":\"Drug Abuse/Addiction\"},{\"Type\":\"Drug Abuse/Addiction\"},{\"Type\":\"Drug Abuse/Addiction\"},{\"Type\":\"Drug Abuse/Addiction\"},{\"Type\":\"Drug Abuse/Addiction\"},{\"Type\":\"Drug Abuse/Addiction\"},{\"Type\":\"Drug Abuse/Addiction\"},{\"Type\":\"Drug Abuse/Addiction\"},{\"Type\":\"Drug Abuse/Addiction\"},{\"Type\":\"Drug Abuse/Addiction\"}],\"x_values\":[2001,2002,2003,2004,2005,2006,2007,2008,2009,2010,2011,2012],\"y_values\":{\"__ndarray__\":\"AAAAAAAA8D/iRdVRilbzP3RAmvL28vM/Z0xP9wfO9T8tF0CFMP72PyayXAAVwvg/q6MUrTZj+j8UmHRqHuT+P+8kXlQdpQBAU7TajOnpAkB75MNhJrIEQMWLqqMUrQZA\",\"dtype\":\"float64\",\"shape\":[12]}}},\"id\":\"a29f579a-8770-422c-8d2e-a2f2d3d55411\",\"type\":\"ColumnDataSource\"},{\"attributes\":{\"label\":{\"value\":\"Poverty\"},\"renderers\":[{\"id\":\"72f29a9e-f441-4594-b1b0-a8e919b9f3c2\",\"type\":\"GlyphRenderer\"}]},\"id\":\"f4be888a-03c1-4927-acdc-7991fca1c36e\",\"type\":\"LegendItem\"},{\"attributes\":{\"label\":{\"value\":\"Family Problems\"},\"renderers\":[{\"id\":\"9b5e11f4-7fd5-4a30-b948-a753b0f684c8\",\"type\":\"GlyphRenderer\"}]},\"id\":\"caf4fd1c-d295-48aa-b1e1-82396b3ec42d\",\"type\":\"LegendItem\"},{\"attributes\":{},\"id\":\"778e3371-351a-4a7b-b255-8078807b0ee0\",\"type\":\"BasicTickFormatter\"},{\"attributes\":{\"plot\":{\"id\":\"9abfff23-8608-4e6f-9f9b-4a132871e9e5\",\"subtype\":\"Chart\",\"type\":\"Plot\"}},\"id\":\"8a1fd168-e76a-494e-a971-8fdd1337ef48\",\"type\":\"ResetTool\"},{\"attributes\":{\"line_color\":{\"value\":\"#00ad9c\"},\"line_width\":{\"value\":2},\"x\":{\"field\":\"x_values\"},\"y\":{\"field\":\"y_values\"}},\"id\":\"fe223260-84d1-4bf6-8a07-dc7e76ca2f8b\",\"type\":\"Line\"},{\"attributes\":{\"below\":[{\"id\":\"21d2b7f1-1ed1-460e-86cb-c75085b395da\",\"type\":\"LinearAxis\"}],\"css_classes\":null,\"left\":[{\"id\":\"0a9cbf89-9919-4c76-aeae-e25d7833501d\",\"type\":\"LinearAxis\"}],\"renderers\":[{\"id\":\"651faf99-23d0-4ccc-9df4-2706c51c23c8\",\"type\":\"BoxAnnotation\"},{\"id\":\"2fe9402c-71cb-483b-abee-da8e6409196d\",\"type\":\"GlyphRenderer\"},{\"id\":\"30ddffd2-45dc-45f6-ae05-778910cc2984\",\"type\":\"GlyphRenderer\"},{\"id\":\"1492a29c-f8ad-4f40-8a10-aef58c1ba959\",\"type\":\"GlyphRenderer\"},{\"id\":\"9b5e11f4-7fd5-4a30-b948-a753b0f684c8\",\"type\":\"GlyphRenderer\"},{\"id\":\"33d4f9a9-e527-4031-9bc5-9c810946c009\",\"type\":\"GlyphRenderer\"},{\"id\":\"288133e2-3cdd-4237-9f4b-2ccf1946f0bb\",\"type\":\"GlyphRenderer\"},{\"id\":\"b54a6524-008f-4f4c-bb4c-1a29dde7b34b\",\"type\":\"GlyphRenderer\"},{\"id\":\"72f29a9e-f441-4594-b1b0-a8e919b9f3c2\",\"type\":\"GlyphRenderer\"},{\"id\":\"2d161ca1-9365-455a-9680-d599cd47219b\",\"type\":\"Legend\"},{\"id\":\"21d2b7f1-1ed1-460e-86cb-c75085b395da\",\"type\":\"LinearAxis\"},{\"id\":\"0a9cbf89-9919-4c76-aeae-e25d7833501d\",\"type\":\"LinearAxis\"},{\"id\":\"d2161a26-ea6a-4ecd-b29c-10e4dc2e6425\",\"type\":\"Grid\"},{\"id\":\"1eb4e24f-06e9-4dc6-ab5a-059925787c64\",\"type\":\"Grid\"}],\"title\":{\"id\":\"e243b997-affa-48bf-8e62-498d82e6e69c\",\"type\":\"Title\"},\"tool_events\":{\"id\":\"fb2ce88e-3888-46c4-aa8c-c98378885eca\",\"type\":\"ToolEvents\"},\"toolbar\":{\"id\":\"3f23ace6-e9fd-40e4-a655-ca382df0c8d7\",\"type\":\"Toolbar\"},\"toolbar_location\":null,\"width\":800,\"x_mapper_type\":\"auto\",\"x_range\":{\"id\":\"2ffa56a7-0390-4270-8550-2f941dd8e0bd\",\"type\":\"Range1d\"},\"y_mapper_type\":\"auto\",\"y_range\":{\"id\":\"e4808c3d-18b4-4c3c-81e7-6a3e6b57943b\",\"type\":\"Range1d\"}},\"id\":\"9abfff23-8608-4e6f-9f9b-4a132871e9e5\",\"subtype\":\"Chart\",\"type\":\"Plot\"},{\"attributes\":{\"plot\":{\"id\":\"9abfff23-8608-4e6f-9f9b-4a132871e9e5\",\"subtype\":\"Chart\",\"type\":\"Plot\"}},\"id\":\"0f66283d-0565-44a0-b76c-40975f3008b8\",\"type\":\"SaveTool\"},{\"attributes\":{\"line_color\":{\"value\":\"#5ab738\"},\"line_width\":{\"value\":2},\"x\":{\"field\":\"x_values\"},\"y\":{\"field\":\"y_values\"}},\"id\":\"2da1e82f-a510-41c4-95fc-046d58d707e3\",\"type\":\"Line\"},{\"attributes\":{},\"id\":\"4bf2638d-f60f-419b-a6d9-8c42584b8985\",\"type\":\"BasicTicker\"},{\"attributes\":{\"plot\":{\"id\":\"9abfff23-8608-4e6f-9f9b-4a132871e9e5\",\"subtype\":\"Chart\",\"type\":\"Plot\"}},\"id\":\"fb86e87a-8aec-46bd-95b9-dfe301927480\",\"type\":\"WheelZoomTool\"},{\"attributes\":{\"items\":[{\"id\":\"c613a09a-047d-4f9e-86a3-ec2bc8c3e20c\",\"type\":\"LegendItem\"},{\"id\":\"465be4e9-025b-4bdd-80e3-9d123f4ed1b3\",\"type\":\"LegendItem\"},{\"id\":\"f093efb2-77db-482c-bcc7-8fb5c5e2972a\",\"type\":\"LegendItem\"},{\"id\":\"caf4fd1c-d295-48aa-b1e1-82396b3ec42d\",\"type\":\"LegendItem\"},{\"id\":\"e15979f4-58a8-4d90-8cce-c262d2dc0ce2\",\"type\":\"LegendItem\"},{\"id\":\"3ae21eaa-3de7-440d-86c0-2f7900f6d6a8\",\"type\":\"LegendItem\"},{\"id\":\"db670cab-e154-47fc-bec3-f720fc6f9295\",\"type\":\"LegendItem\"},{\"id\":\"f4be888a-03c1-4927-acdc-7991fca1c36e\",\"type\":\"LegendItem\"}],\"location\":\"top_left\",\"plot\":{\"id\":\"9abfff23-8608-4e6f-9f9b-4a132871e9e5\",\"subtype\":\"Chart\",\"type\":\"Plot\"}},\"id\":\"2d161ca1-9365-455a-9680-d599cd47219b\",\"type\":\"Legend\"},{\"attributes\":{\"label\":{\"value\":\"Other Prolonged Illness\"},\"renderers\":[{\"id\":\"b54a6524-008f-4f4c-bb4c-1a29dde7b34b\",\"type\":\"GlyphRenderer\"}]},\"id\":\"db670cab-e154-47fc-bec3-f720fc6f9295\",\"type\":\"LegendItem\"},{\"attributes\":{\"data_source\":{\"id\":\"96f267df-111a-4209-9346-24935cc4e96a\",\"type\":\"ColumnDataSource\"},\"glyph\":{\"id\":\"d1d239b7-1f42-45af-a6ed-c8135867a7f5\",\"type\":\"Line\"},\"hover_glyph\":null,\"nonselection_glyph\":null,\"selection_glyph\":null},\"id\":\"9b5e11f4-7fd5-4a30-b948-a753b0f684c8\",\"type\":\"GlyphRenderer\"},{\"attributes\":{\"data_source\":{\"id\":\"9af6535f-2d7f-4a61-9637-26b2abea2712\",\"type\":\"ColumnDataSource\"},\"glyph\":{\"id\":\"2da1e82f-a510-41c4-95fc-046d58d707e3\",\"type\":\"Line\"},\"hover_glyph\":null,\"nonselection_glyph\":null,\"selection_glyph\":null},\"id\":\"72f29a9e-f441-4594-b1b0-a8e919b9f3c2\",\"type\":\"GlyphRenderer\"},{\"attributes\":{\"active_drag\":\"auto\",\"active_scroll\":\"auto\",\"active_tap\":\"auto\",\"tools\":[{\"id\":\"a0068056-c727-42f7-a0e8-dbc5c9b968df\",\"type\":\"PanTool\"},{\"id\":\"fb86e87a-8aec-46bd-95b9-dfe301927480\",\"type\":\"WheelZoomTool\"},{\"id\":\"ad46d667-91fd-4037-bb87-888621670a9c\",\"type\":\"BoxZoomTool\"},{\"id\":\"0f66283d-0565-44a0-b76c-40975f3008b8\",\"type\":\"SaveTool\"},{\"id\":\"8a1fd168-e76a-494e-a971-8fdd1337ef48\",\"type\":\"ResetTool\"},{\"id\":\"da910edf-bd97-4be9-a617-f52553a391e8\",\"type\":\"HelpTool\"}]},\"id\":\"3f23ace6-e9fd-40e4-a655-ca382df0c8d7\",\"type\":\"Toolbar\"},{\"attributes\":{\"bottom_units\":\"screen\",\"fill_alpha\":{\"value\":0.5},\"fill_color\":{\"value\":\"lightgrey\"},\"left_units\":\"screen\",\"level\":\"overlay\",\"line_alpha\":{\"value\":1.0},\"line_color\":{\"value\":\"black\"},\"line_dash\":[4,4],\"line_width\":{\"value\":2},\"plot\":null,\"render_mode\":\"css\",\"right_units\":\"screen\",\"top_units\":\"screen\"},\"id\":\"651faf99-23d0-4ccc-9df4-2706c51c23c8\",\"type\":\"BoxAnnotation\"},{\"attributes\":{\"axis_label\":\"Year\",\"formatter\":{\"id\":\"778e3371-351a-4a7b-b255-8078807b0ee0\",\"type\":\"BasicTickFormatter\"},\"plot\":{\"id\":\"9abfff23-8608-4e6f-9f9b-4a132871e9e5\",\"subtype\":\"Chart\",\"type\":\"Plot\"},\"ticker\":{\"id\":\"ef558ec3-adca-4a08-8378-ee9e04cac46d\",\"type\":\"BasicTicker\"}},\"id\":\"21d2b7f1-1ed1-460e-86cb-c75085b395da\",\"type\":\"LinearAxis\"},{\"attributes\":{\"data_source\":{\"id\":\"fefc950a-7cae-4a46-863c-967cff2675db\",\"type\":\"ColumnDataSource\"},\"glyph\":{\"id\":\"d38ece0d-dafc-4994-99ab-f5752dc82ee2\",\"type\":\"Line\"},\"hover_glyph\":null,\"nonselection_glyph\":null,\"selection_glyph\":null},\"id\":\"30ddffd2-45dc-45f6-ae05-778910cc2984\",\"type\":\"GlyphRenderer\"},{\"attributes\":{\"plot\":{\"id\":\"9abfff23-8608-4e6f-9f9b-4a132871e9e5\",\"subtype\":\"Chart\",\"type\":\"Plot\"},\"ticker\":{\"id\":\"ef558ec3-adca-4a08-8378-ee9e04cac46d\",\"type\":\"BasicTicker\"}},\"id\":\"d2161a26-ea6a-4ecd-b29c-10e4dc2e6425\",\"type\":\"Grid\"},{\"attributes\":{\"callback\":null,\"column_names\":[\"y_values\",\"x_values\"],\"data\":{\"Type\":[\"Love Affairs\",\"Love Affairs\",\"Love Affairs\",\"Love Affairs\",\"Love Affairs\",\"Love Affairs\",\"Love Affairs\",\"Love Affairs\",\"Love Affairs\",\"Love Affairs\",\"Love Affairs\",\"Love Affairs\"],\"chart_index\":[{\"Type\":\"Love Affairs\"},{\"Type\":\"Love Affairs\"},{\"Type\":\"Love Affairs\"},{\"Type\":\"Love Affairs\"},{\"Type\":\"Love Affairs\"},{\"Type\":\"Love Affairs\"},{\"Type\":\"Love Affairs\"},{\"Type\":\"Love Affairs\"},{\"Type\":\"Love Affairs\"},{\"Type\":\"Love Affairs\"},{\"Type\":\"Love Affairs\"},{\"Type\":\"Love Affairs\"}],\"x_values\":[2001,2002,2003,2004,2005,2006,2007,2008,2009,2010,2011,2012],\"y_values\":{\"__ndarray__\":\"AAAAAAAA8D9VSboHzd3vP1ENs4MjiPQ/3f0YyAOF8z9L3ti1dvbxPyUmuCCV4fQ/KJO9Q9Rh8T/p4ZqKIWTzP63Oe5NDEfM/Y8s/jL9n9T/3oLn7MZD3P8Q1FUPIxvM/\",\"dtype\":\"float64\",\"shape\":[12]}}},\"id\":\"311f176d-3cb2-4fbb-bf64-a59d3f784b0b\",\"type\":\"ColumnDataSource\"},{\"attributes\":{\"callback\":null,\"end\":2013.1,\"start\":1999.9},\"id\":\"2ffa56a7-0390-4270-8550-2f941dd8e0bd\",\"type\":\"Range1d\"},{\"attributes\":{},\"id\":\"ef558ec3-adca-4a08-8378-ee9e04cac46d\",\"type\":\"BasicTicker\"},{\"attributes\":{\"data_source\":{\"id\":\"a29f579a-8770-422c-8d2e-a2f2d3d55411\",\"type\":\"ColumnDataSource\"},\"glyph\":{\"id\":\"40d673ef-4615-4289-9c94-b20f6d9628ce\",\"type\":\"Line\"},\"hover_glyph\":null,\"nonselection_glyph\":null,\"selection_glyph\":null},\"id\":\"1492a29c-f8ad-4f40-8a10-aef58c1ba959\",\"type\":\"GlyphRenderer\"}],\"root_ids\":[\"9abfff23-8608-4e6f-9f9b-4a132871e9e5\"]},\"title\":\"Bokeh Application\",\"version\":\"0.12.4\"}};\n",
       "            var render_items = [{\"docid\":\"53c2accb-a603-44b2-b8fb-a6f7a952686a\",\"elementid\":\"b10f9637-467e-4ec9-8042-576b9d9dbdad\",\"modelid\":\"9abfff23-8608-4e6f-9f9b-4a132871e9e5\"}];\n",
       "            \n",
       "            Bokeh.embed.embed_items(docs_json, render_items);\n",
       "          };\n",
       "          if (document.readyState != \"loading\") fn();\n",
       "          else document.addEventListener(\"DOMContentLoaded\", fn);\n",
       "        })();\n",
       "      },\n",
       "      function(Bokeh) {\n",
       "      }\n",
       "    ];\n",
       "  \n",
       "    function run_inline_js() {\n",
       "      \n",
       "      if ((window.Bokeh !== undefined) || (force === true)) {\n",
       "        for (var i = 0; i < inline_js.length; i++) {\n",
       "          inline_js[i](window.Bokeh);\n",
       "        }if (force === true) {\n",
       "          display_loaded();\n",
       "        }} else if (Date.now() < window._bokeh_timeout) {\n",
       "        setTimeout(run_inline_js, 100);\n",
       "      } else if (!window._bokeh_failed_load) {\n",
       "        console.log(\"Bokeh: BokehJS failed to load within specified timeout.\");\n",
       "        window._bokeh_failed_load = true;\n",
       "      } else if (force !== true) {\n",
       "        var cell = $(document.getElementById(\"b10f9637-467e-4ec9-8042-576b9d9dbdad\")).parents('.cell').data().cell;\n",
       "        cell.output_area.append_execute_result(NB_LOAD_WARNING)\n",
       "      }\n",
       "  \n",
       "    }\n",
       "  \n",
       "    if (window._bokeh_is_loading === 0) {\n",
       "      console.log(\"Bokeh: BokehJS loaded, going straight to plotting\");\n",
       "      run_inline_js();\n",
       "    } else {\n",
       "      load_libs(js_urls, function() {\n",
       "        console.log(\"Bokeh: BokehJS plotting callback run at\", now());\n",
       "        run_inline_js();\n",
       "      });\n",
       "    }\n",
       "  }(this));\n",
       "</script>"
      ]
     },
     "metadata": {},
     "output_type": "display_data"
    }
   ],
   "source": [
    "#the graph is a bit too cluttered, if I have time to go back I should replace some of the lines below with an avg.\n",
    "p=Line(causes_by_y_top_5, x='Year', y='indexed_total', title='Drug Abuses Sky-Rocket',ylabel='Suicides, indexed at 2001 values',\n",
    "       color='Type', width=800)\n",
    "p.toolbar_location=None\n",
    "show(p)"
   ]
  },
  {
   "cell_type": "markdown",
   "metadata": {},
   "source": [
    "Where is this increase in drug abuses coming from? Let's look at age and gender first."
   ]
  },
  {
   "cell_type": "code",
   "execution_count": 24,
   "metadata": {
    "collapsed": false
   },
   "outputs": [],
   "source": [
    "#Get drug abuse data only. Break down by age, gender, and an interaction of the two\n",
    "causes_sub=causes[['Year', 'Type', 'Gender', 'Age_group', 'Total']].loc[causes.Type == 'Drug Abuse/Addiction']\n",
    "drug_by_gender_age=causes_sub.groupby(['Year', 'Gender', 'Age_group']).agg('sum').reset_index()\n",
    "drug_by_gender=causes_sub.groupby(['Year', 'Gender']).agg('sum').reset_index()\n",
    "drug_by_age=causes_sub.groupby(['Year', 'Age_group']).agg('sum').reset_index()"
   ]
  },
  {
   "cell_type": "code",
   "execution_count": 25,
   "metadata": {
    "collapsed": true
   },
   "outputs": [],
   "source": [
    "#a more generalizable function than the last indexer, with the same purpose\n",
    "def index_variable_totals(total_value, var_name,var_value, index_year, df):\n",
    "    i=0\n",
    "    while(i==0):\n",
    "        try:\n",
    "            indexer=df.loc[(df['Year']==index_year) & (df[var_name]==var_value), 'Total'].values\n",
    "            return float(total_value/indexer)\n",
    "        \n",
    "        except TypeError:\n",
    "            year+=1"
   ]
  },
  {
   "cell_type": "code",
   "execution_count": 26,
   "metadata": {
    "collapsed": false
   },
   "outputs": [],
   "source": [
    "#index gender and age_group totals vs 2001 values.\n",
    "for d,category in zip([drug_by_gender, drug_by_age], ['Gender', 'Age_group']):\n",
    "    d['indexed_total']=d.apply(lambda x: index_variable_totals(x['Total'],category, x[category], 2001, d), axis=1)"
   ]
  },
  {
   "cell_type": "markdown",
   "metadata": {},
   "source": [
    "It seems men make up the vast majority of drug abuses, and drug abuses in men have grawn at a shocking pace for the past few years."
   ]
  },
  {
   "cell_type": "code",
   "execution_count": 91,
   "metadata": {
    "collapsed": false,
    "scrolled": false
   },
   "outputs": [
    {
     "data": {
      "text/html": [
       "\n",
       "\n",
       "    <div class=\"bk-root\">\n",
       "        <div class=\"bk-plotdiv\" id=\"295a7fdd-8a8c-41ca-a83e-93f86b49849c\"></div>\n",
       "    </div>\n",
       "<script type=\"text/javascript\">\n",
       "  \n",
       "  (function(global) {\n",
       "    function now() {\n",
       "      return new Date();\n",
       "    }\n",
       "  \n",
       "    var force = false;\n",
       "  \n",
       "    if (typeof (window._bokeh_onload_callbacks) === \"undefined\" || force === true) {\n",
       "      window._bokeh_onload_callbacks = [];\n",
       "      window._bokeh_is_loading = undefined;\n",
       "    }\n",
       "  \n",
       "  \n",
       "    \n",
       "    if (typeof (window._bokeh_timeout) === \"undefined\" || force === true) {\n",
       "      window._bokeh_timeout = Date.now() + 0;\n",
       "      window._bokeh_failed_load = false;\n",
       "    }\n",
       "  \n",
       "    var NB_LOAD_WARNING = {'data': {'text/html':\n",
       "       \"<div style='background-color: #fdd'>\\n\"+\n",
       "       \"<p>\\n\"+\n",
       "       \"BokehJS does not appear to have successfully loaded. If loading BokehJS from CDN, this \\n\"+\n",
       "       \"may be due to a slow or bad network connection. Possible fixes:\\n\"+\n",
       "       \"</p>\\n\"+\n",
       "       \"<ul>\\n\"+\n",
       "       \"<li>re-rerun `output_notebook()` to attempt to load from CDN again, or</li>\\n\"+\n",
       "       \"<li>use INLINE resources instead, as so:</li>\\n\"+\n",
       "       \"</ul>\\n\"+\n",
       "       \"<code>\\n\"+\n",
       "       \"from bokeh.resources import INLINE\\n\"+\n",
       "       \"output_notebook(resources=INLINE)\\n\"+\n",
       "       \"</code>\\n\"+\n",
       "       \"</div>\"}};\n",
       "  \n",
       "    function display_loaded() {\n",
       "      if (window.Bokeh !== undefined) {\n",
       "        document.getElementById(\"295a7fdd-8a8c-41ca-a83e-93f86b49849c\").textContent = \"BokehJS successfully loaded.\";\n",
       "      } else if (Date.now() < window._bokeh_timeout) {\n",
       "        setTimeout(display_loaded, 100)\n",
       "      }\n",
       "    }\n",
       "  \n",
       "    function run_callbacks() {\n",
       "      window._bokeh_onload_callbacks.forEach(function(callback) { callback() });\n",
       "      delete window._bokeh_onload_callbacks\n",
       "      console.info(\"Bokeh: all callbacks have finished\");\n",
       "    }\n",
       "  \n",
       "    function load_libs(js_urls, callback) {\n",
       "      window._bokeh_onload_callbacks.push(callback);\n",
       "      if (window._bokeh_is_loading > 0) {\n",
       "        console.log(\"Bokeh: BokehJS is being loaded, scheduling callback at\", now());\n",
       "        return null;\n",
       "      }\n",
       "      if (js_urls == null || js_urls.length === 0) {\n",
       "        run_callbacks();\n",
       "        return null;\n",
       "      }\n",
       "      console.log(\"Bokeh: BokehJS not loaded, scheduling load and callback at\", now());\n",
       "      window._bokeh_is_loading = js_urls.length;\n",
       "      for (var i = 0; i < js_urls.length; i++) {\n",
       "        var url = js_urls[i];\n",
       "        var s = document.createElement('script');\n",
       "        s.src = url;\n",
       "        s.async = false;\n",
       "        s.onreadystatechange = s.onload = function() {\n",
       "          window._bokeh_is_loading--;\n",
       "          if (window._bokeh_is_loading === 0) {\n",
       "            console.log(\"Bokeh: all BokehJS libraries loaded\");\n",
       "            run_callbacks()\n",
       "          }\n",
       "        };\n",
       "        s.onerror = function() {\n",
       "          console.warn(\"failed to load library \" + url);\n",
       "        };\n",
       "        console.log(\"Bokeh: injecting script tag for BokehJS library: \", url);\n",
       "        document.getElementsByTagName(\"head\")[0].appendChild(s);\n",
       "      }\n",
       "    };var element = document.getElementById(\"295a7fdd-8a8c-41ca-a83e-93f86b49849c\");\n",
       "    if (element == null) {\n",
       "      console.log(\"Bokeh: ERROR: autoload.js configured with elementid '295a7fdd-8a8c-41ca-a83e-93f86b49849c' but no matching script tag was found. \")\n",
       "      return false;\n",
       "    }\n",
       "  \n",
       "    var js_urls = [];\n",
       "  \n",
       "    var inline_js = [\n",
       "      function(Bokeh) {\n",
       "        (function() {\n",
       "          var fn = function() {\n",
       "            var docs_json = {\"58b35919-ed96-4517-9765-ac74f00562a0\":{\"roots\":{\"references\":[{\"attributes\":{\"callback\":null,\"column_names\":[\"line_color\",\"fill_alpha\",\"label\",\"x\",\"y\",\"height\",\"line_alpha\",\"color\",\"width\"],\"data\":{\"Gender\":[\"Female\"],\"chart_index\":[{\"Gender\":\"Female\"}],\"color\":[\"#f22c40\"],\"fill_alpha\":[0.8],\"height\":[125.0],\"label\":[{\"Gender\":\"Female\"}],\"line_alpha\":[1.0],\"line_color\":[\"white\"],\"width\":[0.8],\"x\":[\"Female\"],\"y\":[62.5]}},\"id\":\"866b7ce3-886c-44dd-8d95-17cd576a866f\",\"type\":\"ColumnDataSource\"},{\"attributes\":{\"dimension\":1,\"plot\":{\"id\":\"6c84b066-c56f-40f8-912d-78154e33bda7\",\"subtype\":\"Chart\",\"type\":\"Plot\"},\"ticker\":{\"id\":\"20d655bc-d08a-4050-8a22-1db4ff541fb3\",\"type\":\"BasicTicker\"}},\"id\":\"4477566e-7b56-4625-abe6-6de21422ab61\",\"type\":\"Grid\"},{\"attributes\":{\"axis_label\":\"Gender\",\"formatter\":{\"id\":\"647cc7d2-ed58-40dd-b958-1f5b41ec45c2\",\"type\":\"CategoricalTickFormatter\"},\"major_label_orientation\":0.7853981633974483,\"plot\":{\"id\":\"6c84b066-c56f-40f8-912d-78154e33bda7\",\"subtype\":\"Chart\",\"type\":\"Plot\"},\"ticker\":{\"id\":\"7460b400-7bbf-46f4-b137-0deae9644bb8\",\"type\":\"CategoricalTicker\"}},\"id\":\"487199b2-05af-4853-ab4e-77693d55bb32\",\"type\":\"CategoricalAxis\"},{\"attributes\":{\"plot\":{\"id\":\"96e3d2ad-46c9-4d51-b4b8-9339a2cf4303\",\"subtype\":\"Chart\",\"type\":\"Plot\"}},\"id\":\"31171106-9b7d-4e11-bdaf-e64122abd747\",\"type\":\"HelpTool\"},{\"attributes\":{\"line_color\":{\"value\":\"#f22c40\"},\"line_width\":{\"value\":2},\"x\":{\"field\":\"x_values\"},\"y\":{\"field\":\"y_values\"}},\"id\":\"6ff590a3-cda1-4ea6-90e1-e2831eabc3b2\",\"type\":\"Line\"},{\"attributes\":{\"plot\":{\"id\":\"a5825d97-24d4-4240-ad2e-07b01c22b33a\",\"subtype\":\"Chart\",\"type\":\"Plot\"}},\"id\":\"90cd7d54-63fc-49dc-b831-664c8b90c767\",\"type\":\"HelpTool\"},{\"attributes\":{\"data_source\":{\"id\":\"178cff15-1872-49f9-b014-8aeacfff2add\",\"type\":\"ColumnDataSource\"},\"glyph\":{\"id\":\"51d8dc61-79f2-4a7f-865c-e681e5acbd89\",\"type\":\"Line\"},\"hover_glyph\":null,\"nonselection_glyph\":null,\"selection_glyph\":null},\"id\":\"9f793d67-b79b-4d60-a793-66933969c96e\",\"type\":\"GlyphRenderer\"},{\"attributes\":{\"line_color\":{\"value\":\"#5ab738\"},\"line_width\":{\"value\":2},\"x\":{\"field\":\"x_values\"},\"y\":{\"field\":\"y_values\"}},\"id\":\"51d8dc61-79f2-4a7f-865c-e681e5acbd89\",\"type\":\"Line\"},{\"attributes\":{},\"id\":\"512e16b6-a048-400b-8db6-d55878a31738\",\"type\":\"CategoricalTickFormatter\"},{\"attributes\":{\"child\":{\"id\":\"6c84b066-c56f-40f8-912d-78154e33bda7\",\"subtype\":\"Chart\",\"type\":\"Plot\"},\"title\":\"2001\"},\"id\":\"eade8be6-9613-4b61-8a6b-75fa3f8a1f35\",\"type\":\"Panel\"},{\"attributes\":{\"label\":{\"value\":\"Female\"},\"renderers\":[{\"id\":\"dd16ebb1-bc9b-4408-a64c-4d91094b46ea\",\"type\":\"GlyphRenderer\"}]},\"id\":\"0fe9fd03-28c5-464b-bb7f-af45ae6e9fbc\",\"type\":\"LegendItem\"},{\"attributes\":{\"bottom_units\":\"screen\",\"fill_alpha\":{\"value\":0.5},\"fill_color\":{\"value\":\"lightgrey\"},\"left_units\":\"screen\",\"level\":\"overlay\",\"line_alpha\":{\"value\":1.0},\"line_color\":{\"value\":\"black\"},\"line_dash\":[4,4],\"line_width\":{\"value\":2},\"plot\":null,\"render_mode\":\"css\",\"right_units\":\"screen\",\"top_units\":\"screen\"},\"id\":\"5df4875b-a9b1-4110-9847-c36ed49864f2\",\"type\":\"BoxAnnotation\"},{\"attributes\":{\"fill_alpha\":{\"field\":\"fill_alpha\"},\"fill_color\":{\"field\":\"color\"},\"height\":{\"field\":\"height\",\"units\":\"data\"},\"line_color\":{\"field\":\"line_color\"},\"width\":{\"field\":\"width\",\"units\":\"data\"},\"x\":{\"field\":\"x\"},\"y\":{\"field\":\"y\"}},\"id\":\"229c3b35-3c50-4822-9bbc-4a7c85ea007d\",\"type\":\"Rect\"},{\"attributes\":{\"plot\":{\"id\":\"a5825d97-24d4-4240-ad2e-07b01c22b33a\",\"subtype\":\"Chart\",\"type\":\"Plot\"}},\"id\":\"312a0fd9-a85d-4bca-8042-846ba665fda2\",\"type\":\"SaveTool\"},{\"attributes\":{\"plot\":{\"id\":\"6c84b066-c56f-40f8-912d-78154e33bda7\",\"subtype\":\"Chart\",\"type\":\"Plot\"}},\"id\":\"df7707ab-03e8-4690-8cd2-775ec755729b\",\"type\":\"SaveTool\"},{\"attributes\":{},\"id\":\"7460b400-7bbf-46f4-b137-0deae9644bb8\",\"type\":\"CategoricalTicker\"},{\"attributes\":{\"data_source\":{\"id\":\"74453911-ccfd-43b0-9d3d-0b589725de24\",\"type\":\"ColumnDataSource\"},\"glyph\":{\"id\":\"6e0f97c3-142c-4dfc-a2eb-2eb8e0aa5124\",\"type\":\"Rect\"},\"hover_glyph\":null,\"nonselection_glyph\":null,\"selection_glyph\":null},\"id\":\"279e6cff-4713-4dc6-ab1d-4334b41c4851\",\"type\":\"GlyphRenderer\"},{\"attributes\":{\"callback\":null,\"column_names\":[\"line_color\",\"fill_alpha\",\"label\",\"x\",\"y\",\"height\",\"line_alpha\",\"color\",\"width\"],\"data\":{\"Gender\":[\"Female\"],\"chart_index\":[{\"Gender\":\"Female\"}],\"color\":[\"#f22c40\"],\"fill_alpha\":[0.8],\"height\":[77.0],\"label\":[{\"Gender\":\"Female\"}],\"line_alpha\":[1.0],\"line_color\":[\"white\"],\"width\":[0.8],\"x\":[\"Female\"],\"y\":[38.5]}},\"id\":\"0bb3cbb5-91a9-4d52-876b-27e348e151cb\",\"type\":\"ColumnDataSource\"},{\"attributes\":{\"plot\":{\"id\":\"96e3d2ad-46c9-4d51-b4b8-9339a2cf4303\",\"subtype\":\"Chart\",\"type\":\"Plot\"}},\"id\":\"eb2fcff3-b088-4346-8b13-9f9f06cd8b02\",\"type\":\"SaveTool\"},{\"attributes\":{\"overlay\":{\"id\":\"8c5292ec-2c19-4b3f-a4ab-bc218e705474\",\"type\":\"BoxAnnotation\"},\"plot\":{\"id\":\"6c84b066-c56f-40f8-912d-78154e33bda7\",\"subtype\":\"Chart\",\"type\":\"Plot\"}},\"id\":\"37cb94d3-72ad-4bd6-b318-fb3c66803dfa\",\"type\":\"BoxZoomTool\"},{\"attributes\":{\"callback\":null,\"column_names\":[\"line_color\",\"fill_alpha\",\"label\",\"x\",\"y\",\"height\",\"line_alpha\",\"color\",\"width\"],\"data\":{\"Gender\":[\"Male\"],\"chart_index\":[{\"Gender\":\"Male\"}],\"color\":[\"#5ab738\"],\"fill_alpha\":[0.8],\"height\":[1337.0],\"label\":[{\"Gender\":\"Male\"}],\"line_alpha\":[1.0],\"line_color\":[\"white\"],\"width\":[0.8],\"x\":[\"Male\"],\"y\":[668.5]}},\"id\":\"203fc247-a421-45a1-833d-2270868d7bcf\",\"type\":\"ColumnDataSource\"},{\"attributes\":{\"data_source\":{\"id\":\"cff402ca-02b1-459f-916e-c279d28574f6\",\"type\":\"ColumnDataSource\"},\"glyph\":{\"id\":\"6ff590a3-cda1-4ea6-90e1-e2831eabc3b2\",\"type\":\"Line\"},\"hover_glyph\":null,\"nonselection_glyph\":null,\"selection_glyph\":null},\"id\":\"aa354f6a-cbed-48b9-995c-712af989fd63\",\"type\":\"GlyphRenderer\"},{\"attributes\":{\"callback\":null,\"factors\":[\"Female\",\"Male\"]},\"id\":\"c7d4bc36-00d4-4d81-b3d3-5884d80084d3\",\"type\":\"FactorRange\"},{\"attributes\":{\"items\":[{\"id\":\"16978f0b-4e28-4e1a-88b3-45daf6d99eac\",\"type\":\"LegendItem\"},{\"id\":\"d67a24ec-4f20-4268-92ff-c652d613f1a2\",\"type\":\"LegendItem\"}],\"location\":\"top_left\",\"plot\":{\"id\":\"6c84b066-c56f-40f8-912d-78154e33bda7\",\"subtype\":\"Chart\",\"type\":\"Plot\"}},\"id\":\"f615f5e6-27ef-43f3-99bd-5ce68da5d8dd\",\"type\":\"Legend\"},{\"attributes\":{\"plot\":{\"id\":\"a5825d97-24d4-4240-ad2e-07b01c22b33a\",\"subtype\":\"Chart\",\"type\":\"Plot\"}},\"id\":\"7107da1e-b727-487d-bf5d-331f858c2a9b\",\"type\":\"ResetTool\"},{\"attributes\":{\"axis_label\":\"Amount, 2012\",\"formatter\":{\"id\":\"d375502f-02ad-45b0-b139-46bb2307703a\",\"type\":\"BasicTickFormatter\"},\"plot\":{\"id\":\"a5825d97-24d4-4240-ad2e-07b01c22b33a\",\"subtype\":\"Chart\",\"type\":\"Plot\"},\"ticker\":{\"id\":\"5349b9f4-7de9-44c8-aab6-147d2b2c1cbf\",\"type\":\"BasicTicker\"}},\"id\":\"f14ebf6e-1c34-44e1-9bfd-de58b756806a\",\"type\":\"LinearAxis\"},{\"attributes\":{\"callback\":null,\"end\":4000},\"id\":\"4276e015-5c9c-48df-a044-3e7f95ef6310\",\"type\":\"Range1d\"},{\"attributes\":{\"overlay\":{\"id\":\"5df4875b-a9b1-4110-9847-c36ed49864f2\",\"type\":\"BoxAnnotation\"},\"plot\":{\"id\":\"a5825d97-24d4-4240-ad2e-07b01c22b33a\",\"subtype\":\"Chart\",\"type\":\"Plot\"}},\"id\":\"a7546993-8386-4141-a06c-eb50acea5b61\",\"type\":\"BoxZoomTool\"},{\"attributes\":{\"callback\":null,\"column_names\":[\"line_color\",\"fill_alpha\",\"label\",\"x\",\"y\",\"height\",\"line_alpha\",\"color\",\"width\"],\"data\":{\"Gender\":[\"Male\"],\"chart_index\":[{\"Gender\":\"Male\"}],\"color\":[\"#5ab738\"],\"fill_alpha\":[0.8],\"height\":[3883.0],\"label\":[{\"Gender\":\"Male\"}],\"line_alpha\":[1.0],\"line_color\":[\"white\"],\"width\":[0.8],\"x\":[\"Male\"],\"y\":[1941.5]}},\"id\":\"74453911-ccfd-43b0-9d3d-0b589725de24\",\"type\":\"ColumnDataSource\"},{\"attributes\":{},\"id\":\"5349b9f4-7de9-44c8-aab6-147d2b2c1cbf\",\"type\":\"BasicTicker\"},{\"attributes\":{\"children\":[{\"id\":\"731c502d-016f-415c-b843-29e3433ad5da\",\"type\":\"Tabs\"}]},\"id\":\"84f5cbd9-ffe9-4167-834a-024a27117682\",\"type\":\"WidgetBox\"},{\"attributes\":{\"below\":[{\"id\":\"94a1dabd-14b4-4a10-a0dd-29be69e664a5\",\"type\":\"CategoricalAxis\"}],\"css_classes\":null,\"height\":550,\"left\":[{\"id\":\"f14ebf6e-1c34-44e1-9bfd-de58b756806a\",\"type\":\"LinearAxis\"}],\"renderers\":[{\"id\":\"5df4875b-a9b1-4110-9847-c36ed49864f2\",\"type\":\"BoxAnnotation\"},{\"id\":\"dd16ebb1-bc9b-4408-a64c-4d91094b46ea\",\"type\":\"GlyphRenderer\"},{\"id\":\"279e6cff-4713-4dc6-ab1d-4334b41c4851\",\"type\":\"GlyphRenderer\"},{\"id\":\"65153584-9fa6-4d1b-b463-4f43f8fe2802\",\"type\":\"Legend\"},{\"id\":\"94a1dabd-14b4-4a10-a0dd-29be69e664a5\",\"type\":\"CategoricalAxis\"},{\"id\":\"f14ebf6e-1c34-44e1-9bfd-de58b756806a\",\"type\":\"LinearAxis\"},{\"id\":\"a6fdb0f5-258a-47e4-a1a9-6ce537a50d04\",\"type\":\"Grid\"}],\"title\":{\"id\":\"d166a159-12e4-42e0-808b-a9a1f06d36fd\",\"type\":\"Title\"},\"tool_events\":{\"id\":\"16d16d09-2fc7-4272-9c9b-a1c99b11f341\",\"type\":\"ToolEvents\"},\"toolbar\":{\"id\":\"8a769f76-de45-4a1c-9ff6-39900d6d7818\",\"type\":\"Toolbar\"},\"toolbar_location\":null,\"width\":400,\"x_mapper_type\":\"auto\",\"x_range\":{\"id\":\"c7d4bc36-00d4-4d81-b3d3-5884d80084d3\",\"type\":\"FactorRange\"},\"y_mapper_type\":\"auto\",\"y_range\":{\"id\":\"2a3086d1-b2f8-45bf-a30b-93f161645696\",\"type\":\"Range1d\"}},\"id\":\"a5825d97-24d4-4240-ad2e-07b01c22b33a\",\"subtype\":\"Chart\",\"type\":\"Plot\"},{\"attributes\":{\"fill_alpha\":{\"field\":\"fill_alpha\"},\"fill_color\":{\"field\":\"color\"},\"height\":{\"field\":\"height\",\"units\":\"data\"},\"line_color\":{\"field\":\"line_color\"},\"width\":{\"field\":\"width\",\"units\":\"data\"},\"x\":{\"field\":\"x\"},\"y\":{\"field\":\"y\"}},\"id\":\"6e0f97c3-142c-4dfc-a2eb-2eb8e0aa5124\",\"type\":\"Rect\"},{\"attributes\":{},\"id\":\"16d16d09-2fc7-4272-9c9b-a1c99b11f341\",\"type\":\"ToolEvents\"},{\"attributes\":{},\"id\":\"9a586f42-07cf-4a1e-8cef-d4a91b07d691\",\"type\":\"BasicTicker\"},{\"attributes\":{\"below\":[{\"id\":\"487199b2-05af-4853-ab4e-77693d55bb32\",\"type\":\"CategoricalAxis\"}],\"css_classes\":null,\"height\":550,\"left\":[{\"id\":\"23dff2a7-84a7-4c46-9219-988a3d5d13ed\",\"type\":\"LinearAxis\"}],\"renderers\":[{\"id\":\"8c5292ec-2c19-4b3f-a4ab-bc218e705474\",\"type\":\"BoxAnnotation\"},{\"id\":\"f833aa90-ccb1-40bc-a46a-95888edc3d07\",\"type\":\"GlyphRenderer\"},{\"id\":\"d4c99566-7a0a-44b7-8df7-e2391927b9fa\",\"type\":\"GlyphRenderer\"},{\"id\":\"f615f5e6-27ef-43f3-99bd-5ce68da5d8dd\",\"type\":\"Legend\"},{\"id\":\"487199b2-05af-4853-ab4e-77693d55bb32\",\"type\":\"CategoricalAxis\"},{\"id\":\"23dff2a7-84a7-4c46-9219-988a3d5d13ed\",\"type\":\"LinearAxis\"},{\"id\":\"4477566e-7b56-4625-abe6-6de21422ab61\",\"type\":\"Grid\"}],\"title\":{\"id\":\"8d2107b9-69b7-437f-9595-a7d66a591e29\",\"type\":\"Title\"},\"tool_events\":{\"id\":\"b8fa1732-4b55-40ed-b5aa-cdbf8fddd963\",\"type\":\"ToolEvents\"},\"toolbar\":{\"id\":\"0adb8bee-c279-43a5-a28b-53883201b7d1\",\"type\":\"Toolbar\"},\"toolbar_location\":null,\"width\":400,\"x_mapper_type\":\"auto\",\"x_range\":{\"id\":\"16914702-ab97-442e-a8dd-b2fa72264cec\",\"type\":\"FactorRange\"},\"y_mapper_type\":\"auto\",\"y_range\":{\"id\":\"4276e015-5c9c-48df-a044-3e7f95ef6310\",\"type\":\"Range1d\"}},\"id\":\"6c84b066-c56f-40f8-912d-78154e33bda7\",\"subtype\":\"Chart\",\"type\":\"Plot\"},{\"attributes\":{\"plot\":{\"id\":\"6c84b066-c56f-40f8-912d-78154e33bda7\",\"subtype\":\"Chart\",\"t