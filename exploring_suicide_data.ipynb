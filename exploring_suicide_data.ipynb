{
 "cells": [
  {
   "cell_type": "markdown",
   "metadata": {},
   "source": [
    "# The explosion of drug abuse deaths in India"
   ]
  },
  {
   "cell_type": "markdown",
   "metadata": {},
   "source": [
    "I built this quick notebook to look at how the top causes of death have evolved over the past 10 years. The data shows drug abuses have sky-rocketed. <br> Graphs made using bokeh (http://bokeh.pydata.org/)"
   ]
  },
  {
   "cell_type": "code",
   "execution_count": 93,
   "metadata": {
    "collapsed": true
   },
   "outputs": [],
   "source": [
    "import pandas as pd, numpy as np"
   ]
  },
  {
   "cell_type": "code",
   "execution_count": 94,
   "metadata": {
    "collapsed": false
   },
   "outputs": [
    {
     "data": {
      "text/html": [
       "<div>\n",
       "<table border=\"1\" class=\"dataframe\">\n",
       "  <thead>\n",
       "    <tr style=\"text-align: right;\">\n",
       "      <th></th>\n",
       "      <th>State</th>\n",
       "      <th>Year</th>\n",
       "      <th>Type_code</th>\n",
       "      <th>Type</th>\n",
       "      <th>Gender</th>\n",
       "      <th>Age_group</th>\n",
       "      <th>Total</th>\n",
       "    </tr>\n",
       "  </thead>\n",
       "  <tbody>\n",
       "    <tr>\n",
       "      <th>0</th>\n",
       "      <td>A &amp; N Islands</td>\n",
       "      <td>2001</td>\n",
       "      <td>Causes</td>\n",
       "      <td>Illness (Aids/STD)</td>\n",
       "      <td>Female</td>\n",
       "      <td>0-14</td>\n",
       "      <td>0</td>\n",
       "    </tr>\n",
       "    <tr>\n",
       "      <th>1</th>\n",
       "      <td>A &amp; N Islands</td>\n",
       "      <td>2001</td>\n",
       "      <td>Causes</td>\n",
       "      <td>Bankruptcy or Sudden change in Economic</td>\n",
       "      <td>Female</td>\n",
       "      <td>0-14</td>\n",
       "      <td>0</td>\n",
       "    </tr>\n",
       "    <tr>\n",
       "      <th>2</th>\n",
       "      <td>A &amp; N Islands</td>\n",
       "      <td>2001</td>\n",
       "      <td>Causes</td>\n",
       "      <td>Cancellation/Non-Settlement of Marriage</td>\n",
       "      <td>Female</td>\n",
       "      <td>0-14</td>\n",
       "      <td>0</td>\n",
       "    </tr>\n",
       "  </tbody>\n",
       "</table>\n",
       "</div>"
      ],
      "text/plain": [
       "           State  Year Type_code                                     Type  \\\n",
       "0  A & N Islands  2001    Causes                       Illness (Aids/STD)   \n",
       "1  A & N Islands  2001    Causes  Bankruptcy or Sudden change in Economic   \n",
       "2  A & N Islands  2001    Causes  Cancellation/Non-Settlement of Marriage   \n",
       "\n",
       "   Gender Age_group  Total  \n",
       "0  Female      0-14      0  \n",
       "1  Female      0-14      0  \n",
       "2  Female      0-14      0  "
      ]
     },
     "execution_count": 94,
     "metadata": {},
     "output_type": "execute_result"
    }
   ],
   "source": [
    "df=pd.read_csv('Suicides in India 2001-2012.csv')\n",
    "df.head(3)"
   ]
  },
  {
   "cell_type": "code",
   "execution_count": 95,
   "metadata": {
    "collapsed": false
   },
   "outputs": [
    {
     "data": {
      "text/plain": [
       "(237519, 7)"
      ]
     },
     "execution_count": 95,
     "metadata": {},
     "output_type": "execute_result"
    }
   ],
   "source": [
    "df.shape"
   ]
  },
  {
   "cell_type": "code",
   "execution_count": 4,
   "metadata": {
    "collapsed": false
   },
   "outputs": [
    {
     "data": {
      "text/plain": [
       "Causes                  109200\n",
       "Means_adopted            67200\n",
       "Professional_Profile     49263\n",
       "Education_Status          7296\n",
       "Social_Status             4560\n",
       "Name: Type_code, dtype: int64"
      ]
     },
     "execution_count": 4,
     "metadata": {},
     "output_type": "execute_result"
    }
   ],
   "source": [
    "df.Type_code.value_counts()"
   ]
  },
  {
   "cell_type": "markdown",
   "metadata": {},
   "source": [
    "I started by wondering how the top causes evolved over the 10 years. Since the raw amounts are different, I indexed them versus 2001 totals"
   ]
  },
  {
   "cell_type": "code",
   "execution_count": 5,
   "metadata": {
    "collapsed": false
   },
   "outputs": [],
   "source": [
    "#how have causes evolved over the years? Looking at overall data.\n",
    "causes=df.loc[df['Type_code']=='Causes']\n",
    "causes_total=causes.drop(['Gender', 'Age_group'], axis=1)\n",
    "causes_by_y_state=causes_total.groupby(['State', 'Year', 'Type']).agg('sum')"
   ]
  },
  {
   "cell_type": "code",
   "execution_count": 6,
   "metadata": {
    "collapsed": true
   },
   "outputs": [],
   "source": [
    "causes_by_y_state.reset_index(inplace=True)\n",
    "causes_by_y=causes_by_y_state.groupby(['Year', 'Type']).agg('sum')"
   ]
  },
  {
   "cell_type": "code",
   "execution_count": 7,
   "metadata": {
    "collapsed": true
   },
   "outputs": [],
   "source": [
    "causes_by_y.reset_index(inplace=True)"
   ]
  },
  {
   "cell_type": "code",
   "execution_count": 8,
   "metadata": {
    "collapsed": false
   },
   "outputs": [],
   "source": [
    "def index_cause_totals(total, cause, year, df):\n",
    "    #not super efficient to keep recalculating the index values, but the dataset is 312 rows so my cpu will survive.\n",
    "    #if indexer not available for 2001, use index base of the next year, until and index base exists.\n",
    "    i=0\n",
    "    while(i==0):\n",
    "        try:\n",
    "            indexer=df.loc[(df['Year']==year) & (df['Type']==cause), 'Total'].values\n",
    "            return float(total/indexer)\n",
    "        \n",
    "        except TypeError:\n",
    "            year+=1"
   ]
  },
  {
   "cell_type": "code",
   "execution_count": 13,
   "metadata": {
    "collapsed": false
   },
   "outputs": [],
   "source": [
    "causes_by_y['indexed_total']=causes_by_y.apply(lambda x: index_cause_totals(x['Total'], x['Type'], 2001, causes_by_y), axis=1)"
   ]
  },
  {
   "cell_type": "code",
   "execution_count": 14,
   "metadata": {
    "collapsed": false
   },
   "outputs": [
    {
     "data": {
      "text/html": [
       "<div>\n",
       "<table border=\"1\" class=\"dataframe\">\n",
       "  <thead>\n",
       "    <tr style=\"text-align: right;\">\n",
       "      <th></th>\n",
       "      <th>Year</th>\n",
       "      <th>Type</th>\n",
       "      <th>Total</th>\n",
       "      <th>indexed_total</th>\n",
       "    </tr>\n",
       "  </thead>\n",
       "  <tbody>\n",
       "    <tr>\n",
       "      <th>0</th>\n",
       "      <td>2001</td>\n",
       "      <td>Bankruptcy or Sudden change in Economic</td>\n",
       "      <td>2918</td>\n",
       "      <td>1.0</td>\n",
       "    </tr>\n",
       "    <tr>\n",
       "      <th>1</th>\n",
       "      <td>2001</td>\n",
       "      <td>Cancellation/Non-Settlement of Marriage</td>\n",
       "      <td>924</td>\n",
       "      <td>1.0</td>\n",
       "    </tr>\n",
       "    <tr>\n",
       "      <th>2</th>\n",
       "      <td>2001</td>\n",
       "      <td>Cancer</td>\n",
       "      <td>780</td>\n",
       "      <td>1.0</td>\n",
       "    </tr>\n",
       "  </tbody>\n",
       "</table>\n",
       "</div>"
      ],
      "text/plain": [
       "   Year                                     Type  Total  indexed_total\n",
       "0  2001  Bankruptcy or Sudden change in Economic   2918            1.0\n",
       "1  2001  Cancellation/Non-Settlement of Marriage    924            1.0\n",
       "2  2001                                   Cancer    780            1.0"
      ]
     },
     "execution_count": 14,
     "metadata": {},
     "output_type": "execute_result"
    }
   ],
   "source": [
    "causes_by_y.head(3)"
   ]
  },
  {
   "cell_type": "code",
   "execution_count": 15,
   "metadata": {
    "collapsed": false
   },
   "outputs": [
    {
     "name": "stderr",
     "output_type": "stream",
     "text": [
      "/home/e84605/anaconda2/envs/current2/lib/python3.5/site-packages/ipykernel/__main__.py:2: FutureWarning: sort(columns=....) is deprecated, use sort_values(by=.....)\n",
      "  from ipykernel import kernelapp as app\n"
     ]
    },
    {
     "data": {
      "text/plain": [
       "['Family Problems',\n",
       " 'Other Prolonged Illness',\n",
       " 'Insanity/Mental Illness',\n",
       " 'Love Affairs',\n",
       " 'Bankruptcy or Sudden change in Economic',\n",
       " 'Poverty',\n",
       " 'Dowry Dispute',\n",
       " 'Drug Abuse/Addiction']"
      ]
     },
     "execution_count": 15,
     "metadata": {},
     "output_type": "execute_result"
    }
   ],
   "source": [
    "#keeping only the top 10 causes of suicide, excluding 2 categories with limited information\n",
    "top_5=pd.DataFrame(causes_by_y.groupby(['Type']).agg('sum'))[['Total']].sort(columns='Total', ascending=False).iloc[:10]\n",
    "top_5_list=[x for x in top_5.index if x not in ['Causes Not known', 'Other Causes (Please Specity)']]\n",
    "top_5_list"
   ]
  },
  {
   "cell_type": "code",
   "execution_count": 16,
   "metadata": {
    "collapsed": false
   },
   "outputs": [],
   "source": [
    "causes_by_y_top_5=causes_by_y.loc[causes_by_y.Type.isin(top_5_list), ['Year', 'Type', 'indexed_total']]"
   ]
  },
  {
   "cell_type": "markdown",
   "metadata": {},
   "source": [
    "I needed to get a look at this graphically. Sadly, drug abuses seem to be increasing much faster than all other causes of death. What's going on here?"
   ]
  },
  {
   "cell_type": "code",
   "execution_count": 88,
   "metadata": {
    "collapsed": false
   },
   "outputs": [
    {
     "data": {
      "text/html": []
     },
     "metadata": {},
     "output_type": "display_data"
    },
    {
     "data": {
      "application/javascript": [
       "\n",
       "(function(global) {\n",
       "  function now() {\n",
       "    return new Date();\n",
       "  }\n",
       "\n",
       "  var force = true;\n",
       "\n",
       "  if (typeof (window._bokeh_onload_callbacks) === \"undefined\" || force === true) {\n",
       "    window._bokeh_onload_callbacks = [];\n",
       "    window._bokeh_is_loading = undefined;\n",
       "  }\n",
       "\n",
       "\n",
       "  \n",
       "  if (typeof (window._bokeh_timeout) === \"undefined\" || force === true) {\n",
       "    window._bokeh_timeout = Date.now() + 5000;\n",
       "    window._bokeh_failed_load = false;\n",
       "  }\n",
       "\n",
       "  var NB_LOAD_WARNING = {'data': {'text/html':\n",
       "     \"<div style='background-color: #fdd'>\\n\"+\n",
       "     \"<p>\\n\"+\n",
       "     \"BokehJS does not appear to have successfully loaded. If loading BokehJS from CDN, this \\n\"+\n",
       "     \"may be due to a slow or bad network connection. Possible fixes:\\n\"+\n",
       "     \"</p>\\n\"+\n",
       "     \"<ul>\\n\"+\n",
       "     \"<li>re-rerun `output_notebook()` to attempt to load from CDN again, or</li>\\n\"+\n",
       "     \"<li>use INLINE resources instead, as so:</li>\\n\"+\n",
       "     \"</ul>\\n\"+\n",
       "     \"<code>\\n\"+\n",
       "     \"from bokeh.resources import INLINE\\n\"+\n",
       "     \"output_notebook(resources=INLINE)\\n\"+\n",
       "     \"</code>\\n\"+\n",
       "     \"</div>\"}};\n",
       "\n",
       "  function display_loaded() {\n",
       "    if (window.Bokeh !== undefined) {\n",
       "      document.getElementById(\"\").textContent = \"BokehJS successfully loaded.\";\n",
       "    } else if (Date.now() < window._bokeh_timeout) {\n",
       "      setTimeout(display_loaded, 100)\n",
       "    }\n",
       "  }\n",
       "\n",
       "  function run_callbacks() {\n",
       "    window._bokeh_onload_callbacks.forEach(function(callback) { callback() });\n",
       "    delete window._bokeh_onload_callbacks\n",
       "    console.info(\"Bokeh: all callbacks have finished\");\n",
       "  }\n",
       "\n",
       "  function load_libs(js_urls, callback) {\n",
       "    window._bokeh_onload_callbacks.push(callback);\n",
       "    if (window._bokeh_is_loading > 0) {\n",
       "      console.log(\"Bokeh: BokehJS is being loaded, scheduling callback at\", now());\n",
       "      return null;\n",
       "    }\n",
       "    if (js_urls == null || js_urls.length === 0) {\n",
       "      run_callbacks();\n",
       "      return null;\n",
       "    }\n",
       "    console.log(\"Bokeh: BokehJS not loaded, scheduling load and callback at\", now());\n",
       "    window._bokeh_is_loading = js_urls.length;\n",
       "    for (var i = 0; i < js_urls.length; i++) {\n",
       "      var url = js_urls[i];\n",
       "      var s = document.createElement('script');\n",
       "      s.src = url;\n",
       "      s.async = false;\n",
       "      s.onreadystatechange = s.onload = function() {\n",
       "        window._bokeh_is_loading--;\n",
       "        if (window._bokeh_is_loading === 0) {\n",
       "          console.log(\"Bokeh: all BokehJS libraries loaded\");\n",
       "          run_callbacks()\n",
       "        }\n",
       "      };\n",
       "      s.onerror = function() {\n",
       "        console.warn(\"failed to load library \" + url);\n",
       "      };\n",
       "      console.log(\"Bokeh: injecting script tag for BokehJS library: \", url);\n",
       "      document.getElementsByTagName(\"head\")[0].appendChild(s);\n",
       "    }\n",
       "  };\n",
       "\n",
       "  var js_urls = [\"https://cdn.pydata.org/bokeh/release/bokeh-0.12.4.min.js\", \"https://cdn.pydata.org/bokeh/release/bokeh-widgets-0.12.4.min.js\"];\n",
       "\n",
       "  var inline_js = [\n",
       "    function(Bokeh) {\n",
       "      Bokeh.set_log_level(\"info\");\n",
       "    },\n",
       "    function(Bokeh) {\n",
       "      console.log(\"Bokeh: injecting CSS: https://cdn.pydata.org/bokeh/release/bokeh-0.12.4.min.css\");\n",
       "      Bokeh.embed.inject_css(\"https://cdn.pydata.org/bokeh/release/bokeh-0.12.4.min.css\");\n",
       "      console.log(\"Bokeh: injecting CSS: https://cdn.pydata.org/bokeh/release/bokeh-widgets-0.12.4.min.css\");\n",
       "      Bokeh.embed.inject_css(\"https://cdn.pydata.org/bokeh/release/bokeh-widgets-0.12.4.min.css\");\n",
       "    }\n",
       "  ];\n",
       "\n",
       "  function run_inline_js() {\n",
       "    \n",
       "    if ((window.Bokeh !== undefined) || (force === true)) {\n",
       "      for (var i = 0; i < inline_js.length; i++) {\n",
       "        inline_js[i](window.Bokeh);\n",
       "      }} else if (Date.now() < window._bokeh_timeout) {\n",
       "      setTimeout(run_inline_js, 100);\n",
       "    } else if (!window._bokeh_failed_load) {\n",
       "      console.log(\"Bokeh: BokehJS failed to load within specified timeout.\");\n",
       "      window._bokeh_failed_load = true;\n",
       "    } else if (force !== true) {\n",
       "      var cell = $(document.getElementById(\"\")).parents('.cell').data().cell;\n",
       "      cell.output_area.append_execute_result(NB_LOAD_WARNING)\n",
       "    }\n",
       "\n",
       "  }\n",
       "\n",
       "  if (window._bokeh_is_loading === 0) {\n",
       "    console.log(\"Bokeh: BokehJS loaded, going straight to plotting\");\n",
       "    run_inline_js();\n",
       "  } else {\n",
       "    load_libs(js_urls, function() {\n",
       "      console.log(\"Bokeh: BokehJS plotting callback run at\", now());\n",
       "      run_inline_js();\n",
       "    });\n",
       "  }\n",
       "}(this));"
      ]
     },
     "metadata": {},
     "output_type": "display_data"
    }
   ],
   "source": [
    "from bokeh.plotting import figure, output_notebook, show\n",
    "from bokeh.charts import Line, Bar\n",
    "from bokeh.layouts import row\n",
    "from bokeh.models.widgets import Panel,Tabs\n",
    "from bokeh.models import ranges\n",
    "output_notebook(hide_banner=True)"
   ]
  },
  {
   "cell_type": "code",
   "execution_count": 86,
   "metadata": {
    "collapsed": false
   },
   "outputs": [
    {
     "data": {
      "text/html": [
       "\n",
       "\n",
       "    <div class=\"bk-root\">\n",
       "        <div class=\"bk-plotdiv\" id=\"b10f9637-467e-4ec9-8042-576b9d9dbdad\"></div>\n",
       "    </div>\n",
       "<script type=\"text/javascript\">\n",
       "  \n",
       "  (function(global) {\n",
       "    function now() {\n",
       "      return new Date();\n",
       "    }\n",
       "  \n",
       "    var force = false;\n",
       "  \n",
       "    if (typeof (window._bokeh_onload_callbacks) === \"undefined\" || force === true) {\n",
       "      window._bokeh_onload_callbacks = [];\n",
       "      window._bokeh_is_loading = undefined;\n",
       "    }\n",
       "  \n",
       "  \n",
       "    \n",
       "    if (typeof (window._bokeh_timeout) === \"undefined\" || force === true) {\n",
       "      window._bokeh_timeout = Date.now() + 0;\n",
       "      window._bokeh_failed_load = false;\n",
       "    }\n",
       "  \n",
       "    var NB_LOAD_WARNING = {'data': {'text/html':\n",
       "       \"<div style='background-color: #fdd'>\\n\"+\n",
       "       \"<p>\\n\"+\n",
       "       \"BokehJS does not appear to have successfully loaded. If loading BokehJS from CDN, this \\n\"+\n",
       "       \"may be due to a slow or bad network connection. Possible fixes:\\n\"+\n",
       "       \"</p>\\n\"+\n",
       "       \"<ul>\\n\"+\n",
       "       \"<li>re-rerun `output_notebook()` to attempt to load from CDN again, or</li>\\n\"+\n",
       "       \"<li>use INLINE resources instead, as so:</li>\\n\"+\n",
       "       \"</ul>\\n\"+\n",
       "       \"<code>\\n\"+\n",
       "       \"from bokeh.resources import INLINE\\n\"+\n",
       "       \"output_notebook(resources=INLINE)\\n\"+\n",
       "       \"</code>\\n\"+\n",
       "       \"</div>\"}};\n",
       "  \n",
       "    function display_loaded() {\n",
       "      if (window.Bokeh !== undefined) {\n",
       "        document.getElementById(\"b10f9637-467e-4ec9-8042-576b9d9dbdad\").textContent = \"BokehJS successfully loaded.\";\n",
       "      } else if (Date.now() < window._bokeh_timeout) {\n",
       "        setTimeout(display_loaded, 100)\n",
       "      }\n",
       "    }\n",
       "  \n",
       "    function run_callbacks() {\n",
       "      window._bokeh_onload_callbacks.forEach(function(callback) { callback() });\n",
       "      delete window._bokeh_onload_callbacks\n",
       "      console.info(\"Bokeh: all callbacks have finished\");\n",
       "    }\n",
       "  \n",
       "    function load_libs(js_urls, callback) {\n",
       "      window._bokeh_onload_callbacks.push(callback);\n",
       "      if (window._bokeh_is_loading > 0) {\n",
       "        console.log(\"Bokeh: BokehJS is being loaded, scheduling callback at\", now());\n",
       "        return null;\n",
       "      }\n",
       "      if (js_urls == null || js_urls.length === 0) {\n",
       "        run_callbacks();\n",
       "        return null;\n",
       "      }\n",
       "      console.log(\"Bokeh: BokehJS not loaded, scheduling load and callback at\", now());\n",
       "      window._bokeh_is_loading = js_urls.length;\n",
       "      for (var i = 0; i < js_urls.length; i++) {\n",
       "        var url = js_urls[i];\n",
       "        var s = document.createElement('script');\n",
       "        s.src = url;\n",
       "        s.async = false;\n",
       "        s.onreadystatechange = s.onload = function() {\n",
       "          window._bokeh_is_loading--;\n",
       "          if (window._bokeh_is_loading === 0) {\n",
       "            console.log(\"Bokeh: all BokehJS libraries loaded\");\n",
       "            run_callbacks()\n",
       "          }\n",
       "        };\n",
       "        s.onerror = function() {\n",
       "          console.warn(\"failed to load library \" + url);\n",
       "        };\n",
       "        console.log(\"Bokeh: injecting script tag for BokehJS library: \", url);\n",
       "        document.getElementsByTagName(\"head\")[0].appendChild(s);\n",
       "      }\n",
       "    };var element = document.getElementById(\"b10f9637-467e-4ec9-8042-576b9d9dbdad\");\n",
       "    if (element == null) {\n",
       "      console.log(\"Bokeh: ERROR: autoload.js configured with elementid 'b10f9637-467e-4ec9-8042-576b9d9dbdad' but no matching script tag was found. \")\n",
       "      return false;\n",
       "    }\n",
       "  \n",
       "    var js_urls = [];\n",
       "  \n",
       "    var inline_js = [\n",
       "      function(Bokeh) {\n",
       "        (function() {\n",
       "          var fn = function() {\n",
       "            var docs_json = {\"53c2accb-a603-44b2-b8fb-a6f7a952686a\":{\"roots\":{\"references\":[{\"attributes\":{\"data_source\":{\"id\":\"80aecebe-9a55-4357-8b2c-4cf5909f1a27\",\"type\":\"ColumnDataSource\"},\"glyph\":{\"id\":\"fe223260-84d1-4bf6-8a07-dc7e76ca2f8b\",\"type\":\"Line\"},\"hover_glyph\":null,\"nonselection_glyph\":null,\"selection_glyph\":null},\"id\":\"33d4f9a9-e527-4031-9bc5-9c810946c009\",\"type\":\"GlyphRenderer\"},{\"attributes\":{\"plot\":{\"id\":\"9abfff23-8608-4e6f-9f9b-4a132871e9e5\",\"subtype\":\"Chart\",\"type\":\"Plot\"}},\"id\":\"a0068056-c727-42f7-a0e8-dbc5c9b968df\",\"type\":\"PanTool\"},{\"attributes\":{\"callback\":null,\"end\":3.0378058098152105,\"start\":0.5982803636026994},\"id\":\"e4808c3d-18b4-4c3c-81e7-6a3e6b57943b\",\"type\":\"Range1d\"},{\"attributes\":{\"axis_label\":\"Suicides, indexed at 2001 values\",\"formatter\":{\"id\":\"d7d6d9ca-afa9-471b-9edb-294f44a84c95\",\"type\":\"BasicTickFormatter\"},\"plot\":{\"id\":\"9abfff23-8608-4e6f-9f9b-4a132871e9e5\",\"subtype\":\"Chart\",\"type\":\"Plot\"},\"ticker\":{\"id\":\"4bf2638d-f60f-419b-a6d9-8c42584b8985\",\"type\":\"BasicTicker\"}},\"id\":\"0a9cbf89-9919-4c76-aeae-e25d7833501d\",\"type\":\"LinearAxis\"},{\"attributes\":{\"data_source\":{\"id\":\"311f176d-3cb2-4fbb-bf64-a59d3f784b0b\",\"type\":\"ColumnDataSource\"},\"glyph\":{\"id\":\"e03ff36c-5440-47e7-816d-643f57580233\",\"type\":\"Line\"},\"hover_glyph\":null,\"nonselection_glyph\":null,\"selection_glyph\":null},\"id\":\"288133e2-3cdd-4237-9f4b-2ccf1946f0bb\",\"type\":\"GlyphRenderer\"},{\"attributes\":{\"line_color\":{\"value\":\"#5ab738\"},\"line_width\":{\"value\":2},\"x\":{\"field\":\"x_values\"},\"y\":{\"field\":\"y_values\"}},\"id\":\"d38ece0d-dafc-4994-99ab-f5752dc82ee2\",\"type\":\"Line\"},{\"attributes\":{\"label\":{\"value\":\"Insanity/Mental Illness\"},\"renderers\":[{\"id\":\"33d4f9a9-e527-4031-9bc5-9c810946c009\",\"type\":\"GlyphRenderer\"}]},\"id\":\"e15979f4-58a8-4d90-8cce-c262d2dc0ce2\",\"type\":\"LegendItem\"},{\"attributes\":{\"label\":{\"value\":\"Dowry Dispute\"},\"renderers\":[{\"id\":\"30ddffd2-45dc-45f6-ae05-778910cc2984\",\"type\":\"GlyphRenderer\"}]},\"id\":\"465be4e9-025b-4bdd-80e3-9d123f4ed1b3\",\"type\":\"LegendItem\"},{\"attributes\":{\"plot\":null,\"text\":\"Drug Abuses Sky-Rocket\"},\"id\":\"e243b997-affa-48bf-8e62-498d82e6e69c\",\"type\":\"Title\"},{\"attributes\":{\"data_source\":{\"id\":\"f99b47ce-ac85-442b-bbe2-cc163dde712e\",\"type\":\"ColumnDataSource\"},\"glyph\":{\"id\":\"c3bca1cc-ef72-4f56-8070-ef2963cc7a5b\",\"type\":\"Line\"},\"hover_glyph\":null,\"nonselection_glyph\":null,\"selection_glyph\":null},\"id\":\"2fe9402c-71cb-483b-abee-da8e6409196d\",\"type\":\"GlyphRenderer\"},{\"attributes\":{},\"id\":\"fb2ce88e-3888-46c4-aa8c-c98378885eca\",\"type\":\"ToolEvents\"},{\"attributes\":{\"line_color\":{\"value\":\"#f22c40\"},\"line_width\":{\"value\":2},\"x\":{\"field\":\"x_values\"},\"y\":{\"field\":\"y_values\"}},\"id\":\"e21cab99-ed8a-43f6-8135-1005ec818744\",\"type\":\"Line\"},{\"attributes\":{\"label\":{\"value\":\"Bankruptcy or Sudden change in Economic\"},\"renderers\":[{\"id\":\"2fe9402c-71cb-483b-abee-da8e6409196d\",\"type\":\"GlyphRenderer\"}]},\"id\":\"c613a09a-047d-4f9e-86a3-ec2bc8c3e20c\",\"type\":\"LegendItem\"},{\"attributes\":{\"callback\":null,\"column_names\":[\"y_values\",\"x_values\"],\"data\":{\"Type\":[\"Poverty\",\"Poverty\",\"Poverty\",\"Poverty\",\"Poverty\",\"Poverty\",\"Poverty\",\"Poverty\",\"Poverty\",\"Poverty\",\"Poverty\",\"Poverty\"],\"chart_index\":[{\"Type\":\"Poverty\"},{\"Type\":\"Poverty\"},{\"Type\":\"Poverty\"},{\"Type\":\"Poverty\"},{\"Type\":\"Poverty\"},{\"Type\":\"Poverty\"},{\"Type\":\"Poverty\"},{\"Type\":\"Poverty\"},{\"Type\":\"Poverty\"},{\"Type\":\"Poverty\"},{\"Type\":\"Poverty\"},{\"Type\":\"Poverty\"}],\"x_values\":[2001,2002,2003,2004,2005,2006,2007,2008,2009,2010,2011,2012],\"y_values\":{\"__ndarray__\":\"AAAAAAAA8D/GnOu+Z7vuP1M0u9gKxPA/Rm4e7Utc9T8HkspDyfzvP7Ywz40Ml/A/btghk8uh8T+6qLD9Wt7yP/wTtQHTv/I/Kff3Dz0g8z9VTUa06aXsPxYrJ1LWwuw/\",\"dtype\":\"float64\",\"shape\":[12]}}},\"id\":\"9af6535f-2d7f-4a61-9637-26b2abea2712\",\"type\":\"ColumnDataSource\"},{\"attributes\":{\"callback\":null,\"column_names\":[\"y_values\",\"x_values\"],\"data\":{\"Type\":[\"Insanity/Mental Illness\",\"Insanity/Mental Illness\",\"Insanity/Mental Illness\",\"Insanity/Mental Illness\",\"Insanity/Mental Illness\",\"Insanity/Mental Illness\",\"Insanity/Mental Illness\",\"Insanity/Mental Illness\",\"Insanity/Mental Illness\",\"Insanity/Mental Illness\",\"Insanity/Mental Illness\",\"Insanity/Mental Illness\"],\"chart_index\":[{\"Type\":\"Insanity/Mental Illness\"},{\"Type\":\"Insanity/Mental Illness\"},{\"Type\":\"Insanity/Mental Illness\"},{\"Type\":\"Insanity/Mental Illness\"},{\"Type\":\"Insanity/Mental Illness\"},{\"Type\":\"Insanity/Mental Illness\"},{\"Type\":\"Insanity/Mental Illness\"},{\"Type\":\"Insanity/Mental Illness\"},{\"Type\":\"Insanity/Mental Illness\"},{\"Type\":\"Insanity/Mental Illness\"},{\"Type\":\"Insanity/Mental Illness\"},{\"Type\":\"Insanity/Mental Illness\"}],\"x_values\":[2001,2002,2003,2004,2005,2006,2007,2008,2009,2010,2011,2012],\"y_values\":{\"__ndarray__\":\"AAAAAAAA8D86eWVn8ZbxPw1w3n9ZAPQ/yxvitU9w8z+uazA21MT0Pwt3jsIu+fU/WZERJ9GX9z9Z9xIXeML3P7ugYVOmIfc/qoI5ThHa+T96IRH8fAr4P+fb7AozOPU/\",\"dtype\":\"float64\",\"shape\":[12]}}},\"id\":\"80aecebe-9a55-4357-8b2c-4cf5909f1a27\",\"type\":\"ColumnDataSource\"},{\"attributes\":{\"label\":{\"value\":\"Love Affairs\"},\"renderers\":[{\"id\":\"288133e2-3cdd-4237-9f4b-2ccf1946f0bb\",\"type\":\"GlyphRenderer\"}]},\"id\":\"3ae21eaa-3de7-440d-86c0-2f7900f6d6a8\",\"type\":\"LegendItem\"},{\"attributes\":{\"callback\":null,\"column_names\":[\"y_values\",\"x_values\"],\"data\":{\"Type\":[\"Other Prolonged Illness\",\"Other Prolonged Illness\",\"Other Prolonged Illness\",\"Other Prolonged Illness\",\"Other Prolonged Illness\",\"Other Prolonged Illness\",\"Other Prolonged Illness\",\"Other Prolonged Illness\",\"Other Prolonged Illness\",\"Other Prolonged Illness\",\"Other Prolonged Illness\",\"Other Prolonged Illness\"],\"chart_index\":[{\"Type\":\"Other Prolonged Illness\"},{\"Type\":\"Other Prolonged Illness\"},{\"Type\":\"Other Prolonged Illness\"},{\"Type\":\"Other Prolonged Illness\"},{\"Type\":\"Other Prolonged Illness\"},{\"Type\":\"Other Prolonged Illness\"},{\"Type\":\"Other Prolonged Illness\"},{\"Type\":\"Other Prolonged Illness\"},{\"Type\":\"Other Prolonged Illness\"},{\"Type\":\"Other Prolonged Illness\"},{\"Type\":\"Other Prolonged Illness\"},{\"Type\":\"Other Prolonged Illness\"}],\"x_values\":[2001,2002,2003,2004,2005,2006,2007,2008,2009,2010,2011,2012],\"y_values\":{\"__ndarray__\":\"AAAAAAAA8D8d/JXjfVrxP9caaCE9YO8/6qQ9ADNl8D/Tn9TpDr3tP45yYJhEjfA/7sp9rLWB8D/K7o+u0rTwP+5g/g7OFPA/AevT7cMZ8T98ad8JKzXwP2YjSRyagO8/\",\"dtype\":\"float64\",\"shape\":[12]}}},\"id\":\"e309f900-2b05-4306-855b-8a9bc2540250\",\"type\":\"ColumnDataSource\"},{\"attributes\":{\"callback\":null,\"column_names\":[\"y_values\",\"x_values\"],\"data\":{\"Type\":[\"Family Problems\",\"Family Problems\",\"Family Problems\",\"Family Problems\",\"Family Problems\",\"Family Problems\",\"Family Problems\",\"Family Problems\",\"Family Problems\",\"Family Problems\",\"Family Problems\",\"Family Problems\"],\"chart_index\":[{\"Type\":\"Family Problems\"},{\"Type\":\"Family Problems\"},{\"Type\":\"Family Problems\"},{\"Type\":\"Family Problems\"},{\"Type\":\"Family Problems\"},{\"Type\":\"Family Problems\"},{\"Type\":\"Family Problems\"},{\"Type\":\"Family Problems\"},{\"Type\":\"Family Problems\"},{\"Type\":\"Family Problems\"},{\"Type\":\"Family Problems\"},{\"Type\":\"Family Problems\"}],\"x_values\":[2001,2002,2003,2004,2005,2006,2007,2008,2009,2010,2011,2012],\"y_values\":{\"__ndarray__\":\"AAAAAAAA8D/sCEsbeJzwP2zmZojLa/E/uDq9fhPo8D+LlP6y0djwPzMiUpxfYPQ/b88z435c8z828dlD3rfzPyKWw5KS6/M/o7xaJk4Y9T967ir2z8r1P9gmh/buY/Q/\",\"dtype\":\"float64\",\"shape\":[12]}}},\"id\":\"96f267df-111a-4209-9346-24935cc4e96a\",\"type\":\"ColumnDataSource\"},{\"attributes\":{\"line_color\":{\"value\":\"#f22c40\"},\"line_width\":{\"value\":2},\"x\":{\"field\":\"x_values\"},\"y\":{\"field\":\"y_values\"}},\"id\":\"c3bca1cc-ef72-4f56-8070-ef2963cc7a5b\",\"type\":\"Line\"},{\"attributes\":{\"dimension\":1,\"plot\":{\"id\":\"9abfff23-8608-4e6f-9f9b-4a132871e9e5\",\"subtype\":\"Chart\",\"type\":\"Plot\"},\"ticker\":{\"id\":\"4bf2638d-f60f-419b-a6d9-8c42584b8985\",\"type\":\"BasicTicker\"}},\"id\":\"1eb4e24f-06e9-4dc6-ab5a-059925787c64\",\"type\":\"Grid\"},{\"attributes\":{},\"id\":\"d7d6d9ca-afa9-471b-9edb-294f44a84c95\",\"type\":\"BasicTickFormatter\"},{\"attributes\":{\"line_color\":{\"value\":\"#df5320\"},\"line_width\":{\"value\":2},\"x\":{\"field\":\"x_values\"},\"y\":{\"field\":\"y_values\"}},\"id\":\"d1d239b7-1f42-45af-a6ed-c8135867a7f5\",\"type\":\"Line\"},{\"attributes\":{\"callback\":null,\"column_names\":[\"y_values\",\"x_values\"],\"data\":{\"Type\":[\"Bankruptcy or Sudden change in Economic\",\"Bankruptcy or Sudden change in Economic\",\"Bankruptcy or Sudden change in Economic\",\"Bankruptcy or Sudden change in Economic\",\"Bankruptcy or Sudden change in Economic\",\"Bankruptcy or Sudden change in Economic\",\"Bankruptcy or Sudden change in Economic\",\"Bankruptcy or Sudden change in Economic\",\"Bankruptcy or Sudden change in Economic\",\"Bankruptcy or Sudden change in Economic\",\"Bankruptcy or Sudden change in Economic\"],\"chart_index\":[{\"Type\":\"Bankruptcy or Sudden change in Economic\"},{\"Type\":\"Bankruptcy or Sudden change in Economic\"},{\"Type\":\"Bankruptcy or Sudden change in Economic\"},{\"Type\":\"Bankruptcy or Sudden change in Economic\"},{\"Type\":\"Bankruptcy or Sudden change in Economic\"},{\"Type\":\"Bankruptcy or Sudden change in Economic\"},{\"Type\":\"Bankruptcy or Sudden change in Economic\"},{\"Type\":\"Bankruptcy or Sudden change in Economic\"},{\"Type\":\"Bankruptcy or Sudden change in Economic\"},{\"Type\":\"Bankruptcy or Sudden change in Economic\"},{\"Type\":\"Bankruptcy or Sudden change in Economic\"}],\"x_values\":[2001,2003,2004,2005,2006,2007,2008,2009,2010,2011,2012],\"y_values\":{\"__ndarray__\":\"AAAAAAAA8D+IozTcA27vP8XqImOJy/A/wqTXgXT48D+BYL6xSTTyPwIyEeoOKfI/PK7lEf5I8D8tCiLKgFbxP4BC575Ate0/yxlflj1b8D+2Rl8bDNnpPw==\",\"dtype\":\"float64\",\"shape\":[11]}}},\"id\":\"f99b47ce-ac85-442b-bbe2-cc163dde712e\",\"type\":\"ColumnDataSource\"},{\"attributes\":{\"label\":{\"value\":\"Drug Abuse/Addiction\"},\"renderers\":[{\"id\":\"1492a29c-f8ad-4f40-8a10-aef58c1ba959\",\"type\":\"GlyphRenderer\"}]},\"id\":\"f093efb2-77db-482c-bcc7-8fb5c5e2972a\",\"type\":\"LegendItem\"},{\"attributes\":{\"line_color\":{\"value\":\"#c33ff3\"},\"line_width\":{\"value\":2},\"x\":{\"field\":\"x_values\"},\"y\":{\"field\":\"y_values\"}},\"id\":\"e03ff36c-5440-47e7-816d-643f57580233\",\"type\":\"Line\"},{\"attributes\":{\"overlay\":{\"id\":\"651faf99-23d0-4ccc-9df4-2706c51c23c8\",\"type\":\"BoxAnnotation\"},\"plot\":{\"id\":\"9abfff23-8608-4e6f-9f9b-4a132871e9e5\",\"subtype\":\"Chart\",\"type\":\"Plot\"}},\"id\":\"ad46d667-91fd-4037-bb87-888621670a9c\",\"type\":\"BoxZoomTool\"},{\"attributes\":{\"data_source\":{\"id\":\"e309f900-2b05-4306-855b-8a9bc2540250\",\"type\":\"ColumnDataSource\"},\"glyph\":{\"id\":\"e21cab99-ed8a-43f6-8135-1005ec818744\",\"type\":\"Line\"},\"hover_glyph\":null,\"nonselection_glyph\":null,\"selection_glyph\":null},\"id\":\"b54a6524-008f-4f4c-bb4c-1a29dde7b34b\",\"type\":\"GlyphRenderer\"},{\"attributes\":{\"callback\":null,\"column_names\":[\"y_values\",\"x_values\"],\"data\":{\"Type\":[\"Dowry Dispute\",\"Dowry Dispute\",\"Dowry Dispute\",\"Dowry Dispute\",\"Dowry Dispute\",\"Dowry Dispute\",\"Dowry Dispute\",\"Dowry Dispute\",\"Dowry Dispute\",\"Dowry Dispute\",\"Dowry Dispute\",\"Dowry Dispute\"],\"chart_index\":[{\"Type\":\"Dowry Dispute\"},{\"Type\":\"Dowry Dispute\"},{\"Type\":\"Dowry Dispute\"},{\"Type\":\"Dowry Dispute\"},{\"Type\":\"Dowry Dispute\"},{\"Type\":\"Dowry Dispute\"},{\"Type\":\"Dowry Dispute\"},{\"Type\":\"Dowry Dispute\"},{\"Type\":\"Dowry Dispute\"},{\"Type\":\"Dowry Dispute\"},{\"Type\":\"Dowry Dispute\"},{\"Type\":\"Dowry Dispute\"}],\"x_values\":[2001,2002,2003,2004,2005,2006,2007,2008,2009,2010,2011,2012],\"y_values\":{\"__ndarray__\":\"AAAAAAAA8D+KOnQEbfLvP4eOoE3+N/A/7JhJgxN88T/7mSYGNSrvP4B12tZN9+4/FwVYp23d9D//KZakyCL0Px8CugVDXPM/ixf3JRuA9D83662U1Xf1P/1hXtV+puk/\",\"dtype\":\"float64\",\"shape\":[12]}}},\"id\":\"fefc950a-7cae-4a46-863c-967cff2675db\",\"type\":\"ColumnDataSource\"},{\"attributes\":{\"line_color\":{\"value\":\"#407ee7\"},\"line_width\":{\"value\":2},\"x\":{\"field\":\"x_values\"},\"y\":{\"field\":\"y_values\"}},\"id\":\"40d673ef-4615-4289-9c94-b20f6d9628ce\",\"type\":\"Line\"},{\"attributes\":{\"plot\":{\"id\":\"9abfff23-8608-4e6f-9f9b-4a132871e9e5\",\"subtype\":\"Chart\",\"type\":\"Plot\"}},\"id\":\"da910edf-bd97-4be9-a617-f52553a391e8\",\"type\":\"HelpTool\"},{\"attributes\":{\"callback\":null,\"column_names\":[\"y_values\",\"x_values\"],\"data\":{\"Type\":[\"Drug Abuse/Addiction\",\"Drug Abuse/Addiction\",\"Drug Abuse/Addiction\",\"Drug Abuse/Addiction\",\"Drug Abuse/Addiction\",\"Drug Abuse/Addiction\",\"Drug Abuse/Addiction\",\"Drug Abuse/Addiction\",\"Drug Abuse/Addiction\",\"Drug Abuse/Addiction\",\"Drug Abuse/Addiction\",\"Drug Abuse/Addiction\"],\"chart_index\":[{\"Type\":\"Drug Abuse/Addiction\"},{\"Type\":\"Drug Abuse/Addiction\"},{\"Type\":\"Drug Abuse/Addiction\"},{\"Type\":\"Drug Abuse/Addiction\"},{\"Type\":\"Drug Abuse/Addiction\"},{\"Type\":\"Drug Abuse/Addiction\"},{\"Type\":\"Drug Abuse/Addiction\"},{\"Type\":\"Drug Abuse/Addiction\"},{\"Type\":\"Drug Abuse/Addiction\"},{\"Type\":\"Drug Abuse/Addiction\"},{\"Type\":\"Drug Abuse/Addiction\"},{\"Type\":\"Drug Abuse/Addiction\"}],\"x_values\":[2001,2002,2003,2004,2005,2006,2007,2008,2009,2010,2011,2012],\"y_values\":{\"__ndarray__\":\"AAAAAAAA8D/iRdVRilbzP3RAmvL28vM/Z0xP9wfO9T8tF0CFMP72PyayXAAVwvg/q6MUrTZj+j8UmHRqHuT+P+8kXlQdpQBAU7TajOnpAkB75MNhJrIEQMWLqqMUrQZA\",\"dtype\":\"float64\",\"shape\":[12]}}},\"id\":\"a29f579a-8770-422c-8d2e-a2f2d3d55411\",\"type\":\"ColumnDataSource\"},{\"attributes\":{\"label\":{\"value\":\"Poverty\"},\"renderers\":[{\"id\":\"72f29a9e-f441-4594-b1b0-a8e919b9f3c2\",\"type\":\"GlyphRenderer\"}]},\"id\":\"f4be888a-03c1-4927-acdc-7991fca1c36e\",\"type\":\"LegendItem\"},{\"attributes\":{\"label\":{\"value\":\"Family Problems\"},\"renderers\":[{\"id\":\"9b5e11f4-7fd5-4a30-b948-a753b0f684c8\",\"type\":\"GlyphRenderer\"}]},\"id\":\"caf4fd1c-d295-48aa-b1e1-82396b3ec42d\",\"type\":\"LegendItem\"},{\"attributes\":{},\"id\":\"778e3371-351a-4a7b-b255-8078807b0ee0\",\"type\":\"BasicTickFormatter\"},{\"attributes\":{\"plot\":{\"id\":\"9abfff23-8608-4e6f-9f9b-4a132871e9e5\",\"subtype\":\"Chart\",\"type\":\"Plot\"}},\"id\":\"8a1fd168-e76a-494e-a971-8fdd1337ef48\",\"type\":\"ResetTool\"},{\"attributes\":{\"line_color\":{\"value\":\"#00ad9c\"},\"line_width\":{\"value\":2},\"x\":{\"field\":\"x_values\"},\"y\":{\"field\":\"y_values\"}},\"id\":\"fe223260-84d1-4bf6-8a07-dc7e76ca2f8b\",\"type\":\"Line\"},{\"attributes\":{\"below\":[{\"id\":\"21d2b7f1-1ed1-460e-86cb-c75085b395da\",\"type\":\"LinearAxis\"}],\"css_classes\":null,\"left\":[{\"id\":\"0a9cbf89-9919-4c76-aeae-e25d7833501d\",\"type\":\"LinearAxis\"}],\"renderers\":[{\"id\":\"651faf99-23d0-4ccc-9df4-2706c51c23c8\",\"type\":\"BoxAnnotation\"},{\"id\":\"2fe9402c-71cb-483b-abee-da8e6409196d\",\"type\":\"GlyphRenderer\"},{\"id\":\"30ddffd2-45dc-45f6-ae05-778910cc2984\",\"type\":\"GlyphRenderer\"},{\"id\":\"1492a29c-f8ad-4f40-8a10-aef58c1ba959\",\"type\":\"GlyphRenderer\"},{\"id\":\"9b5e11f4-7fd5-4a30-b948-a753b0f684c8\",\"type\":\"GlyphRenderer\"},{\"id\":\"33d4f9a9-e527-4031-9bc5-9c810946c009\",\"type\":\"GlyphRenderer\"},{\"id\":\"288133e2-3cdd-4237-9f4b-2ccf1946f0bb\",\"type\":\"GlyphRenderer\"},{\"id\":\"b54a6524-008f-4f4c-bb4c-1a29dde7b34b\",\"type\":\"GlyphRenderer\"},{\"id\":\"72f29a9e-f441-4594-b1b0-a8e919b9f3c2\",\"type\":\"GlyphRenderer\"},{\"id\":\"2d161ca1-9365-455a-9680-d599cd47219b\",\"type\":\"Legend\"},{\"id\":\"21d2b7f1-1ed1-460e-86cb-c75085b395da\",\"type\":\"LinearAxis\"},{\"id\":\"0a9cbf89-9919-4c76-aeae-e25d7833501d\",\"type\":\"LinearAxis\"},{\"id\":\"d2161a26-ea6a-4ecd-b29c-10e4dc2e6425\",\"type\":\"Grid\"},{\"id\":\"1eb4e24f-06e9-4dc6-ab5a-059925787c64\",\"type\":\"Grid\"}],\"title\":{\"id\":\"e243b997-affa-48bf-8e62-498d82e6e69c\",\"type\":\"Title\"},\"tool_events\":{\"id\":\"fb2ce88e-3888-46c4-aa8c-c98378885eca\",\"type\":\"ToolEvents\"},\"toolbar\":{\"id\":\"3f23ace6-e9fd-40e4-a655-ca382df0c8d7\",\"type\":\"Toolbar\"},\"toolbar_location\":null,\"width\":800,\"x_mapper_type\":\"auto\",\"x_range\":{\"id\":\"2ffa56a7-0390-4270-8550-2f941dd8e0bd\",\"type\":\"Range1d\"},\"y_mapper_type\":\"auto\",\"y_range\":{\"id\":\"e4808c3d-18b4-4c3c-81e7-6a3e6b57943b\",\"type\":\"Range1d\"}},\"id\":\"9abfff23-8608-4e6f-9f9b-4a132871e9e5\",\"subtype\":\"Chart\",\"type\":\"Plot\"},{\"attributes\":{\"plot\":{\"id\":\"9abfff23-8608-4e6f-9f9b-4a132871e9e5\",\"subtype\":\"Chart\",\"type\":\"Plot\"}},\"id\":\"0f66283d-0565-44a0-b76c-40975f3008b8\",\"type\":\"SaveTool\"},{\"attributes\":{\"line_color\":{\"value\":\"#5ab738\"},\"line_width\":{\"value\":2},\"x\":{\"field\":\"x_values\"},\"y\":{\"field\":\"y_values\"}},\"id\":\"2da1e82f-a510-41c4-95fc-046d58d707e3\",\"type\":\"Line\"},{\"attributes\":{},\"id\":\"4bf2638d-f60f-419b-a6d9-8c42584b8985\",\"type\":\"BasicTicker\"},{\"attributes\":{\"plot\":{\"id\":\"9abfff23-8608-4e6f-9f9b-4a132871e9e5\",\"subtype\":\"Chart\",\"type\":\"Plot\"}},\"id\":\"fb86e87a-8aec-46bd-95b9-dfe301927480\",\"type\":\"WheelZoomTool\"},{\"attributes\":{\"items\":[{\"id\":\"c613a09a-047d-4f9e-86a3-ec2bc8c3e20c\",\"type\":\"LegendItem\"},{\"id\":\"465be4e9-025b-4bdd-80e3-9d123f4ed1b3\",\"type\":\"LegendItem\"},{\"id\":\"f093efb2-77db-482c-bcc7-8fb5c5e2972a\",\"type\":\"LegendItem\"},{\"id\":\"caf4fd1c-d295-48aa-b1e1-82396b3ec42d\",\"type\":\"LegendItem\"},{\"id\":\"e15979f4-58a8-4d90-8cce-c262d2dc0ce2\",\"type\":\"LegendItem\"},{\"id\":\"3ae21eaa-3de7-440d-86c0-2f7900f6d6a8\",\"type\":\"LegendItem\"},{\"id\":\"db670cab-e154-47fc-bec3-f720fc6f9295\",\"type\":\"LegendItem\"},{\"id\":\"f4be888a-03c1-4927-acdc-7991fca1c36e\",\"type\":\"LegendItem\"}],\"location\":\"top_left\",\"plot\":{\"id\":\"9abfff23-8608-4e6f-9f9b-4a132871e9e5\",\"subtype\":\"Chart\",\"type\":\"Plot\"}},\"id\":\"2d161ca1-9365-455a-9680-d599cd47219b\",\"type\":\"Legend\"},{\"attributes\":{\"label\":{\"value\":\"Other Prolonged Illness\"},\"renderers\":[{\"id\":\"b54a6524-008f-4f4c-bb4c-1a29dde7b34b\",\"type\":\"GlyphRenderer\"}]},\"id\":\"db670cab-e154-47fc-bec3-f720fc6f9295\",\"type\":\"LegendItem\"},{\"attributes\":{\"data_source\":{\"id\":\"96f267df-111a-4209-9346-24935cc4e96a\",\"type\":\"ColumnDataSource\"},\"glyph\":{\"id\":\"d1d239b7-1f42-45af-a6ed-c8135867a7f5\",\"type\":\"Line\"},\"hover_glyph\":null,\"nonselection_glyph\":null,\"selection_glyph\":null},\"id\":\"9b5e11f4-7fd5-4a30-b948-a753b0f684c8\",\"type\":\"GlyphRenderer\"},{\"attributes\":{\"data_source\":{\"id\":\"9af6535f-2d7f-4a61-9637-26b2abea2712\",\"type\":\"ColumnDataSource\"},\"glyph\":{\"id\":\"2da1e82f-a510-41c4-95fc-046d58d707e3\",\"type\":\"Line\"},\"hover_glyph\":null,\"nonselection_glyph\":null,\"selection_glyph\":null},\"id\":\"72f29a9e-f441-4594-b1b0-a8e919b9f3c2\",\"type\":\"GlyphRenderer\"},{\"attributes\":{\"active_drag\":\"auto\",\"active_scroll\":\"auto\",\"active_tap\":\"auto\",\"tools\":[{\"id\":\"a0068056-c727-42f7-a0e8-dbc5c9b968df\",\"type\":\"PanTool\"},{\"id\":\"fb86e87a-8aec-46bd-95b9-dfe301927480\",\"type\":\"WheelZoomTool\"},{\"id\":\"ad46d667-91fd-4037-bb87-888621670a9c\",\"type\":\"BoxZoomTool\"},{\"id\":\"0f66283d-0565-44a0-b76c-40975f3008b8\",\"type\":\"SaveTool\"},{\"id\":\"8a1fd168-e76a-494e-a971-8fdd1337ef48\",\"type\":\"ResetTool\"},{\"id\":\"da910edf-bd97-4be9-a617-f52553a391e8\",\"type\":\"HelpTool\"}]},\"id\":\"3f23ace6-e9fd-40e4-a655-ca382df0c8d7\",\"type\":\"Toolbar\"},{\"attributes\":{\"bottom_units\":\"screen\",\"fill_alpha\":{\"value\":0.5},\"fill_color\":{\"value\":\"lightgrey\"},\"left_units\":\"screen\",\"level\":\"overlay\",\"line_alpha\":{\"value\":1.0},\"line_color\":{\"value\":\"black\"},\"line_dash\":[4,4],\"line_width\":{\"value\":2},\"plot\":null,\"render_mode\":\"css\",\"right_units\":\"screen\",\"top_units\":\"screen\"},\"id\":\"651faf99-23d0-4ccc-9df4-2706c51c23c8\",\"type\":\"BoxAnnotation\"},{\"attributes\":{\"axis_label\":\"Year\",\"formatter\":{\"id\":\"778e3371-351a-4a7b-b255-8078807b0ee0\",\"type\":\"BasicTickFormatter\"},\"plot\":{\"id\":\"9abfff23-8608-4e6f-9f9b-4a132871e9e5\",\"subtype\":\"Chart\",\"type\":\"Plot\"},\"ticker\":{\"id\":\"ef558ec3-adca-4a08-8378-ee9e04cac46d\",\"type\":\"BasicTicker\"}},\"id\":\"21d2b7f1-1ed1-460e-86cb-c75085b395da\",\"type\":\"LinearAxis\"},{\"attributes\":{\"data_source\":{\"id\":\"fefc950a-7cae-4a46-863c-967cff2675db\",\"type\":\"ColumnDataSource\"},\"glyph\":{\"id\":\"d38ece0d-dafc-4994-99ab-f5752dc82ee2\",\"type\":\"Line\"},\"hover_glyph\":null,\"nonselection_glyph\":null,\"selection_glyph\":null},\"id\":\"30ddffd2-45dc-45f6-ae05-778910cc2984\",\"type\":\"GlyphRenderer\"},{\"attributes\":{\"plot\":{\"id\":\"9abfff23-8608-4e6f-9f9b-4a132871e9e5\",\"subtype\":\"Chart\",\"type\":\"Plot\"},\"ticker\":{\"id\":\"ef558ec3-adca-4a08-8378-ee9e04cac46d\",\"type\":\"BasicTicker\"}},\"id\":\"d2161a26-ea6a-4ecd-b29c-10e4dc2e6425\",\"type\":\"Grid\"},{\"attributes\":{\"callback\":null,\"column_names\":[\"y_values\",\"x_values\"],\"data\":{\"Type\":[\"Love Affairs\",\"Love Affairs\",\"Love Affairs\",\"Love Affairs\",\"Love Affairs\",\"Love Affairs\",\"Love Affairs\",\"Love Affairs\",\"Love Affairs\",\"Love Affairs\",\"Love Affairs\",\"Love Affairs\"],\"chart_index\":[{\"Type\":\"Love Affairs\"},{\"Type\":\"Love Affairs\"},{\"Type\":\"Love Affairs\"},{\"Type\":\"Love Affairs\"},{\"Type\":\"Love Affairs\"},{\"Type\":\"Love Affairs\"},{\"Type\":\"Love Affairs\"},{\"Type\":\"Love Affairs\"},{\"Type\":\"Love Affairs\"},{\"Type\":\"Love Affairs\"},{\"Type\":\"Love Affairs\"},{\"Type\":\"Love Affairs\"}],\"x_values\":[2001,2002,2003,2004,2005,2006,2007,2008,2009,2010,2011,2012],\"y_values\":{\"__ndarray__\":\"AAAAAAAA8D9VSboHzd3vP1ENs4MjiPQ/3f0YyAOF8z9L3ti1dvbxPyUmuCCV4fQ/KJO9Q9Rh8T/p4ZqKIWTzP63Oe5NDEfM/Y8s/jL9n9T/3oLn7MZD3P8Q1FUPIxvM/\",\"dtype\":\"float64\",\"shape\":[12]}}},\"id\":\"311f176d-3cb2-4fbb-bf64-a59d3f784b0b\",\"type\":\"ColumnDataSource\"},{\"attributes\":{\"callback\":null,\"end\":2013.1,\"start\":1999.9},\"id\":\"2ffa56a7-0390-4270-8550-2f941dd8e0bd\",\"type\":\"Range1d\"},{\"attributes\":{},\"id\":\"ef558ec3-adca-4a08-8378-ee9e04cac46d\",\"type\":\"BasicTicker\"},{\"attributes\":{\"data_source\":{\"id\":\"a29f579a-8770-422c-8d2e-a2f2d3d55411\",\"type\":\"ColumnDataSource\"},\"glyph\":{\"id\":\"40d673ef-4615-4289-9c94-b20f6d9628ce\",\"type\":\"Line\"},\"hover_glyph\":null,\"nonselection_glyph\":null,\"selection_glyph\":null},\"id\":\"1492a29c-f8ad-4f40-8a10-aef58c1ba959\",\"type\":\"GlyphRenderer\"}],\"root_ids\":[\"9abfff23-8608-4e6f-9f9b-4a132871e9e5\"]},\"title\":\"Bokeh Application\",\"version\":\"0.12.4\"}};\n",
       "            var render_items = [{\"docid\":\"53c2accb-a603-44b2-b8fb-a6f7a952686a\",\"elementid\":\"b10f9637-467e-4ec9-8042-576b9d9dbdad\",\"modelid\":\"9abfff23-8608-4e6f-9f9b-4a132871e9e5\"}];\n",
       "            \n",
       "            Bokeh.embed.embed_items(docs_json, render_items);\n",
       "          };\n",
       "          if (document.readyState != \"loading\") fn();\n",
       "          else document.addEventListener(\"DOMContentLoaded\", fn);\n",
       "        })();\n",
       "      },\n",
       "      function(Bokeh) {\n",
       "      }\n",
       "    ];\n",
       "  \n",
       "    function run_inline_js() {\n",
       "      \n",
       "      if ((window.Bokeh !== undefined) || (force === true)) {\n",
       "        for (var i = 0; i < inline_js.length; i++) {\n",
       "          inline_js[i](window.Bokeh);\n",
       "        }if (force === true) {\n",
       "          display_loaded();\n",
       "        }} else if (Date.now() < window._bokeh_timeout) {\n",
       "        setTimeout(run_inline_js, 100);\n",
       "      } else if (!window._bokeh_failed_load) {\n",
       "        console.log(\"Bokeh: BokehJS failed to load within specified timeout.\");\n",
       "        window._bokeh_failed_load = true;\n",
       "      } else if (force !== true) {\n",
       "        var cell = $(document.getElementById(\"b10f9637-467e-4ec9-8042-576b9d9dbdad\")).parents('.cell').data().cell;\n",
       "        cell.output_area.append_execute_result(NB_LOAD_WARNING)\n",
       "      }\n",
       "  \n",
       "    }\n",
       "  \n",
       "    if (window._bokeh_is_loading === 0) {\n",
       "      console.log(\"Bokeh: BokehJS loaded, going straight to plotting\");\n",
       "      run_inline_js();\n",
       "    } else {\n",
       "      load_libs(js_urls, function() {\n",
       "        console.log(\"Bokeh: BokehJS plotting callback run at\", now());\n",
       "        run_inline_js();\n",
       "      });\n",
       "    }\n",
       "  }(this));\n",
       "</script>"
      ]
     },
     "metadata": {},
     "output_type": "display_data"
    }
   ],
   "source": [
    "#the graph is a bit too cluttered, if I have time to go back I should replace some of the lines below with an avg.\n",
    "p=Line(causes_by_y_top_5, x='Year', y='indexed_total', title='Drug Abuses Sky-Rocket',ylabel='Suicides, indexed at 2001 values',\n",
    "       color='Type', width=800)\n",
    "p.toolbar_location=None\n",
    "show(p)"
   ]
  },
  {
   "cell_type": "markdown",
   "metadata": {},
   "source": [
    "Where is this increase in drug abuses coming from? Let's look at age and gender first."
   ]
  },
  {
   "cell_type": "code",
   "execution_count": 24,
   "metadata": {
    "collapsed": false
   },
   "outputs": [],
   "source": [
    "#Get drug abuse data only. Break down by age, gender, and an interaction of the two\n",
    "causes_sub=causes[['Year', 'Type', 'Gender', 'Age_group', 'Total']].loc[causes.Type == 'Drug Abuse/Addiction']\n",
    "drug_by_gender_age=causes_sub.groupby(['Year', 'Gender', 'Age_group']).agg('sum').reset_index()\n",
    "drug_by_gender=causes_sub.groupby(['Year', 'Gender']).agg('sum').reset_index()\n",
    "drug_by_age=causes_sub.groupby(['Year', 'Age_group']).agg('sum').reset_index()"
   ]
  },
  {
   "cell_type": "code",
   "execution_count": 25,
   "metadata": {
    "collapsed": true
   },
   "outputs": [],
   "source": [
    "#a more generalizable function than the last indexer, with the same purpose\n",
    "def index_variable_totals(total_value, var_name,var_value, index_year, df):\n",
    "    i=0\n",
    "    while(i==0):\n",
    "        try:\n",
    "            indexer=df.loc[(df['Year']==index_year) & (df[var_name]==var_value), 'Total'].values\n",
    "            return float(total_value/indexer)\n",
    "        \n",
    "        except TypeError:\n",
    "            year+=1"
   ]
  },
  {
   "cell_type": "code",
   "execution_count": 26,
   "metadata": {
    "collapsed": false
   },
   "outputs": [],
   "source": [
    "#index gender and age_group totals vs 2001 values.\n",
    "for d,category in zip([drug_by_gender, drug_by_age], ['Gender', 'Age_group']):\n",
    "    d['indexed_total']=d.apply(lambda x: index_variable_totals(x['Total'],category, x[category], 2001, d), axis=1)"
   ]
  },
  {
   "cell_type": "markdown",
   "metadata": {},
   "source": [
    "It seems men make up the vast majority of drug abuses, and drug abuses in men have grawn at a shocking pace for the past few years."
   ]
  },
  {
   "cell_type": "code",
   "execution_count": 91,
   "metadata": {
    "collapsed": false,
    "scrolled": false
   },
   "outputs": [
    {
     "data": {
      "text/html": [
       "\n",
       "\n",
       "    <div class=\"bk-root\">\n",
       "        <div class=\"bk-plotdiv\" id=\"295a7fdd-8a8c-41ca-a83e-93f86b49849c\"></div>\n",
       "    </div>\n",
       "<script type=\"text/javascript\">\n",
       "  \n",
       "  (function(global) {\n",
       "    function now() {\n",
       "      return new Date();\n",
       "    }\n",
       "  \n",
       "    var force = false;\n",
       "  \n",
       "    if (typeof (window._bokeh_onload_callbacks) === \"undefined\" || force === true) {\n",
       "      window._bokeh_onload_callbacks = [];\n",
       "      window._bokeh_is_loading = undefined;\n",
       "    }\n",
       "  \n",
       "  \n",
       "    \n",
       "    if (typeof (window._bokeh_timeout) === \"undefined\" || force === true) {\n",
       "      window._bokeh_timeout = Date.now() + 0;\n",
       "      window._bokeh_failed_load = false;\n",
       "    }\n",
       "  \n",
       "    var NB_LOAD_WARNING = {'data': {'text/html':\n",
       "       \"<div style='background-color: #fdd'>\\n\"+\n",
       "       \"<p>\\n\"+\n",
       "       \"BokehJS does not appear to have successfully loaded. If loading BokehJS from CDN, this \\n\"+\n",
       "       \"may be due to a slow or bad network connection. Possible fixes:\\n\"+\n",
       "       \"</p>\\n\"+\n",
       "       \"<ul>\\n\"+\n",
       "       \"<li>re-rerun `output_notebook()` to attempt to load from CDN again, or</li>\\n\"+\n",
       "       \"<li>use INLINE resources instead, as so:</li>\\n\"+\n",
       "       \"</ul>\\n\"+\n",
       "       \"<code>\\n\"+\n",
       "       \"from bokeh.resources import INLINE\\n\"+\n",
       "       \"output_notebook(resources=INLINE)\\n\"+\n",
       "       \"</code>\\n\"+\n",
       "       \"</div>\"}};\n",
       "  \n",
       "    function display_loaded() {\n",
       "      if (window.Bokeh !== undefined) {\n",
       "        document.getElementById(\"295a7fdd-8a8c-41ca-a83e-93f86b49849c\").textContent = \"BokehJS successfully loaded.\";\n",
       "      } else if (Date.now() < window._bokeh_timeout) {\n",
       "        setTimeout(display_loaded, 100)\n",
       "      }\n",
       "    }\n",
       "  \n",
       "    function run_callbacks() {\n",
       "      window._bokeh_onload_callbacks.forEach(function(callback) { callback() });\n",
       "      delete window._bokeh_onload_callbacks\n",
       "      console.info(\"Bokeh: all callbacks have finished\");\n",
       "    }\n",
       "  \n",
       "    function load_libs(js_urls, callback) {\n",
       "      window._bokeh_onload_callbacks.push(callback);\n",
       "      if (window._bokeh_is_loading > 0) {\n",
       "        console.log(\"Bokeh: BokehJS is being loaded, scheduling callback at\", now());\n",
       "        return null;\n",
       "      }\n",
       "      if (js_urls == null || js_urls.length === 0) {\n",
       "        run_callbacks();\n",
       "        return null;\n",
       "      }\n",
       "      console.log(\"Bokeh: BokehJS not loaded, scheduling load and callback at\", now());\n",
       "      window._bokeh_is_loading = js_urls.length;\n",
       "      for (var i = 0; i < js_urls.length; i++) {\n",
       "        var url = js_urls[i];\n",
       "        var s = document.createElement('script');\n",
       "        s.src = url;\n",
       "        s.async = false;\n",
       "        s.onreadystatechange = s.onload = function() {\n",
       "          window._bokeh_is_loading--;\n",
       "          if (window._bokeh_is_loading === 0) {\n",
       "            console.log(\"Bokeh: all BokehJS libraries loaded\");\n",
       "            run_callbacks()\n",
       "          }\n",
       "        };\n",
       "        s.onerror = function() {\n",
       "          console.warn(\"failed to load library \" + url);\n",
       "        };\n",
       "        console.log(\"Bokeh: injecting script tag for BokehJS library: \", url);\n",
       "        document.getElementsByTagName(\"head\")[0].appendChild(s);\n",
       "      }\n",
       "    };var element = document.getElementById(\"295a7fdd-8a8c-41ca-a83e-93f86b49849c\");\n",
       "    if (element == null) {\n",
       "      console.log(\"Bokeh: ERROR: autoload.js configured with elementid '295a7fdd-8a8c-41ca-a83e-93f86b49849c' but no matching script tag was found. \")\n",
       "      return false;\n",
       "    }\n",
       "  \n",
       "    var js_urls = [];\n",
       "  \n",
       "    var inline_js = [\n",
       "      function(Bokeh) {\n",
       "        (function() {\n",
       "          var fn = function() {\n",
       "            var docs_json = {\"58b35919-ed96-4517-9765-ac74f00562a0\":{\"roots\":{\"references\":[{\"attributes\":{\"callback\":null,\"column_names\":[\"line_color\",\"fill_alpha\",\"label\",\"x\",\"y\",\"height\",\"line_alpha\",\"color\",\"width\"],\"data\":{\"Gender\":[\"Female\"],\"chart_index\":[{\"Gender\":\"Female\"}],\"color\":[\"#f22c40\"],\"fill_alpha\":[0.8],\"height\":[125.0],\"label\":[{\"Gender\":\"Female\"}],\"line_alpha\":[1.0],\"line_color\":[\"white\"],\"width\":[0.8],\"x\":[\"Female\"],\"y\":[62.5]}},\"id\":\"866b7ce3-886c-44dd-8d95-17cd576a866f\",\"type\":\"ColumnDataSource\"},{\"attributes\":{\"dimension\":1,\"plot\":{\"id\":\"6c84b066-c56f-40f8-912d-78154e33bda7\",\"subtype\":\"Chart\",\"type\":\"Plot\"},\"ticker\":{\"id\":\"20d655bc-d08a-4050-8a22-1db4ff541fb3\",\"type\":\"BasicTicker\"}},\"id\":\"4477566e-7b56-4625-abe6-6de21422ab61\",\"type\":\"Grid\"},{\"attributes\":{\"axis_label\":\"Gender\",\"formatter\":{\"id\":\"647cc7d2-ed58-40dd-b958-1f5b41ec45c2\",\"type\":\"CategoricalTickFormatter\"},\"major_label_orientation\":0.7853981633974483,\"plot\":{\"id\":\"6c84b066-c56f-40f8-912d-78154e33bda7\",\"subtype\":\"Chart\",\"type\":\"Plot\"},\"ticker\":{\"id\":\"7460b400-7bbf-46f4-b137-0deae9644bb8\",\"type\":\"CategoricalTicker\"}},\"id\":\"487199b2-05af-4853-ab4e-77693d55bb32\",\"type\":\"CategoricalAxis\"},{\"attributes\":{\"plot\":{\"id\":\"96e3d2ad-46c9-4d51-b4b8-9339a2cf4303\",\"subtype\":\"Chart\",\"type\":\"Plot\"}},\"id\":\"31171106-9b7d-4e11-bdaf-e64122abd747\",\"type\":\"HelpTool\"},{\"attributes\":{\"line_color\":{\"value\":\"#f22c40\"},\"line_width\":{\"value\":2},\"x\":{\"field\":\"x_values\"},\"y\":{\"field\":\"y_values\"}},\"id\":\"6ff590a3-cda1-4ea6-90e1-e2831eabc3b2\",\"type\":\"Line\"},{\"attributes\":{\"plot\":{\"id\":\"a5825d97-24d4-4240-ad2e-07b01c22b33a\",\"subtype\":\"Chart\",\"type\":\"Plot\"}},\"id\":\"90cd7d54-63fc-49dc-b831-664c8b90c767\",\"type\":\"HelpTool\"},{\"attributes\":{\"data_source\":{\"id\":\"178cff15-1872-49f9-b014-8aeacfff2add\",\"type\":\"ColumnDataSource\"},\"glyph\":{\"id\":\"51d8dc61-79f2-4a7f-865c-e681e5acbd89\",\"type\":\"Line\"},\"hover_glyph\":null,\"nonselection_glyph\":null,\"selection_glyph\":null},\"id\":\"9f793d67-b79b-4d60-a793-66933969c96e\",\"type\":\"GlyphRenderer\"},{\"attributes\":{\"line_color\":{\"value\":\"#5ab738\"},\"line_width\":{\"value\":2},\"x\":{\"field\":\"x_values\"},\"y\":{\"field\":\"y_values\"}},\"id\":\"51d8dc61-79f2-4a7f-865c-e681e5acbd89\",\"type\":\"Line\"},{\"attributes\":{},\"id\":\"512e16b6-a048-400b-8db6-d55878a31738\",\"type\":\"CategoricalTickFormatter\"},{\"attributes\":{\"child\":{\"id\":\"6c84b066-c56f-40f8-912d-78154e33bda7\",\"subtype\":\"Chart\",\"type\":\"Plot\"},\"title\":\"2001\"},\"id\":\"eade8be6-9613-4b61-8a6b-75fa3f8a1f35\",\"type\":\"Panel\"},{\"attributes\":{\"label\":{\"value\":\"Female\"},\"renderers\":[{\"id\":\"dd16ebb1-bc9b-4408-a64c-4d91094b46ea\",\"type\":\"GlyphRenderer\"}]},\"id\":\"0fe9fd03-28c5-464b-bb7f-af45ae6e9fbc\",\"type\":\"LegendItem\"},{\"attributes\":{\"bottom_units\":\"screen\",\"fill_alpha\":{\"value\":0.5},\"fill_color\":{\"value\":\"lightgrey\"},\"left_units\":\"screen\",\"level\":\"overlay\",\"line_alpha\":{\"value\":1.0},\"line_color\":{\"value\":\"black\"},\"line_dash\":[4,4],\"line_width\":{\"value\":2},\"plot\":null,\"render_mode\":\"css\",\"right_units\":\"screen\",\"top_units\":\"screen\"},\"id\":\"5df4875b-a9b1-4110-9847-c36ed49864f2\",\"type\":\"BoxAnnotation\"},{\"attributes\":{\"fill_alpha\":{\"field\":\"fill_alpha\"},\"fill_color\":{\"field\":\"color\"},\"height\":{\"field\":\"height\",\"units\":\"data\"},\"line_color\":{\"field\":\"line_color\"},\"width\":{\"field\":\"width\",\"units\":\"data\"},\"x\":{\"field\":\"x\"},\"y\":{\"field\":\"y\"}},\"id\":\"229c3b35-3c50-4822-9bbc-4a7c85ea007d\",\"type\":\"Rect\"},{\"attributes\":{\"plot\":{\"id\":\"a5825d97-24d4-4240-ad2e-07b01c22b33a\",\"subtype\":\"Chart\",\"type\":\"Plot\"}},\"id\":\"312a0fd9-a85d-4bca-8042-846ba665fda2\",\"type\":\"SaveTool\"},{\"attributes\":{\"plot\":{\"id\":\"6c84b066-c56f-40f8-912d-78154e33bda7\",\"subtype\":\"Chart\",\"type\":\"Plot\"}},\"id\":\"df7707ab-03e8-4690-8cd2-775ec755729b\",\"type\":\"SaveTool\"},{\"attributes\":{},\"id\":\"7460b400-7bbf-46f4-b137-0deae9644bb8\",\"type\":\"CategoricalTicker\"},{\"attributes\":{\"data_source\":{\"id\":\"74453911-ccfd-43b0-9d3d-0b589725de24\",\"type\":\"ColumnDataSource\"},\"glyph\":{\"id\":\"6e0f97c3-142c-4dfc-a2eb-2eb8e0aa5124\",\"type\":\"Rect\"},\"hover_glyph\":null,\"nonselection_glyph\":null,\"selection_glyph\":null},\"id\":\"279e6cff-4713-4dc6-ab1d-4334b41c4851\",\"type\":\"GlyphRenderer\"},{\"attributes\":{\"callback\":null,\"column_names\":[\"line_color\",\"fill_alpha\",\"label\",\"x\",\"y\",\"height\",\"line_alpha\",\"color\",\"width\"],\"data\":{\"Gender\":[\"Female\"],\"chart_index\":[{\"Gender\":\"Female\"}],\"color\":[\"#f22c40\"],\"fill_alpha\":[0.8],\"height\":[77.0],\"label\":[{\"Gender\":\"Female\"}],\"line_alpha\":[1.0],\"line_color\":[\"white\"],\"width\":[0.8],\"x\":[\"Female\"],\"y\":[38.5]}},\"id\":\"0bb3cbb5-91a9-4d52-876b-27e348e151cb\",\"type\":\"ColumnDataSource\"},{\"attributes\":{\"plot\":{\"id\":\"96e3d2ad-46c9-4d51-b4b8-9339a2cf4303\",\"subtype\":\"Chart\",\"type\":\"Plot\"}},\"id\":\"eb2fcff3-b088-4346-8b13-9f9f06cd8b02\",\"type\":\"SaveTool\"},{\"attributes\":{\"overlay\":{\"id\":\"8c5292ec-2c19-4b3f-a4ab-bc218e705474\",\"type\":\"BoxAnnotation\"},\"plot\":{\"id\":\"6c84b066-c56f-40f8-912d-78154e33bda7\",\"subtype\":\"Chart\",\"type\":\"Plot\"}},\"id\":\"37cb94d3-72ad-4bd6-b318-fb3c66803dfa\",\"type\":\"BoxZoomTool\"},{\"attributes\":{\"callback\":null,\"column_names\":[\"line_color\",\"fill_alpha\",\"label\",\"x\",\"y\",\"height\",\"line_alpha\",\"color\",\"width\"],\"data\":{\"Gender\":[\"Male\"],\"chart_index\":[{\"Gender\":\"Male\"}],\"color\":[\"#5ab738\"],\"fill_alpha\":[0.8],\"height\":[1337.0],\"label\":[{\"Gender\":\"Male\"}],\"line_alpha\":[1.0],\"line_color\":[\"white\"],\"width\":[0.8],\"x\":[\"Male\"],\"y\":[668.5]}},\"id\":\"203fc247-a421-45a1-833d-2270868d7bcf\",\"type\":\"ColumnDataSource\"},{\"attributes\":{\"data_source\":{\"id\":\"cff402ca-02b1-459f-916e-c279d28574f6\",\"type\":\"ColumnDataSource\"},\"glyph\":{\"id\":\"6ff590a3-cda1-4ea6-90e1-e2831eabc3b2\",\"type\":\"Line\"},\"hover_glyph\":null,\"nonselection_glyph\":null,\"selection_glyph\":null},\"id\":\"aa354f6a-cbed-48b9-995c-712af989fd63\",\"type\":\"GlyphRenderer\"},{\"attributes\":{\"callback\":null,\"factors\":[\"Female\",\"Male\"]},\"id\":\"c7d4bc36-00d4-4d81-b3d3-5884d80084d3\",\"type\":\"FactorRange\"},{\"attributes\":{\"items\":[{\"id\":\"16978f0b-4e28-4e1a-88b3-45daf6d99eac\",\"type\":\"LegendItem\"},{\"id\":\"d67a24ec-4f20-4268-92ff-c652d613f1a2\",\"type\":\"LegendItem\"}],\"location\":\"top_left\",\"plot\":{\"id\":\"6c84b066-c56f-40f8-912d-78154e33bda7\",\"subtype\":\"Chart\",\"type\":\"Plot\"}},\"id\":\"f615f5e6-27ef-43f3-99bd-5ce68da5d8dd\",\"type\":\"Legend\"},{\"attributes\":{\"plot\":{\"id\":\"a5825d97-24d4-4240-ad2e-07b01c22b33a\",\"subtype\":\"Chart\",\"type\":\"Plot\"}},\"id\":\"7107da1e-b727-487d-bf5d-331f858c2a9b\",\"type\":\"ResetTool\"},{\"attributes\":{\"axis_label\":\"Amount, 2012\",\"formatter\":{\"id\":\"d375502f-02ad-45b0-b139-46bb2307703a\",\"type\":\"BasicTickFormatter\"},\"plot\":{\"id\":\"a5825d97-24d4-4240-ad2e-07b01c22b33a\",\"subtype\":\"Chart\",\"type\":\"Plot\"},\"ticker\":{\"id\":\"5349b9f4-7de9-44c8-aab6-147d2b2c1cbf\",\"type\":\"BasicTicker\"}},\"id\":\"f14ebf6e-1c34-44e1-9bfd-de58b756806a\",\"type\":\"LinearAxis\"},{\"attributes\":{\"callback\":null,\"end\":4000},\"id\":\"4276e015-5c9c-48df-a044-3e7f95ef6310\",\"type\":\"Range1d\"},{\"attributes\":{\"overlay\":{\"id\":\"5df4875b-a9b1-4110-9847-c36ed49864f2\",\"type\":\"BoxAnnotation\"},\"plot\":{\"id\":\"a5825d97-24d4-4240-ad2e-07b01c22b33a\",\"subtype\":\"Chart\",\"type\":\"Plot\"}},\"id\":\"a7546993-8386-4141-a06c-eb50acea5b61\",\"type\":\"BoxZoomTool\"},{\"attributes\":{\"callback\":null,\"column_names\":[\"line_color\",\"fill_alpha\",\"label\",\"x\",\"y\",\"height\",\"line_alpha\",\"color\",\"width\"],\"data\":{\"Gender\":[\"Male\"],\"chart_index\":[{\"Gender\":\"Male\"}],\"color\":[\"#5ab738\"],\"fill_alpha\":[0.8],\"height\":[3883.0],\"label\":[{\"Gender\":\"Male\"}],\"line_alpha\":[1.0],\"line_color\":[\"white\"],\"width\":[0.8],\"x\":[\"Male\"],\"y\":[1941.5]}},\"id\":\"74453911-ccfd-43b0-9d3d-0b589725de24\",\"type\":\"ColumnDataSource\"},{\"attributes\":{},\"id\":\"5349b9f4-7de9-44c8-aab6-147d2b2c1cbf\",\"type\":\"BasicTicker\"},{\"attributes\":{\"children\":[{\"id\":\"731c502d-016f-415c-b843-29e3433ad5da\",\"type\":\"Tabs\"}]},\"id\":\"84f5cbd9-ffe9-4167-834a-024a27117682\",\"type\":\"WidgetBox\"},{\"attributes\":{\"below\":[{\"id\":\"94a1dabd-14b4-4a10-a0dd-29be69e664a5\",\"type\":\"CategoricalAxis\"}],\"css_classes\":null,\"height\":550,\"left\":[{\"id\":\"f14ebf6e-1c34-44e1-9bfd-de58b756806a\",\"type\":\"LinearAxis\"}],\"renderers\":[{\"id\":\"5df4875b-a9b1-4110-9847-c36ed49864f2\",\"type\":\"BoxAnnotation\"},{\"id\":\"dd16ebb1-bc9b-4408-a64c-4d91094b46ea\",\"type\":\"GlyphRenderer\"},{\"id\":\"279e6cff-4713-4dc6-ab1d-4334b41c4851\",\"type\":\"GlyphRenderer\"},{\"id\":\"65153584-9fa6-4d1b-b463-4f43f8fe2802\",\"type\":\"Legend\"},{\"id\":\"94a1dabd-14b4-4a10-a0dd-29be69e664a5\",\"type\":\"CategoricalAxis\"},{\"id\":\"f14ebf6e-1c34-44e1-9bfd-de58b756806a\",\"type\":\"LinearAxis\"},{\"id\":\"a6fdb0f5-258a-47e4-a1a9-6ce537a50d04\",\"type\":\"Grid\"}],\"title\":{\"id\":\"d166a159-12e4-42e0-808b-a9a1f06d36fd\",\"type\":\"Title\"},\"tool_events\":{\"id\":\"16d16d09-2fc7-4272-9c9b-a1c99b11f341\",\"type\":\"ToolEvents\"},\"toolbar\":{\"id\":\"8a769f76-de45-4a1c-9ff6-39900d6d7818\",\"type\":\"Toolbar\"},\"toolbar_location\":null,\"width\":400,\"x_mapper_type\":\"auto\",\"x_range\":{\"id\":\"c7d4bc36-00d4-4d81-b3d3-5884d80084d3\",\"type\":\"FactorRange\"},\"y_mapper_type\":\"auto\",\"y_range\":{\"id\":\"2a3086d1-b2f8-45bf-a30b-93f161645696\",\"type\":\"Range1d\"}},\"id\":\"a5825d97-24d4-4240-ad2e-07b01c22b33a\",\"subtype\":\"Chart\",\"type\":\"Plot\"},{\"attributes\":{\"fill_alpha\":{\"field\":\"fill_alpha\"},\"fill_color\":{\"field\":\"color\"},\"height\":{\"field\":\"height\",\"units\":\"data\"},\"line_color\":{\"field\":\"line_color\"},\"width\":{\"field\":\"width\",\"units\":\"data\"},\"x\":{\"field\":\"x\"},\"y\":{\"field\":\"y\"}},\"id\":\"6e0f97c3-142c-4dfc-a2eb-2eb8e0aa5124\",\"type\":\"Rect\"},{\"attributes\":{},\"id\":\"16d16d09-2fc7-4272-9c9b-a1c99b11f341\",\"type\":\"ToolEvents\"},{\"attributes\":{},\"id\":\"9a586f42-07cf-4a1e-8cef-d4a91b07d691\",\"type\":\"BasicTicker\"},{\"attributes\":{\"below\":[{\"id\":\"487199b2-05af-4853-ab4e-77693d55bb32\",\"type\":\"CategoricalAxis\"}],\"css_classes\":null,\"height\":550,\"left\":[{\"id\":\"23dff2a7-84a7-4c46-9219-988a3d5d13ed\",\"type\":\"LinearAxis\"}],\"renderers\":[{\"id\":\"8c5292ec-2c19-4b3f-a4ab-bc218e705474\",\"type\":\"BoxAnnotation\"},{\"id\":\"f833aa90-ccb1-40bc-a46a-95888edc3d07\",\"type\":\"GlyphRenderer\"},{\"id\":\"d4c99566-7a0a-44b7-8df7-e2391927b9fa\",\"type\":\"GlyphRenderer\"},{\"id\":\"f615f5e6-27ef-43f3-99bd-5ce68da5d8dd\",\"type\":\"Legend\"},{\"id\":\"487199b2-05af-4853-ab4e-77693d55bb32\",\"type\":\"CategoricalAxis\"},{\"id\":\"23dff2a7-84a7-4c46-9219-988a3d5d13ed\",\"type\":\"LinearAxis\"},{\"id\":\"4477566e-7b56-4625-abe6-6de21422ab61\",\"type\":\"Grid\"}],\"title\":{\"id\":\"8d2107b9-69b7-437f-9595-a7d66a591e29\",\"type\":\"Title\"},\"tool_events\":{\"id\":\"b8fa1732-4b55-40ed-b5aa-cdbf8fddd963\",\"type\":\"ToolEvents\"},\"toolbar\":{\"id\":\"0adb8bee-c279-43a5-a28b-53883201b7d1\",\"type\":\"Toolbar\"},\"toolbar_location\":null,\"width\":400,\"x_mapper_type\":\"auto\",\"x_range\":{\"id\":\"16914702-ab97-442e-a8dd-b2fa72264cec\",\"type\":\"FactorRange\"},\"y_mapper_type\":\"auto\",\"y_range\":{\"id\":\"4276e015-5c9c-48df-a044-3e7f95ef6310\",\"type\":\"Range1d\"}},\"id\":\"6c84b066-c56f-40f8-912d-78154e33bda7\",\"subtype\":\"Chart\",\"type\":\"Plot\"},{\"attributes\":{\"plot\":{\"id\":\"6c84b066-c56f-40f8-912d-78154e33bda7\",\"subtype\":\"Chart\",\"type\":\"Plot\"}},\"id\":\"05bb1960-94a2-405f-ade2-e7c1ae476c4f\",\"type\":\"ResetTool\"},{\"attributes\":{\"plot\":{\"id\":\"a5825d97-24d4-4240-ad2e-07b01c22b33a\",\"subtype\":\"Chart\",\"type\":\"Plot\"}},\"id\":\"40f91a4a-8640-4b27-a950-61699f16a0b3\",\"type\":\"WheelZoomTool\"},{\"attributes\":{},\"id\":\"8c6a6db3-0793-4137-87a2-80dc596136d6\",\"type\":\"CategoricalTicker\"},{\"attributes\":{\"callback\":null,\"factors\":[\"Female\",\"Male\"]},\"id\":\"16914702-ab97-442e-a8dd-b2fa72264cec\",\"type\":\"FactorRange\"},{\"attributes\":{},\"id\":\"647cc7d2-ed58-40dd-b958-1f5b41ec45c2\",\"type\":\"CategoricalTickFormatter\"},{\"attributes\":{\"plot\":{\"id\":\"a5825d97-24d4-4240-ad2e-07b01c22b33a\",\"subtype\":\"Chart\",\"type\":\"Plot\"}},\"id\":\"b401aaeb-d6f0-4594-a349-11b5e812b2da\",\"type\":\"PanTool\"},{\"attributes\":{\"plot\":{\"id\":\"96e3d2ad-46c9-4d51-b4b8-9339a2cf4303\",\"subtype\":\"Chart\",\"type\":\"Plot\"}},\"id\":\"dd948ca5-6a24-41e0-b506-2345c7e1c21c\",\"type\":\"ResetTool\"},{\"attributes\":{\"active_drag\":\"auto\",\"active_scroll\":\"auto\",\"active_tap\":\"auto\",\"tools\":[{\"id\":\"090489a0-0642-4ad1-9106-42fef071dac9\",\"type\":\"PanTool\"},{\"id\":\"dddcaf64-859a-4213-8035-e21a704919fc\",\"type\":\"WheelZoomTool\"},{\"id\":\"37cb94d3-72ad-4bd6-b318-fb3c66803dfa\",\"type\":\"BoxZoomTool\"},{\"id\":\"df7707ab-03e8-4690-8cd2-775ec755729b\",\"type\":\"SaveTool\"},{\"id\":\"05bb1960-94a2-405f-ade2-e7c1ae476c4f\",\"type\":\"ResetTool\"},{\"id\":\"f84f36e6-1cc2-4c58-a0f0-d8ffb4ac3d01\",\"type\":\"HelpTool\"}]},\"id\":\"0adb8bee-c279-43a5-a28b-53883201b7d1\",\"type\":\"Toolbar\"},{\"attributes\":{\"callback\":null,\"tabs\":[{\"id\":\"83738159-79e4-4a46-a876-003d608b79dd\",\"type\":\"Panel\"},{\"id\":\"eade8be6-9613-4b61-8a6b-75fa3f8a1f35\",\"type\":\"Panel\"}]},\"id\":\"731c502d-016f-415c-b843-29e3433ad5da\",\"type\":\"Tabs\"},{\"attributes\":{\"data_source\":{\"id\":\"866b7ce3-886c-44dd-8d95-17cd576a866f\",\"type\":\"ColumnDataSource\"},\"glyph\":{\"id\":\"229c3b35-3c50-4822-9bbc-4a7c85ea007d\",\"type\":\"Rect\"},\"hover_glyph\":null,\"nonselection_glyph\":null,\"selection_glyph\":null},\"id\":\"dd16ebb1-bc9b-4408-a64c-4d91094b46ea\",\"type\":\"GlyphRenderer\"},{\"attributes\":{},\"id\":\"3388763f-6b71-4fe7-bed9-c82bba3197c8\",\"type\":\"ToolEvents\"},{\"attributes\":{\"axis_label\":\"Year\",\"formatter\":{\"id\":\"d0ab1453-e6b6-49da-88dc-915449a44731\",\"type\":\"BasicTickFormatter\"},\"plot\":{\"id\":\"96e3d2ad-46c9-4d51-b4b8-9339a2cf4303\",\"subtype\":\"Chart\",\"type\":\"Plot\"},\"ticker\":{\"id\":\"f052c861-c90f-428e-8b1f-f4822d8fa5be\",\"type\":\"BasicTicker\"}},\"id\":\"b336b6f3-a634-4305-999b-884f283a398c\",\"type\":\"LinearAxis\"},{\"attributes\":{\"label\":{\"value\":\"Male\"},\"renderers\":[{\"id\":\"d4c99566-7a0a-44b7-8df7-e2391927b9fa\",\"type\":\"GlyphRenderer\"}]},\"id\":\"d67a24ec-4f20-4268-92ff-c652d613f1a2\",\"type\":\"LegendItem\"},{\"attributes\":{\"axis_label\":\"Suicides, indexed 2001 values\",\"formatter\":{\"id\":\"75677225-68f5-4a34-956e-3992b49205b7\",\"type\":\"BasicTickFormatter\"},\"plot\":{\"id\":\"96e3d2ad-46c9-4d51-b4b8-9339a2cf4303\",\"subtype\":\"Chart\",\"type\":\"Plot\"},\"ticker\":{\"id\":\"9a586f42-07cf-4a1e-8cef-d4a91b07d691\",\"type\":\"BasicTicker\"}},\"id\":\"2e0803c5-960e-4c67-81e0-de7e7755cd03\",\"type\":\"LinearAxis\"},{\"attributes\":{\"overlay\":{\"id\":\"79e6a98c-9c54-417e-92ee-a0e5d016f11d\",\"type\":\"BoxAnnotation\"},\"plot\":{\"id\":\"96e3d2ad-46c9-4d51-b4b8-9339a2cf4303\",\"subtype\":\"Chart\",\"type\":\"Plot\"}},\"id\":\"922bb461-662e-45da-9f9e-ec1329c5c868\",\"type\":\"BoxZoomTool\"},{\"attributes\":{\"plot\":null,\"text\":\"Men constitute majority of drug abuses\"},\"id\":\"d166a159-12e4-42e0-808b-a9a1f06d36fd\",\"type\":\"Title\"},{\"attributes\":{\"items\":[{\"id\":\"19b4a4bc-fd3e-442a-b3ea-fe7d03224a64\",\"type\":\"LegendItem\"},{\"id\":\"9836bcf5-3768-4c35-8d7c-22fd9a3cff2b\",\"type\":\"LegendItem\"}],\"location\":\"top_left\",\"plot\":{\"id\":\"96e3d2ad-46c9-4d51-b4b8-9339a2cf4303\",\"subtype\":\"Chart\",\"type\":\"Plot\"}},\"id\":\"78090849-f229-432a-a0cb-35623f71d8ae\",\"type\":\"Legend\"},{\"attributes\":{},\"id\":\"6aacf621-3566-4664-9877-c8c814a5908c\",\"type\":\"BasicTickFormatter\"},{\"attributes\":{\"callback\":null,\"end\":2013.1,\"start\":1999.9},\"id\":\"2d56d353-7645-4921-ba79-36e7459188d5\",\"type\":\"Range1d\"},{\"attributes\":{\"data_source\":{\"id\":\"0bb3cbb5-91a9-4d52-876b-27e348e151cb\",\"type\":\"ColumnDataSource\"},\"glyph\":{\"id\":\"894fb0ee-dea2-40fd-9d0b-12bc6d1a2b31\",\"type\":\"Rect\"},\"hover_glyph\":null,\"nonselection_glyph\":null,\"selection_glyph\":null},\"id\":\"f833aa90-ccb1-40bc-a46a-95888edc3d07\",\"type\":\"GlyphRenderer\"},{\"attributes\":{\"bottom_units\":\"screen\",\"fill_alpha\":{\"value\":0.5},\"fill_color\":{\"value\":\"lightgrey\"},\"left_units\":\"screen\",\"level\":\"overlay\",\"line_alpha\":{\"value\":1.0},\"line_color\":{\"value\":\"black\"},\"line_dash\":[4,4],\"line_width\":{\"value\":2},\"plot\":null,\"render_mode\":\"css\",\"right_units\":\"screen\",\"top_units\":\"screen\"},\"id\":\"79e6a98c-9c54-417e-92ee-a0e5d016f11d\",\"type\":\"BoxAnnotation\"},{\"attributes\":{\"bottom_units\":\"screen\",\"fill_alpha\":{\"value\":0.5},\"fill_color\":{\"value\":\"lightgrey\"},\"left_units\":\"screen\",\"level\":\"overlay\",\"line_alpha\":{\"value\":1.0},\"line_color\":{\"value\":\"black\"},\"line_dash\":[4,4],\"line_width\":{\"value\":2},\"plot\":null,\"render_mode\":\"css\",\"right_units\":\"screen\",\"top_units\":\"screen\"},\"id\":\"8c5292ec-2c19-4b3f-a4ab-bc218e705474\",\"type\":\"BoxAnnotation\"},{\"attributes\":{\"plot\":{\"id\":\"96e3d2ad-46c9-4d51-b4b8-9339a2cf4303\",\"subtype\":\"Chart\",\"type\":\"Plot\"},\"ticker\":{\"id\":\"f052c861-c90f-428e-8b1f-f4822d8fa5be\",\"type\":\"BasicTicker\"}},\"id\":\"7947d53b-265a-4d63-896d-5dd8fb4e1008\",\"type\":\"Grid\"},{\"attributes\":{\"dimension\":1,\"plot\":{\"id\":\"96e3d2ad-46c9-4d51-b4b8-9339a2cf4303\",\"subtype\":\"Chart\",\"type\":\"Plot\"},\"ticker\":{\"id\":\"9a586f42-07cf-4a1e-8cef-d4a91b07d691\",\"type\":\"BasicTicker\"}},\"id\":\"645feb6b-7db5-4802-8205-34364af8c451\",\"type\":\"Grid\"},{\"attributes\":{\"fill_alpha\":{\"field\":\"fill_alpha\"},\"fill_color\":{\"field\":\"color\"},\"height\":{\"field\":\"height\",\"units\":\"data\"},\"line_color\":{\"field\":\"line_color\"},\"width\":{\"field\":\"width\",\"units\":\"data\"},\"x\":{\"field\":\"x\"},\"y\":{\"field\":\"y\"}},\"id\":\"894fb0ee-dea2-40fd-9d0b-12bc6d1a2b31\",\"type\":\"Rect\"},{\"attributes\":{\"label\":{\"value\":\"Female\"},\"renderers\":[{\"id\":\"aa354f6a-cbed-48b9-995c-712af989fd63\",\"type\":\"GlyphRenderer\"}]},\"id\":\"19b4a4bc-fd3e-442a-b3ea-fe7d03224a64\",\"type\":\"LegendItem\"},{\"attributes\":{\"fill_alpha\":{\"field\":\"fill_alpha\"},\"fill_color\":{\"field\":\"color\"},\"height\":{\"field\":\"height\",\"units\":\"data\"},\"line_color\":{\"field\":\"line_color\"},\"width\":{\"field\":\"width\",\"units\":\"data\"},\"x\":{\"field\":\"x\"},\"y\":{\"field\":\"y\"}},\"id\":\"f846552a-d8e7-4754-a13e-3d07164134b6\",\"type\":\"Rect\"},{\"attributes\":{\"callback\":null,\"column_names\":[\"y_values\",\"x_values\"],\"data\":{\"Gender\":[\"Female\",\"Female\",\"Female\",\"Female\",\"Female\",\"Female\",\"Female\",\"Female\",\"Female\",\"Female\",\"Female\",\"Female\"],\"chart_index\":[{\"Gender\":\"Female\"},{\"Gender\":\"Female\"},{\"Gender\":\"Female\"},{\"Gender\":\"Female\"},{\"Gender\":\"Female\"},{\"Gender\":\"Female\"},{\"Gender\":\"Female\"},{\"Gender\":\"Female\"},{\"Gender\":\"Female\"},{\"Gender\":\"Female\"},{\"Gender\":\"Female\"},{\"Gender\":\"Female\"}],\"x_values\":[2001,2002,2003,2004,2005,2006,2007,2008,2009,2010,2011,2012],\"y_values\":{\"__ndarray__\":\"AAAAAAAA8D+3bdu2bdv2P87KT4iz8vM/dNFFF1108T8eUwN7x9TwP+miiy666PI/5SfEWfkJ8T8vuuiiiy76P1100UUXXfQ/0UUXXXTR9T9MDewdUwP7P2flJ8RZ+fk/\",\"dtype\":\"float64\",\"shape\":[12]}}},\"id\":\"cff402ca-02b1-459f-916e-c279d28574f6\",\"type\":\"ColumnDataSource\"},{\"attributes\":{\"plot\":{\"id\":\"96e3d2ad-46c9-4d51-b4b8-9339a2cf4303\",\"subtype\":\"Chart\",\"type\":\"Plot\"}},\"id\":\"40c97e04-fda5-41c5-bfa8-3bd38520885d\",\"type\":\"PanTool\"},{\"attributes\":{\"plot\":{\"id\":\"6c84b066-c56f-40f8-912d-78154e33bda7\",\"subtype\":\"Chart\",\"type\":\"Plot\"}},\"id\":\"dddcaf64-859a-4213-8035-e21a704919fc\",\"type\":\"WheelZoomTool\"},{\"attributes\":{},\"id\":\"d0ab1453-e6b6-49da-88dc-915449a44731\",\"type\":\"BasicTickFormatter\"},{\"attributes\":{\"plot\":{\"id\":\"6c84b066-c56f-40f8-912d-78154e33bda7\",\"subtype\":\"Chart\",\"type\":\"Plot\"}},\"id\":\"090489a0-0642-4ad1-9106-42fef071dac9\",\"type\":\"PanTool\"},{\"attributes\":{\"plot\":{\"id\":\"96e3d2ad-46c9-4d51-b4b8-9339a2cf4303\",\"subtype\":\"Chart\",\"type\":\"Plot\"}},\"id\":\"73c90924-25d5-419b-b121-c2cb5dfe6119\",\"type\":\"WheelZoomTool\"},{\"attributes\":{\"dimension\":1,\"plot\":{\"id\":\"a5825d97-24d4-4240-ad2e-07b01c22b33a\",\"subtype\":\"Chart\",\"type\":\"Plot\"},\"ticker\":{\"id\":\"5349b9f4-7de9-44c8-aab6-147d2b2c1cbf\",\"type\":\"BasicTicker\"}},\"id\":\"a6fdb0f5-258a-47e4-a1a9-6ce537a50d04\",\"type\":\"Grid\"},{\"attributes\":{},\"id\":\"75677225-68f5-4a34-956e-3992b49205b7\",\"type\":\"BasicTickFormatter\"},{\"attributes\":{\"label\":{\"value\":\"Female\"},\"renderers\":[{\"id\":\"f833aa90-ccb1-40bc-a46a-95888edc3d07\",\"type\":\"GlyphRenderer\"}]},\"id\":\"16978f0b-4e28-4e1a-88b3-45daf6d99eac\",\"type\":\"LegendItem\"},{\"attributes\":{\"axis_label\":\"Amount, 2001\",\"formatter\":{\"id\":\"6aacf621-3566-4664-9877-c8c814a5908c\",\"type\":\"BasicTickFormatter\"},\"plot\":{\"id\":\"6c84b066-c56f-40f8-912d-78154e33bda7\",\"subtype\":\"Chart\",\"type\":\"Plot\"},\"ticker\":{\"id\":\"20d655bc-d08a-4050-8a22-1db4ff541fb3\",\"type\":\"BasicTicker\"}},\"id\":\"23dff2a7-84a7-4c46-9219-988a3d5d13ed\",\"type\":\"LinearAxis\"},{\"attributes\":{\"plot\":null,\"text\":\"Men constitute majority of drug abuses\"},\"id\":\"8d2107b9-69b7-437f-9595-a7d66a591e29\",\"type\":\"Title\"},{\"attributes\":{},\"id\":\"d375502f-02ad-45b0-b139-46bb2307703a\",\"type\":\"BasicTickFormatter\"},{\"attributes\":{\"label\":{\"value\":\"Male\"},\"renderers\":[{\"id\":\"279e6cff-4713-4dc6-ab1d-4334b41c4851\",\"type\":\"GlyphRenderer\"}]},\"id\":\"cf5e366e-5738-4f63-9d7c-3d28f21f5d6d\",\"type\":\"LegendItem\"},{\"attributes\":{\"callback\":null,\"end\":4000},\"id\":\"2a3086d1-b2f8-45bf-a30b-93f161645696\",\"type\":\"Range1d\"},{\"attributes\":{\"active_drag\":\"auto\",\"active_scroll\":\"auto\",\"active_tap\":\"auto\",\"tools\":[{\"id\":\"b401aaeb-d6f0-4594-a349-11b5e812b2da\",\"type\":\"PanTool\"},{\"id\":\"40f91a4a-8640-4b27-a950-61699f16a0b3\",\"type\":\"WheelZoomTool\"},{\"id\":\"a7546993-8386-4141-a06c-eb50acea5b61\",\"type\":\"BoxZoomTool\"},{\"id\":\"312a0fd9-a85d-4bca-8042-846ba665fda2\",\"type\":\"SaveTool\"},{\"id\":\"7107da1e-b727-487d-bf5d-331f858c2a9b\",\"type\":\"ResetTool\"},{\"id\":\"90cd7d54-63fc-49dc-b831-664c8b90c767\",\"type\":\"HelpTool\"}]},\"id\":\"8a769f76-de45-4a1c-9ff6-39900d6d7818\",\"type\":\"Toolbar\"},{\"attributes\":{\"below\":[{\"id\":\"b336b6f3-a634-4305-999b-884f283a398c\",\"type\":\"LinearAxis\"}],\"css_classes\":null,\"left\":[{\"id\":\"2e0803c5-960e-4c67-81e0-de7e7755cd03\",\"type\":\"LinearAxis\"}],\"renderers\":[{\"id\":\"79e6a98c-9c54-417e-92ee-a0e5d016f11d\",\"type\":\"BoxAnnotation\"},{\"id\":\"aa354f6a-cbed-48b9-995c-712af989fd63\",\"type\":\"GlyphRenderer\"},{\"id\":\"9f793d67-b79b-4d60-a793-66933969c96e\",\"type\":\"GlyphRenderer\"},{\"id\":\"78090849-f229-432a-a0cb-35623f71d8ae\",\"type\":\"Legend\"},{\"id\":\"b336b6f3-a634-4305-999b-884f283a398c\",\"type\":\"LinearAxis\"},{\"id\":\"2e0803c5-960e-4c67-81e0-de7e7755cd03\",\"type\":\"LinearAxis\"},{\"id\":\"7947d53b-265a-4d63-896d-5dd8fb4e1008\",\"type\":\"Grid\"},{\"id\":\"645feb6b-7db5-4802-8205-34364af8c451\",\"type\":\"Grid\"}],\"title\":{\"id\":\"775a888c-bde3-4967-910e-e1c2b2158341\",\"type\":\"Title\"},\"tool_events\":{\"id\":\"3388763f-6b71-4fe7-bed9-c82bba3197c8\",\"type\":\"ToolEvents\"},\"toolbar\":{\"id\":\"708afa77-8d80-43cc-9313-5acce572ec46\",\"type\":\"Toolbar\"},\"toolbar_location\":null,\"width\":550,\"x_mapper_type\":\"auto\",\"x_range\":{\"id\":\"2d56d353-7645-4921-ba79-36e7459188d5\",\"type\":\"Range1d\"},\"y_mapper_type\":\"auto\",\"y_range\":{\"id\":\"1f3466e0-b122-46ea-ab17-c249b53aa3c3\",\"type\":\"Range1d\"}},\"id\":\"96e3d2ad-46c9-4d51-b4b8-9339a2cf4303\",\"subtype\":\"Chart\",\"type\":\"Plot\"},{\"attributes\":{},\"id\":\"b8fa1732-4b55-40ed-b5aa-cdbf8fddd963\",\"type\":\"ToolEvents\"},{\"attributes\":{\"plot\":{\"id\":\"6c84b066-c56f-40f8-912d-78154e33bda7\",\"subtype\":\"Chart\",\"type\":\"Plot\"}},\"id\":\"f84f36e6-1cc2-4c58-a0f0-d8ffb4ac3d01\",\"type\":\"HelpTool\"},{\"attributes\":{\"items\":[{\"id\":\"0fe9fd03-28c5-464b-bb7f-af45ae6e9fbc\",\"type\":\"LegendItem\"},{\"id\":\"cf5e366e-5738-4f63-9d7c-3d28f21f5d6d\",\"type\":\"LegendItem\"}],\"location\":\"top_left\",\"plot\":{\"id\":\"a5825d97-24d4-4240-ad2e-07b01c22b33a\",\"subtype\":\"Chart\",\"type\":\"Plot\"}},\"id\":\"65153584-9fa6-4d1b-b463-4f43f8fe2802\",\"type\":\"Legend\"},{\"attributes\":{\"axis_label\":\"Gender\",\"formatter\":{\"id\":\"512e16b6-a048-400b-8db6-d55878a31738\",\"type\":\"CategoricalTickFormatter\"},\"major_label_orientation\":0.7853981633974483,\"plot\":{\"id\":\"a5825d97-24d4-4240-ad2e-07b01c22b33a\",\"subtype\":\"Chart\",\"type\":\"Plot\"},\"ticker\":{\"id\":\"8c6a6db3-0793-4137-87a2-80dc596136d6\",\"type\":\"CategoricalTicker\"}},\"id\":\"94a1dabd-14b4-4a10-a0dd-29be69e664a5\",\"type\":\"CategoricalAxis\"},{\"attributes\":{},\"id\":\"f052c861-c90f-428e-8b1f-f4822d8fa5be\",\"type\":\"BasicTicker\"},{\"attributes\":{\"data_source\":{\"id\":\"203fc247-a421-45a1-833d-2270868d7bcf\",\"type\":\"ColumnDataSource\"},\"glyph\":{\"id\":\"f846552a-d8e7-4754-a13e-3d07164134b6\",\"type\":\"Rect\"},\"hover_glyph\":null,\"nonselection_glyph\":null,\"selection_glyph\":null},\"id\":\"d4c99566-7a0a-44b7-8df7-e2391927b9fa\",\"type\":\"GlyphRenderer\"},{\"attributes\":{\"callback\":null,\"column_names\":[\"y_values\",\"x_values\"],\"data\":{\"Gender\":[\"Male\",\"Male\",\"Male\",\"Male\",\"Male\",\"Male\",\"Male\",\"Male\",\"Male\",\"Male\",\"Male\",\"Male\"],\"chart_index\":[{\"Gender\":\"Male\"},{\"Gender\":\"Male\"},{\"Gender\":\"Male\"},{\"Gender\":\"Male\"},{\"Gender\":\"Male\"},{\"Gender\":\"Male\"},{\"Gender\":\"Male\"},{\"Gender\":\"Male\"},{\"Gender\":\"Male\"},{\"Gender\":\"Male\"},{\"Gender\":\"Male\"},{\"Gender\":\"Male\"}],\"x_values\":[2001,2002,2003,2004,2005,2006,2007,2008,2009,2010,2011,2012],\"y_values\":{\"__ndarray__\":\"AAAAAAAA8D9knRodqCLzP1EYidT68vM/a0fjRSsO9j+Z+87/CFn3P8M/Sy9RGPk/WNQDTAvt+j/Q26S7jCn/P6gZSmVnBAFABDpZnu1fA0CNKV+HJRwFQJnXamLuOwdA\",\"dtype\":\"float64\",\"shape\":[12]}}},\"id\":\"178cff15-1872-49f9-b014-8aeacfff2add\",\"type\":\"ColumnDataSource\"},{\"attributes\":{\"label\":{\"value\":\"Male\"},\"renderers\":[{\"id\":\"9f793d67-b79b-4d60-a793-66933969c96e\",\"type\":\"GlyphRenderer\"}]},\"id\":\"9836bcf5-3768-4c35-8d7c-22fd9a3cff2b\",\"type\":\"LegendItem\"},{\"attributes\":{\"active_drag\":\"auto\",\"active_scroll\":\"auto\",\"active_tap\":\"auto\",\"tools\":[{\"id\":\"40c97e04-fda5-41c5-bfa8-3bd38520885d\",\"type\":\"PanTool\"},{\"id\":\"73c90924-25d5-419b-b121-c2cb5dfe6119\",\"type\":\"WheelZoomTool\"},{\"id\":\"922bb461-662e-45da-9f9e-ec1329c5c868\",\"type\":\"BoxZoomTool\"},{\"id\":\"eb2fcff3-b088-4346-8b13-9f9f06cd8b02\",\"type\":\"SaveTool\"},{\"id\":\"dd948ca5-6a24-41e0-b506-2345c7e1c21c\",\"type\":\"ResetTool\"},{\"id\":\"31171106-9b7d-4e11-bdaf-e64122abd747\",\"type\":\"HelpTool\"}]},\"id\":\"708afa77-8d80-43cc-9313-5acce572ec46\",\"type\":\"Toolbar\"},{\"attributes\":{\"child\":{\"id\":\"a5825d97-24d4-4240-ad2e-07b01c22b33a\",\"subtype\":\"Chart\",\"type\":\"Plot\"},\"title\":\"2012\"},\"id\":\"83738159-79e4-4a46-a876-003d608b79dd\",\"type\":\"Panel\"},{\"attributes\":{\"callback\":null,\"end\":3.094689603590127,\"start\":0.8095736724008975},\"id\":\"1f3466e0-b122-46ea-ab17-c249b53aa3c3\",\"type\":\"Range1d\"},{\"attributes\":{\"plot\":null,\"text\":\"Male drug abuses increase\"},\"id\":\"775a888c-bde3-4967-910e-e1c2b2158341\",\"type\":\"Title\"},{\"attributes\":{},\"id\":\"20d655bc-d08a-4050-8a22-1db4ff541fb3\",\"type\":\"BasicTicker\"},{\"attributes\":{\"children\":[{\"id\":\"96e3d2ad-46c9-4d51-b4b8-9339a2cf4303\",\"subtype\":\"Chart\",\"type\":\"Plot\"},{\"id\":\"84f5cbd9-ffe9-4167-834a-024a27117682\",\"type\":\"WidgetBox\"}]},\"id\":\"7099b6ad-8798-41ff-a4ce-abc5a8f4d827\",\"type\":\"Row\"}],\"root_ids\":[\"7099b6ad-8798-41ff-a4ce-abc5a8f4d827\"]},\"title\":\"Bokeh Application\",\"version\":\"0.12.4\"}};\n",
       "            var render_items = [{\"docid\":\"58b35919-ed96-4517-9765-ac74f00562a0\",\"elementid\":\"295a7fdd-8a8c-41ca-a83e-93f86b49849c\",\"modelid\":\"7099b6ad-8798-41ff-a4ce-abc5a8f4d827\"}];\n",
       "            \n",
       "            Bokeh.embed.embed_items(docs_json, render_items);\n",
       "          };\n",
       "          if (document.readyState != \"loading\") fn();\n",
       "          else document.addEventListener(\"DOMContentLoaded\", fn);\n",
       "        })();\n",
       "      },\n",
       "      function(Bokeh) {\n",
       "      }\n",
       "    ];\n",
       "  \n",
       "    function run_inline_js() {\n",
       "      \n",
       "      if ((window.Bokeh !== undefined) || (force === true)) {\n",
       "        for (var i = 0; i < inline_js.length; i++) {\n",
       "          inline_js[i](window.Bokeh);\n",
       "        }if (force === true) {\n",
       "          display_loaded();\n",
       "        }} else if (Date.now() < window._bokeh_timeout) {\n",
       "        setTimeout(run_inline_js, 100);\n",
       "      } else if (!window._bokeh_failed_load) {\n",
       "        console.log(\"Bokeh: BokehJS failed to load within specified timeout.\");\n",
       "        window._bokeh_failed_load = true;\n",
       "      } else if (force !== true) {\n",
       "        var cell = $(document.getElementById(\"295a7fdd-8a8c-41ca-a83e-93f86b49849c\")).parents('.cell').data().cell;\n",
       "        cell.output_area.append_execute_result(NB_LOAD_WARNING)\n",
       "      }\n",
       "  \n",
       "    }\n",
       "  \n",
       "    if (window._bokeh_is_loading === 0) {\n",
       "      console.log(\"Bokeh: BokehJS loaded, going straight to plotting\");\n",
       "      run_inline_js();\n",
       "    } else {\n",
       "      load_libs(js_urls, function() {\n",
       "        console.log(\"Bokeh: BokehJS plotting callback run at\", now());\n",
       "        run_inline_js();\n",
       "      });\n",
       "    }\n",
       "  }(this));\n",
       "</script>"
      ]
     },
     "metadata": {},
     "output_type": "display_data"
    }
   ],
   "source": [
    "#create plots\n",
    "p1=Line(drug_by_gender, x='Year', y='indexed_total', title='Male drug abuses increase',ylabel='Suicides, indexed 2001 values',\n",
    "       color='Gender', width=550)\n",
    "p2=Bar(drug_by_gender.loc[drug_by_gender.Year == 2012], 'Gender', values='Total',color='Gender', \n",
    "       width=400,height=550, ylabel='Amount, 2012', title='Men constitute majority of drug abuses')\n",
    "p3=Bar(drug_by_gender.loc[drug_by_gender.Year == 2001], 'Gender', values='Total',color='Gender', \n",
    "       width=400,height=550, ylabel='Amount, 2001', title='Men constitute majority of drug abuses')\n",
    "\n",
    "#scale y axes for p2 p3 to ease comparison\n",
    "p2.y_range=ranges.Range1d(0,4000)\n",
    "p3.y_range=ranges.Range1d(0,4000)\n",
    "\n",
    "#remove toolbars\n",
    "p1.toolbar_location = p2.toolbar_location = p3.toolbar_location = None\n",
    "\n",
    "#create tabs\n",
    "tab1=Panel(child=p2, title='2012')\n",
    "tab2=Panel(child=p3, title='2001')\n",
    "\n",
    "p1.toolbar_location=p2.toolbar_location=p3.toolbar_location=None\n",
    "layout=Tabs(tabs=[tab1, tab2])\n",
    "chart=row(p1,layout)\n",
    "show(chart)"
   ]
  },
  {
   "cell_type": "markdown",
   "metadata": {},
   "source": [
    "The increase in drug abuses does not seem to be restricted to a certain age group. Contrarily to what I might expect, 30-44 year olds make up a much larger portion of drug abuses than 15-29 year olds. This may be a hint that these aren't your run of the mill recreational drug overdoses."
   ]
  },
  {
   "cell_type": "code",
   "execution_count": 92,
   "metadata": {
    "collapsed": false
   },
   "outputs": [
    {
     "data": {
      "text/html": [
       "\n",
       "\n",
       "    <div class=\"bk-root\">\n",
       "        <div class=\"bk-plotdiv\" id=\"452ac2dd-ab2f-4719-8aed-37bcddb9922e\"></div>\n",
       "    </div>\n",
       "<script type=\"text/javascript\">\n",
       "  \n",
       "  (function(global) {\n",
       "    function now() {\n",
       "      return new Date();\n",
       "    }\n",
       "  \n",
       "    var force = false;\n",
       "  \n",
       "    if (typeof (window._bokeh_onload_callbacks) === \"undefined\" || force === true) {\n",
       "      window._bokeh_onload_callbacks = [];\n",
       "      window._bokeh_is_loading = undefined;\n",
       "    }\n",
       "  \n",
       "  \n",
       "    \n",
       "    if (typeof (window._bokeh_timeout) === \"undefined\" || force === true) {\n",
       "      window._bokeh_timeout = Date.now() + 0;\n",
       "      window._bokeh_failed_load = false;\n",
       "    }\n",
       "  \n",
       "    var NB_LOAD_WARNING = {'data': {'text/html':\n",
       "       \"<div style='background-color: #fdd'>\\n\"+\n",
       "       \"<p>\\n\"+\n",
       "       \"BokehJS does not appear to have successfully loaded. If loading BokehJS from CDN, this \\n\"+\n",
       "       \"may be due to a slow or bad network connection. Possible fixes:\\n\"+\n",
       "       \"</p>\\n\"+\n",
       "       \"<ul>\\n\"+\n",
       "       \"<li>re-rerun `output_notebook()` to attempt to load from CDN again, or</li>\\n\"+\n",
       "       \"<li>use INLINE resources instead, as so:</li>\\n\"+\n",
       "       \"</ul>\\n\"+\n",
       "       \"<code>\\n\"+\n",
       "       \"from bokeh.resources import INLINE\\n\"+\n",
       "       \"output_notebook(resources=INLINE)\\n\"+\n",
       "       \"</code>\\n\"+\n",
       "       \"</div>\"}};\n",
       "  \n",
       "    function display_loaded() {\n",
       "      if (window.Bokeh !== undefined) {\n",
       "        document.getElementById(\"452ac2dd-ab2f-4719-8aed-37bcddb9922e\").textContent = \"BokehJS successfully loaded.\";\n",
       "      } else if (Date.now() < window._bokeh_timeout) {\n",
       "        setTimeout(display_loaded, 100)\n",
       "      }\n",
       "    }\n",
       "  \n",
       "    function run_callbacks() {\n",
       "      window._bokeh_onload_callbacks.forEach(function(callback) { callback() });\n",
       "      delete window._bokeh_onload_callbacks\n",
       "      console.info(\"Bokeh: all callbacks have finished\");\n",
       "    }\n",
       "  \n",
       "    function load_libs(js_urls, callback) {\n",
       "      window._bokeh_onload_callbacks.push(callback);\n",
       "      if (window._bokeh_is_loading > 0) {\n",
       "        console.log(\"Bokeh: BokehJS is being loaded, scheduling callback at\", now());\n",
       "        return null;\n",
       "      }\n",
       "      if (js_urls == null || js_urls.length === 0) {\n",
       "        run_callbacks();\n",
       "        return null;\n",
       "      }\n",
       "      console.log(\"Bokeh: BokehJS not loaded, scheduling load and callback at\", now());\n",
       "      window._bokeh_is_loading = js_urls.length;\n",
       "      for (var i = 0; i < js_urls.length; i++) {\n",
       "        var url = js_urls[i];\n",
       "        var s = document.createElement('script');\n",
       "        s.src = url;\n",
       "        s.async = false;\n",
       "        s.onreadystatechange = s.onload = function() {\n",
       "          window._bokeh_is_loading--;\n",
       "          if (window._bokeh_is_loading === 0) {\n",
       "            console.log(\"Bokeh: all BokehJS libraries loaded\");\n",
       "            run_callbacks()\n",
       "          }\n",
       "        };\n",
       "        s.onerror = function() {\n",
       "          console.warn(\"failed to load library \" + url);\n",
       "        };\n",
       "        console.log(\"Bokeh: injecting script tag for BokehJS library: \", url);\n",
       "        document.getElementsByTagName(\"head\")[0].appendChild(s);\n",
       "      }\n",
       "    };var element = document.getElementById(\"452ac2dd-ab2f-4719-8aed-37bcddb9922e\");\n",
       "    if (element == null) {\n",
       "      console.log(\"Bokeh: ERROR: autoload.js configured with elementid '452ac2dd-ab2f-4719-8aed-37bcddb9922e' but no matching script tag was found. \")\n",
       "      return false;\n",
       "    }\n",
       "  \n",
       "    var js_urls = [];\n",
       "  \n",
       "    var inline_js = [\n",
       "      function(Bokeh) {\n",
       "        (function() {\n",
       "          var fn = function() {\n",
       "            var docs_json = {\"b8acd06e-5ef3-4fbb-968f-525c7582cafa\":{\"roots\":{\"references\":[{\"attributes\":{\"plot\":{\"id\":\"8f86e945-6995-42d4-871a-f9260a951b54\",\"subtype\":\"Chart\",\"type\":\"Plot\"}},\"id\":\"c21ccec7-bdc3-44bd-861e-560139423f76\",\"type\":\"SaveTool\"},{\"attributes\":{\"line_color\":{\"value\":\"#5ab738\"},\"line_width\":{\"value\":2},\"x\":{\"field\":\"x_values\"},\"y\":{\"field\":\"y_values\"}},\"id\":\"eb9afc79-c264-4db9-91e7-8f221a28b0c8\",\"type\":\"Line\"},{\"attributes\":{\"fill_alpha\":{\"field\":\"fill_alpha\"},\"fill_color\":{\"field\":\"color\"},\"height\":{\"field\":\"height\",\"units\":\"data\"},\"line_color\":{\"field\":\"line_color\"},\"width\":{\"field\":\"width\",\"units\":\"data\"},\"x\":{\"field\":\"x\"},\"y\":{\"field\":\"y\"}},\"id\":\"42a0f1ac-3112-466c-b2d9-4849385ee529\",\"type\":\"Rect\"},{\"attributes\":{\"plot\":{\"id\":\"8436b4eb-12ca-4ed3-a132-97970f982bad\",\"subtype\":\"Chart\",\"type\":\"Plot\"}},\"id\":\"086d8309-7538-479d-80ab-d32b693dcbf5\",\"type\":\"PanTool\"},{\"attributes\":{\"dimension\":1,\"plot\":{\"id\":\"8f86e945-6995-42d4-871a-f9260a951b54\",\"subtype\":\"Chart\",\"type\":\"Plot\"},\"ticker\":{\"id\":\"3c8690d6-ddda-4e51-a4ef-bea5c0f01853\",\"type\":\"BasicTicker\"}},\"id\":\"22161486-bda3-4e07-ba81-be8f4f245927\",\"type\":\"Grid\"},{\"attributes\":{\"data_source\":{\"id\":\"2b829f8c-65fb-4296-93b5-949b145ba55a\",\"type\":\"ColumnDataSource\"},\"glyph\":{\"id\":\"076efcee-edc4-42c6-8241-00c5132baa34\",\"type\":\"Rect\"},\"hover_glyph\":null,\"nonselection_glyph\":null,\"selection_glyph\":null},\"id\":\"7113e306-ca49-47cc-8cb0-06a869db1dcb\",\"type\":\"GlyphRenderer\"},{\"attributes\":{\"items\":[{\"id\":\"2b54199d-c05c-4121-aa1e-cc8b44d05013\",\"type\":\"LegendItem\"},{\"id\":\"ef5e6c6d-54f3-4ac9-83c4-c3c8f03525d9\",\"type\":\"LegendItem\"},{\"id\":\"5183c0f0-d666-409a-883e-90ea5247585c\",\"type\":\"LegendItem\"},{\"id\":\"e3a00d87-ee61-410e-8181-c5c8c1eef9b2\",\"type\":\"LegendItem\"}],\"location\":\"top_left\",\"plot\":{\"id\":\"8f86e945-6995-42d4-871a-f9260a951b54\",\"subtype\":\"Chart\",\"type\":\"Plot\"}},\"id\":\"47210cb1-058b-4c63-a0c5-b860943a8c68\",\"type\":\"Legend\"},{\"attributes\":{\"below\":[{\"id\":\"388916ec-b593-4ba1-ba74-2af246782a3f\",\"type\":\"CategoricalAxis\"}],\"css_classes\":null,\"height\":550,\"left\":[{\"id\":\"6e0e2fa3-07f5-4b13-afe6-8091c29bea9f\",\"type\":\"LinearAxis\"}],\"renderers\":[{\"id\":\"e162d3f8-e65b-4aa6-bb23-c6ccb967c68d\",\"type\":\"BoxAnnotation\"},{\"id\":\"7fb21bb0-7298-4f95-87f1-33a6e4b17d89\",\"type\":\"GlyphRenderer\"},{\"id\":\"0b19fdfb-4526-49d7-ad18-5c6bcf590a79\",\"type\":\"GlyphRenderer\"},{\"id\":\"c00a5ce5-a5b9-4ee2-8014-cc90080e0f4a\",\"type\":\"GlyphRenderer\"},{\"id\":\"230f877e-cda9-433f-accb-0e64d00c2670\",\"type\":\"GlyphRenderer\"},{\"id\":\"5a032977-570d-47d3-afef-2c5a09a84f49\",\"type\":\"Legend\"},{\"id\":\"388916ec-b593-4ba1-ba74-2af246782a3f\",\"type\":\"CategoricalAxis\"},{\"id\":\"6e0e2fa3-07f5-4b13-afe6-8091c29bea9f\",\"type\":\"LinearAxis\"},{\"id\":\"6d39a6e3-af34-4471-aafa-b2a664c31eba\",\"type\":\"Grid\"}],\"title\":{\"id\":\"32ad0f0d-431b-4dba-bcb9-78f4baf38eb7\",\"type\":\"Title\"},\"tool_events\":{\"id\":\"d1474bc4-8d04-42ad-ae13-3a366f6d42a4\",\"type\":\"ToolEvents\"},\"toolbar\":{\"id\":\"d2c67032-55a8-402c-81ec-5eceb85a2a45\",\"type\":\"Toolbar\"},\"toolbar_location\":null,\"width\":400,\"x_mapper_type\":\"auto\",\"x_range\":{\"id\":\"8dfa281a-a90c-461e-b28d-6f1a120552bd\",\"type\":\"FactorRange\"},\"y_mapper_type\":\"auto\",\"y_range\":{\"id\":\"3cb50abb-fa02-4dac-becb-8a03a3fedb6f\",\"type\":\"Range1d\"}},\"id\":\"8436b4eb-12ca-4ed3-a132-97970f982bad\",\"subtype\":\"Chart\",\"type\":\"Plot\"},{\"attributes\":{\"plot\":null,\"text\":\"Non-indexed values\"},\"id\":\"32ad0f0d-431b-4dba-bcb9-78f4baf38eb7\",\"type\":\"Title\"},{\"attributes\":{},\"id\":\"e2db59f1-af0b-4c85-935f-b31dccbaced5\",\"type\":\"BasicTicker\"},{\"attributes\":{},\"id\":\"4783f40f-8103-4b5c-9362-6c253dafdb7b\",\"type\":\"BasicTickFormatter\"},{\"attributes\":{\"items\":[{\"id\":\"8f581e75-0954-4bf3-b3b0-6bd2762f6719\",\"type\":\"LegendItem\"},{\"id\":\"fd913df7-8f29-43bc-8876-8b03d9f22802\",\"type\":\"LegendItem\"},{\"id\":\"e73ee9b7-9e1f-4ef0-a18d-cd33753b0cd8\",\"type\":\"LegendItem\"},{\"id\":\"a19a9cec-6d67-4175-8d1d-b93987db6b8f\",\"type\":\"LegendItem\"}],\"location\":\"top_left\",\"plot\":{\"id\":\"8436b4eb-12ca-4ed3-a132-97970f982bad\",\"subtype\":\"Chart\",\"type\":\"Plot\"}},\"id\":\"5a032977-570d-47d3-afef-2c5a09a84f49\",\"type\":\"Legend\"},{\"attributes\":{\"fill_alpha\":{\"field\":\"fill_alpha\"},\"fill_color\":{\"field\":\"color\"},\"height\":{\"field\":\"height\",\"units\":\"data\"},\"line_color\":{\"field\":\"line_color\"},\"width\":{\"field\":\"width\",\"units\":\"data\"},\"x\":{\"field\":\"x\"},\"y\":{\"field\":\"y\"}},\"id\":\"5dbe6f1c-91eb-4c28-8ffd-1e4091dfe6e9\",\"type\":\"Rect\"},{\"attributes\":{\"label\":{\"value\":\"45-59\"},\"renderers\":[{\"id\":\"4c70fccf-9bcd-4a48-95c4-7458ab51f122\",\"type\":\"GlyphRenderer\"}]},\"id\":\"b5ce850e-a931-403a-84f6-18589c2b92cd\",\"type\":\"LegendItem\"},{\"attributes\":{},\"id\":\"015b9f1a-9431-42b8-af87-01a93dc18959\",\"type\":\"CategoricalTicker\"},{\"attributes\":{\"below\":[{\"id\":\"c62390e0-7de9-4a09-89ab-df46543b8209\",\"type\":\"CategoricalAxis\"}],\"css_classes\":null,\"height\":550,\"left\":[{\"id\":\"bad290fb-9bb4-46c6-a677-4d6dee61ee6a\",\"type\":\"LinearAxis\"}],\"renderers\":[{\"id\":\"55ac41df-2624-4e59-84bf-75c30d6d984a\",\"type\":\"BoxAnnotation\"},{\"id\":\"3bf48a8c-4c08-4780-9812-dca88f1baf32\",\"type\":\"GlyphRenderer\"},{\"id\":\"5eb5c501-3d11-495f-b414-9565b62c3737\",\"type\":\"GlyphRenderer\"},{\"id\":\"7113e306-ca49-47cc-8cb0-06a869db1dcb\",\"type\":\"GlyphRenderer\"},{\"id\":\"7d7731e9-52d3-4028-b69c-f92bcd1f5125\",\"type\":\"GlyphRenderer\"},{\"id\":\"47210cb1-058b-4c63-a0c5-b860943a8c68\",\"type\":\"Legend\"},{\"id\":\"c62390e0-7de9-4a09-89ab-df46543b8209\",\"type\":\"CategoricalAxis\"},{\"id\":\"bad290fb-9bb4-46c6-a677-4d6dee61ee6a\",\"type\":\"LinearAxis\"},{\"id\":\"22161486-bda3-4e07-ba81-be8f4f245927\",\"type\":\"Grid\"}],\"title\":{\"id\":\"225584bb-7280-4222-9e9f-35daf009c00c\",\"type\":\"Title\"},\"tool_events\":{\"id\":\"0c8cd66a-ed49-45a0-aed1-c8d344bcd1c6\",\"type\":\"ToolEvents\"},\"toolbar\":{\"id\":\"3da75d0c-0343-4614-82f3-94b0d8e04697\",\"type\":\"Toolbar\"},\"toolbar_location\":null,\"width\":400,\"x_mapper_type\":\"auto\",\"x_range\":{\"id\":\"41d09d6e-afab-4a5d-9920-e571a8590e0f\",\"type\":\"FactorRange\"},\"y_mapper_type\":\"auto\",\"y_range\":{\"id\":\"87cc4ec8-b5b7-4d9b-a87e-1ab6e63eb3c5\",\"type\":\"Range1d\"}},\"id\":\"8f86e945-6995-42d4-871a-f9260a951b54\",\"subtype\":\"Chart\",\"type\":\"Plot\"},{\"attributes\":{\"callback\":null,\"column_names\":[\"y_values\",\"x_values\"],\"data\":{\"Age_group\":[\"30-44\",\"30-44\",\"30-44\",\"30-44\",\"30-44\",\"30-44\",\"30-44\",\"30-44\",\"30-44\",\"30-44\",\"30-44\",\"30-44\"],\"chart_index\":[{\"Age_group\":\"30-44\"},{\"Age_group\":\"30-44\"},{\"Age_group\":\"30-44\"},{\"Age_group\":\"30-44\"},{\"Age_group\":\"30-44\"},{\"Age_group\":\"30-44\"},{\"Age_group\":\"30-44\"},{\"Age_group\":\"30-44\"},{\"Age_group\":\"30-44\"},{\"Age_group\":\"30-44\"},{\"Age_group\":\"30-44\"},{\"Age_group\":\"30-44\"}],\"x_values\":[2001,2002,2003,2004,2005,2006,2007,2008,2009,2010,2011,2012],\"y_values\":{\"__ndarray__\":\"AAAAAAAA8D8FJp2aB7nzP0rYADEa7/M/g6vbxJnW9j9C7vrZYmX4P9J4X6GPivw/VCQ7Zilh+z95X6GPimT/P8vwjSgw6QBA8FwOQb3gAkD5dy6HoF4EQEqn5kHu+gVA\",\"dtype\":\"float64\",\"shape\":[12]}}},\"id\":\"93e16afa-57a4-41f2-9e57-2e7eab2678e9\",\"type\":\"ColumnDataSource\"},{\"attributes\":{\"label\":{\"value\":\"30-44\"},\"renderers\":[{\"id\":\"5eb5c501-3d11-495f-b414-9565b62c3737\",\"type\":\"GlyphRenderer\"}]},\"id\":\"ef5e6c6d-54f3-4ac9-83c4-c3c8f03525d9\",\"type\":\"LegendItem\"},{\"attributes\":{\"bottom_units\":\"screen\",\"fill_alpha\":{\"value\":0.5},\"fill_color\":{\"value\":\"lightgrey\"},\"left_units\":\"screen\",\"level\":\"overlay\",\"line_alpha\":{\"value\":1.0},\"line_color\":{\"value\":\"black\"},\"line_dash\":[4,4],\"line_width\":{\"value\":2},\"plot\":null,\"render_mode\":\"css\",\"right_units\":\"screen\",\"top_units\":\"screen\"},\"id\":\"e162d3f8-e65b-4aa6-bb23-c6ccb967c68d\",\"type\":\"BoxAnnotation\"},{\"attributes\":{\"plot\":{\"id\":\"eb8f36b6-50c9-40cd-86d2-8caec39934c7\",\"subtype\":\"Chart\",\"type\":\"Plot\"},\"ticker\":{\"id\":\"6804d4fe-c9d1-483a-9c71-04d474b4b747\",\"type\":\"BasicTicker\"}},\"id\":\"d41b6a2e-8446-40fc-8dde-1a5f4661cf8b\",\"type\":\"Grid\"},{\"attributes\":{\"data_source\":{\"id\":\"166039c0-0f2b-4937-8749-4000cc7f63df\",\"type\":\"ColumnDataSource\"},\"glyph\":{\"id\":\"8f5bc28b-d420-43b9-be3a-ed7ba4b12991\",\"type\":\"Rect\"},\"hover_glyph\":null,\"nonselection_glyph\":null,\"selection_glyph\":null},\"id\":\"5eb5c501-3d11-495f-b414-9565b62c3737\",\"type\":\"GlyphRenderer\"},{\"attributes\":{\"data_source\":{\"id\":\"16a7b671-c9ef-4b64-82c1-3473dba634a2\",\"type\":\"ColumnDataSource\"},\"glyph\":{\"id\":\"b5b4c772-832a-406b-acbc-68e8a870716f\",\"type\":\"Rect\"},\"hover_glyph\":null,\"nonselection_glyph\":null,\"selection_glyph\":null},\"id\":\"c00a5ce5-a5b9-4ee2-8014-cc90080e0f4a\",\"type\":\"GlyphRenderer\"},{\"attributes\":{},\"id\":\"a9b1984a-49f6-4ac1-9243-8465682cc11e\",\"type\":\"CategoricalTicker\"},{\"attributes\":{\"below\":[{\"id\":\"ac013160-8638-47ad-bfc2-11942c09ac42\",\"type\":\"LinearAxis\"}],\"css_classes\":null,\"left\":[{\"id\":\"52223ec3-d926-4471-8fd3-50075a0360c5\",\"type\":\"LinearAxis\"}],\"renderers\":[{\"id\":\"889542f3-caaa-46f9-94e8-560ddfbac2f9\",\"type\":\"BoxAnnotation\"},{\"id\":\"a658aeed-fa7f-4ddf-a931-cd95dc2dc5ce\",\"type\":\"GlyphRenderer\"},{\"id\":\"c615459d-553f-4dee-955a-a2f6c3c90b45\",\"type\":\"GlyphRenderer\"},{\"id\":\"4c70fccf-9bcd-4a48-95c4-7458ab51f122\",\"type\":\"GlyphRenderer\"},{\"id\":\"dfabb109-1dfd-4ed7-8ad8-55c40dd34ccd\",\"type\":\"GlyphRenderer\"},{\"id\":\"819137cf-6ec1-4017-b02f-ffe2da7fcb36\",\"type\":\"Legend\"},{\"id\":\"ac013160-8638-47ad-bfc2-11942c09ac42\",\"type\":\"LinearAxis\"},{\"id\":\"52223ec3-d926-4471-8fd3-50075a0360c5\",\"type\":\"LinearAxis\"},{\"id\":\"d41b6a2e-8446-40fc-8dde-1a5f4661cf8b\",\"type\":\"Grid\"},{\"id\":\"b17b6a66-46a5-4358-b064-258ca2864004\",\"type\":\"Grid\"}],\"title\":{\"id\":\"92fa3aa4-6f71-40ca-9d39-9a987843893d\",\"type\":\"Title\"},\"tool_events\":{\"id\":\"29648ea8-b540-46e6-b5c9-9bccf191dec4\",\"type\":\"ToolEvents\"},\"toolbar\":{\"id\":\"47b1482a-1847-4b3c-913b-378142e7c98a\",\"type\":\"Toolbar\"},\"toolbar_location\":null,\"width\":550,\"x_mapper_type\":\"auto\",\"x_range\":{\"id\":\"290b2db9-70c8-4f58-93dd-283456cd3553\",\"type\":\"Range1d\"},\"y_mapper_type\":\"auto\",\"y_range\":{\"id\":\"7a0df256-00eb-4500-8795-671e31b9929a\",\"type\":\"Range1d\"}},\"id\":\"eb8f36b6-50c9-40cd-86d2-8caec39934c7\",\"subtype\":\"Chart\",\"type\":\"Plot\"},{\"attributes\":{\"data_source\":{\"id\":\"4d74d3fc-8dfc-48fe-84a9-ed5a65ecc77b\",\"type\":\"ColumnDataSource\"},\"glyph\":{\"id\":\"0284b16b-fbca-4115-9fd2-c9bc322cb2af\",\"type\":\"Line\"},\"hover_glyph\":null,\"nonselection_glyph\":null,\"selection_glyph\":null},\"id\":\"4c70fccf-9bcd-4a48-95c4-7458ab51f122\",\"type\":\"GlyphRenderer\"},{\"attributes\":{\"fill_alpha\":{\"field\":\"fill_alpha\"},\"fill_color\":{\"field\":\"color\"},\"height\":{\"field\":\"height\",\"units\":\"data\"},\"line_color\":{\"field\":\"line_color\"},\"width\":{\"field\":\"width\",\"units\":\"data\"},\"x\":{\"field\":\"x\"},\"y\":{\"field\":\"y\"}},\"id\":\"076efcee-edc4-42c6-8241-00c5132baa34\",\"type\":\"Rect\"},{\"attributes\":{\"callback\":null,\"end\":2013.1,\"start\":1999.9},\"id\":\"290b2db9-70c8-4f58-93dd-283456cd3553\",\"type\":\"Range1d\"},{\"attributes\":{\"callback\":null,\"factors\":[\"15-29\",\"30-44\",\"45-59\",\"60+\"]},\"id\":\"41d09d6e-afab-4a5d-9920-e571a8590e0f\",\"type\":\"FactorRange\"},{\"attributes\":{\"plot\":{\"id\":\"8436b4eb-12ca-4ed3-a132-97970f982bad\",\"subtype\":\"Chart\",\"type\":\"Plot\"}},\"id\":\"229b7d36-83b3-4979-a57e-03bda32ed3ab\",\"type\":\"SaveTool\"},{\"attributes\":{},\"id\":\"00246d26-5d18-4054-81c5-98b9f26cce4f\",\"type\":\"BasicTicker\"},{\"attributes\":{\"data_source\":{\"id\":\"5ab97b38-2a1d-4b9e-987d-6e959d4dcec7\",\"type\":\"ColumnDataSource\"},\"glyph\":{\"id\":\"a12c0826-1f8f-43f6-a1f7-be33fc4df5b6\",\"type\":\"Rect\"},\"hover_glyph\":null,\"nonselection_glyph\":null,\"selection_glyph\":null},\"id\":\"0b19fdfb-4526-49d7-ad18-5c6bcf590a79\",\"type\":\"GlyphRenderer\"},{\"attributes\":{\"plot\":{\"id\":\"eb8f36b6-50c9-40cd-86d2-8caec39934c7\",\"subtype\":\"Chart\",\"type\":\"Plot\"}},\"id\":\"1be865c4-f851-47d9-8c84-584d317dc034\",\"type\":\"PanTool\"},{\"attributes\":{\"callback\":null,\"column_names\":[\"line_color\",\"fill_alpha\",\"label\",\"x\",\"y\",\"height\",\"line_alpha\",\"color\",\"width\"],\"data\":{\"Age_group\":[\"30-44\"],\"chart_index\":[{\"Age_group\":\"30-44\"}],\"color\":[\"#5ab738\"],\"fill_alpha\":[0.8],\"height\":[606.0],\"label\":[{\"Age_group\":\"30-44\"}],\"line_alpha\":[1.0],\"line_color\":[\"white\"],\"width\":[0.8],\"x\":[\"30-44\"],\"y\":[303.0]}},\"id\":\"166039c0-0f2b-4937-8749-4000cc7f63df\",\"type\":\"ColumnDataSource\"},{\"attributes\":{\"label\":{\"value\":\"15-29\"},\"renderers\":[{\"id\":\"7fb21bb0-7298-4f95-87f1-33a6e4b17d89\",\"type\":\"GlyphRenderer\"}]},\"id\":\"8f581e75-0954-4bf3-b3b0-6bd2762f6719\",\"type\":\"LegendItem\"},{\"attributes\":{\"plot\":{\"id\":\"8f86e945-6995-42d4-871a-f9260a951b54\",\"subtype\":\"Chart\",\"type\":\"Plot\"}},\"id\":\"083ceeb8-609a-4145-906d-0e9887a6fa96\",\"type\":\"ResetTool\"},{\"attributes\":{\"bottom_units\":\"screen\",\"fill_alpha\":{\"value\":0.5},\"fill_color\":{\"value\":\"lightgrey\"},\"left_units\":\"screen\",\"level\":\"overlay\",\"line_alpha\":{\"value\":1.0},\"line_color\":{\"value\":\"black\"},\"line_dash\":[4,4],\"line_width\":{\"value\":2},\"plot\":null,\"render_mode\":\"css\",\"right_units\":\"screen\",\"top_units\":\"screen\"},\"id\":\"889542f3-caaa-46f9-94e8-560ddfbac2f9\",\"type\":\"BoxAnnotation\"},{\"attributes\":{\"dimension\":1,\"plot\":{\"id\":\"8436b4eb-12ca-4ed3-a132-97970f982bad\",\"subtype\":\"Chart\",\"type\":\"Plot\"},\"ticker\":{\"id\":\"00246d26-5d18-4054-81c5-98b9f26cce4f\",\"type\":\"BasicTicker\"}},\"id\":\"6d39a6e3-af34-4471-aafa-b2a664c31eba\",\"type\":\"Grid\"},{\"attributes\":{\"data_source\":{\"id\":\"d93c3910-f069-4727-8321-52919c836ad7\",\"type\":\"ColumnDataSource\"},\"glyph\":{\"id\":\"87a0290b-41d1-4314-a689-3e2eb645639c\",\"type\":\"Rect\"},\"hover_glyph\":null,\"nonselection_glyph\":null,\"selection_glyph\":null},\"id\":\"7fb21bb0-7298-4f95-87f1-33a6e4b17d89\",\"type\":\"GlyphRenderer\"},{\"attributes\":{\"callback\":null,\"tabs\":[{\"id\":\"8469fb1a-8c83-4c6e-828e-14b2d3ad88c3\",\"type\":\"Panel\"},{\"id\":\"1ca8ce4c-e0c9-46f9-aa67-983e5055ff9a\",\"type\":\"Panel\"}]},\"id\":\"08c17ec0-6084-492c-afdd-7f523c1288c4\",\"type\":\"Tabs\"},{\"attributes\":{\"plot\":{\"id\":\"eb8f36b6-50c9-40cd-86d2-8caec39934c7\",\"subtype\":\"Chart\",\"type\":\"Plot\"}},\"id\":\"1cfb7c27-2023-477f-8bf4-ef5815b33e29\",\"type\":\"SaveTool\"},{\"attributes\":{\"data_source\":{\"id\":\"93e16afa-57a4-41f2-9e57-2e7eab2678e9\",\"type\":\"ColumnDataSource\"},\"glyph\":{\"id\":\"eb9afc79-c264-4db9-91e7-8f221a28b0c8\",\"type\":\"Line\"},\"hover_glyph\":null,\"nonselection_glyph\":null,\"selection_glyph\":null},\"id\":\"c615459d-553f-4dee-955a-a2f6c3c90b45\",\"type\":\"GlyphRenderer\"},{\"attributes\":{\"label\":{\"value\":\"45-59\"},\"renderers\":[{\"id\":\"7113e306-ca49-47cc-8cb0-06a869db1dcb\",\"type\":\"GlyphRenderer\"}]},\"id\":\"5183c0f0-d666-409a-883e-90ea5247585c\",\"type\":\"LegendItem\"},{\"attributes\":{\"callback\":null,\"column_names\":[\"line_color\",\"fill_alpha\",\"label\",\"x\",\"y\",\"height\",\"line_alpha\",\"color\",\"width\"],\"data\":{\"Age_group\":[\"60+\"],\"chart_index\":[{\"Age_group\":\"60+\"}],\"color\":[\"#df5320\"],\"fill_alpha\":[0.8],\"height\":[263.0],\"label\":[{\"Age_group\":\"60+\"}],\"line_alpha\":[1.0],\"line_color\":[\"white\"],\"width\":[0.8],\"x\":[\"60+\"],\"y\":[131.5]}},\"id\":\"a9a0283d-69d9-4b07-893f-1cf4d8c42869\",\"type\":\"ColumnDataSource\"},{\"attributes\":{},\"id\":\"d1474bc4-8d04-42ad-ae13-3a366f6d42a4\",\"type\":\"ToolEvents\"},{\"attributes\":{\"label\":{\"value\":\"60+\"},\"renderers\":[{\"id\":\"230f877e-cda9-433f-accb-0e64d00c2670\",\"type\":\"GlyphRenderer\"}]},\"id\":\"a19a9cec-6d67-4175-8d1d-b93987db6b8f\",\"type\":\"LegendItem\"},{\"attributes\":{\"axis_label\":\"Age_Group\",\"formatter\":{\"id\":\"d9bde5bb-d161-4569-9a5b-3010c3e52e5b\",\"type\":\"CategoricalTickFormatter\"},\"major_label_orientation\":0.7853981633974483,\"plot\":{\"id\":\"8f86e945-6995-42d4-871a-f9260a951b54\",\"subtype\":\"Chart\",\"type\":\"Plot\"},\"ticker\":{\"id\":\"a9b1984a-49f6-4ac1-9243-8465682cc11e\",\"type\":\"CategoricalTicker\"}},\"id\":\"c62390e0-7de9-4a09-89ab-df46543b8209\",\"type\":\"CategoricalAxis\"},{\"attributes\":{\"fill_alpha\":{\"field\":\"fill_alpha\"},\"fill_color\":{\"field\":\"color\"},\"height\":{\"field\":\"height\",\"units\":\"data\"},\"line_color\":{\"field\":\"line_color\"},\"width\":{\"field\":\"width\",\"units\":\"data\"},\"x\":{\"field\":\"x\"},\"y\":{\"field\":\"y\"}},\"id\":\"8f5bc28b-d420-43b9-be3a-ed7ba4b12991\",\"type\":\"Rect\"},{\"attributes\":{\"label\":{\"value\":\"30-44\"},\"renderers\":[{\"id\":\"c615459d-553f-4dee-955a-a2f6c3c90b45\",\"type\":\"GlyphRenderer\"}]},\"id\":\"f01a5b61-5339-4a2f-923c-9163d69b3382\",\"type\":\"LegendItem\"},{\"attributes\":{\"axis_label\":\"Total, 2001\",\"formatter\":{\"id\":\"acab9106-03cf-45ad-b326-1416076a092c\",\"type\":\"BasicTickFormatter\"},\"plot\":{\"id\":\"8f86e945-6995-42d4-871a-f9260a951b54\",\"subtype\":\"Chart\",\"type\":\"Plot\"},\"ticker\":{\"id\":\"3c8690d6-ddda-4e51-a4ef-bea5c0f01853\",\"type\":\"BasicTicker\"}},\"id\":\"bad290fb-9bb4-46c6-a677-4d6dee61ee6a\",\"type\":\"LinearAxis\"},{\"attributes\":{\"callback\":null,\"column_names\":[\"line_color\",\"fill_alpha\",\"label\",\"x\",\"y\",\"height\",\"line_alpha\",\"color\",\"width\"],\"data\":{\"Age_group\":[\"45-59\"],\"chart_index\":[{\"Age_group\":\"45-59\"}],\"color\":[\"#407ee7\"],\"fill_alpha\":[0.8],\"height\":[1054.0],\"label\":[{\"Age_group\":\"45-59\"}],\"line_alpha\":[1.0],\"line_color\":[\"white\"],\"width\":[0.8],\"x\":[\"45-59\"],\"y\":[527.0]}},\"id\":\"16a7b671-c9ef-4b64-82c1-3473dba634a2\",\"type\":\"ColumnDataSource\"},{\"attributes\":{},\"id\":\"c5da7e64-3137-41b2-baf2-b7c1f80e8dbf\",\"type\":\"CategoricalTickFormatter\"},{\"attributes\":{},\"id\":\"6804d4fe-c9d1-483a-9c71-04d474b4b747\",\"type\":\"BasicTicker\"},{\"attributes\":{\"overlay\":{\"id\":\"e162d3f8-e65b-4aa6-bb23-c6ccb967c68d\",\"type\":\"BoxAnnotation\"},\"plot\":{\"id\":\"8436b4eb-12ca-4ed3-a132-97970f982bad\",\"subtype\":\"Chart\",\"type\":\"Plot\"}},\"id\":\"3aa1ecdb-b672-4f8a-a5e0-0658602d28fd\",\"type\":\"BoxZoomTool\"},{\"attributes\":{\"items\":[{\"id\":\"8bb7a3b2-a796-41d5-af04-26e9e4a4abe6\",\"type\":\"LegendItem\"},{\"id\":\"f01a5b61-5339-4a2f-923c-9163d69b3382\",\"type\":\"LegendItem\"},{\"id\":\"b5ce850e-a931-403a-84f6-18589c2b92cd\",\"type\":\"LegendItem\"},{\"id\":\"68b99a67-8370-423e-bad4-3fc0a1b40f59\",\"type\":\"LegendItem\"}],\"location\":\"top_left\",\"plot\":{\"id\":\"eb8f36b6-50c9-40cd-86d2-8caec39934c7\",\"subtype\":\"Chart\",\"type\":\"Plot\"}},\"id\":\"819137cf-6ec1-4017-b02f-ffe2da7fcb36\",\"type\":\"Legend\"},{\"attributes\":{\"callback\":null,\"column_names\":[\"line_color\",\"fill_alpha\",\"label\",\"x\",\"y\",\"height\",\"line_alpha\",\"color\",\"width\"],\"data\":{\"Age_group\":[\"30-44\"],\"chart_index\":[{\"Age_group\":\"30-44\"}],\"color\":[\"#5ab738\"],\"fill_alpha\":[0.8],\"height\":[1665.0],\"label\":[{\"Age_group\":\"30-44\"}],\"line_alpha\":[1.0],\"line_color\":[\"white\"],\"width\":[0.8],\"x\":[\"30-44\"],\"y\":[832.5]}},\"id\":\"5ab97b38-2a1d-4b9e-987d-6e959d4dcec7\",\"type\":\"ColumnDataSource\"},{\"attributes\":{\"dimension\":1,\"plot\":{\"id\":\"eb8f36b6-50c9-40cd-86d2-8caec39934c7\",\"subtype\":\"Chart\",\"type\":\"Plot\"},\"ticker\":{\"id\":\"e2db59f1-af0b-4c85-935f-b31dccbaced5\",\"type\":\"BasicTicker\"}},\"id\":\"b17b6a66-46a5-4358-b064-258ca2864004\",\"type\":\"Grid\"},{\"attributes\":{\"callback\":null,\"end\":4.154411764705882,\"start\":0.713235294117647},\"id\":\"7a0df256-00eb-4500-8795-671e31b9929a\",\"type\":\"Range1d\"},{\"attributes\":{\"label\":{\"value\":\"15-29\"},\"renderers\":[{\"id\":\"a658aeed-fa7f-4ddf-a931-cd95dc2dc5ce\",\"type\":\"GlyphRenderer\"}]},\"id\":\"8bb7a3b2-a796-41d5-af04-26e9e4a4abe6\",\"type\":\"LegendItem\"},{\"attributes\":{\"callback\":null,\"factors\":[\"15-29\",\"30-44\",\"45-59\",\"60+\"]},\"id\":\"8dfa281a-a90c-461e-b28d-6f1a120552bd\",\"type\":\"FactorRange\"},{\"attributes\":{\"data_source\":{\"id\":\"a9a0283d-69d9-4b07-893f-1cf4d8c42869\",\"type\":\"ColumnDataSource\"},\"glyph\":{\"id\":\"6a314b89-cedd-4b48-8e55-4c9f760a9da7\",\"type\":\"Rect\"},\"hover_glyph\":null,\"nonselection_glyph\":null,\"selection_glyph\":null},\"id\":\"230f877e-cda9-433f-accb-0e64d00c2670\",\"type\":\"GlyphRenderer\"},{\"attributes\":{\"axis_label\":\"Total, 2012\",\"formatter\":{\"id\":\"a28f2f69-6db9-4ad5-b0a8-77eea684e6cd\",\"type\":\"BasicTickFormatter\"},\"plot\":{\"id\":\"8436b4eb-12ca-4ed3-a132-97970f982bad\",\"subtype\":\"Chart\",\"type\":\"Plot\"},\"ticker\":{\"id\":\"00246d26-5d18-4054-81c5-98b9f26cce4f\",\"type\":\"BasicTicker\"}},\"id\":\"6e0e2fa3-07f5-4b13-afe6-8091c29bea9f\",\"type\":\"LinearAxis\"},{\"attributes\":{},\"id\":\"acab9106-03cf-45ad-b326-1416076a092c\",\"type\":\"BasicTickFormatter\"},{\"attributes\":{\"fill_alpha\":{\"field\":\"fill_alpha\"},\"fill_color\":{\"field\":\"color\"},\"height\":{\"field\":\"height\",\"units\":\"data\"},\"line_color\":{\"field\":\"line_color\"},\"width\":{\"field\":\"width\",\"units\":\"data\"},\"x\":{\"field\":\"x\"},\"y\":{\"field\":\"y\"}},\"id\":\"6a314b89-cedd-4b48-8e55-4c9f760a9da7\",\"type\":\"Rect\"},{\"attributes\":{\"line_color\":{\"value\":\"#f22c40\"},\"line_width\":{\"value\":2},\"x\":{\"field\":\"x_values\"},\"y\":{\"field\":\"y_values\"}},\"id\":\"e5dac966-d68c-4f61-b746-486897609e74\",\"type\":\"Line\"},{\"attributes\":{\"label\":{\"value\":\"60+\"},\"renderers\":[{\"id\":\"dfabb109-1dfd-4ed7-8ad8-55c40dd34ccd\",\"type\":\"GlyphRenderer\"}]},\"id\":\"68b99a67-8370-423e-bad4-3fc0a1b40f59\",\"type\":\"LegendItem\"},{\"attributes\":{\"plot\":{\"id\":\"eb8f36b6-50c9-40cd-86d2-8caec39934c7\",\"subtype\":\"Chart\",\"type\":\"Plot\"}},\"id\":\"b5125a26-6381-4bbb-93fb-c07637c47da3\",\"type\":\"WheelZoomTool\"},{\"attributes\":{\"data_source\":{\"id\":\"314b76ee-ae21-4a51-afdd-3d37c565da24\",\"type\":\"ColumnDataSource\"},\"glyph\":{\"id\":\"5dbe6f1c-91eb-4c28-8ffd-1e4091dfe6e9\",\"type\":\"Rect\"},\"hover_glyph\":null,\"nonselection_glyph\":null,\"selection_glyph\":null},\"id\":\"3bf48a8c-4c08-4780-9812-dca88f1baf32\",\"type\":\"GlyphRenderer\"},{\"attributes\":{\"callback\":null,\"column_names\":[\"y_values\",\"x_values\"],\"data\":{\"Age_group\":[\"15-29\",\"15-29\",\"15-29\",\"15-29\",\"15-29\",\"15-29\",\"15-29\",\"15-29\",\"15-29\",\"15-29\",\"15-29\",\"15-29\"],\"chart_index\":[{\"Age_group\":\"15-29\"},{\"Age_group\":\"15-29\"},{\"Age_group\":\"15-29\"},{\"Age_group\":\"15-29\"},{\"Age_group\":\"15-29\"},{\"Age_group\":\"15-29\"},{\"Age_group\":\"15-29\"},{\"Age_group\":\"15-29\"},{\"Age_group\":\"15-29\"},{\"Age_group\":\"15-29\"},{\"Age_group\":\"15-29\"},{\"Age_group\":\"15-29\"}],\"x_values\":[2001,2002,2003,2004,2005,2006,2007,2008,2009,2010,2011,2012],\"y_values\":{\"__ndarray__\":\"AAAAAAAA8D8ON9xwww3zP84555xzzvE/CCGEEEII9T8TTTTRRBP1P7DAAgsssPQ/33vvvffe9z+77LLLLrv8P5VSSimllP4/pZRSSimlAEC21lprrbUEQOSRRx555AVA\",\"dtype\":\"float64\",\"shape\":[12]}}},\"id\":\"a6a34a1e-4fea-4450-958e-47f8d0e958e3\",\"type\":\"ColumnDataSource\"},{\"attributes\":{\"label\":{\"value\":\"30-44\"},\"renderers\":[{\"id\":\"0b19fdfb-4526-49d7-ad18-5c6bcf590a79\",\"type\":\"GlyphRenderer\"}]},\"id\":\"fd913df7-8f29-43bc-8876-8b03d9f22802\",\"type\":\"LegendItem\"},{\"attributes\":{\"callback\":null,\"column_names\":[\"line_color\",\"fill_alpha\",\"label\",\"x\",\"y\",\"height\",\"line_alpha\",\"color\",\"width\"],\"data\":{\"Age_group\":[\"45-59\"],\"chart_index\":[{\"Age_group\":\"45-59\"}],\"color\":[\"#407ee7\"],\"fill_alpha\":[0.8],\"height\":[349.0],\"label\":[{\"Age_group\":\"45-59\"}],\"line_alpha\":[1.0],\"line_color\":[\"white\"],\"width\":[0.8],\"x\":[\"45-59\"],\"y\":[174.5]}},\"id\":\"2b829f8c-65fb-4296-93b5-949b145ba55a\",\"type\":\"ColumnDataSource\"},{\"attributes\":{},\"id\":\"d9bde5bb-d161-4569-9a5b-3010c3e52e5b\",\"type\":\"CategoricalTickFormatter\"},{\"attributes\":{\"active_drag\":\"auto\",\"active_scroll\":\"auto\",\"active_tap\":\"auto\",\"tools\":[{\"id\":\"04c4d0da-1bcb-4b5f-b1f3-99f95ecd4a0f\",\"type\":\"PanTool\"},{\"id\":\"4eeecf7f-a62a-42d9-835d-5bc97c1b6207\",\"type\":\"WheelZoomTool\"},{\"id\":\"e393b2db-7c51-41f7-9597-ca211be0476e\",\"type\":\"BoxZoomTool\"},{\"id\":\"c21ccec7-bdc3-44bd-861e-560139423f76\",\"type\":\"SaveTool\"},{\"id\":\"083ceeb8-609a-4145-906d-0e9887a6fa96\",\"type\":\"ResetTool\"},{\"id\":\"958a0d5a-f8cd-45d8-841c-a7f454378158\",\"type\":\"HelpTool\"}]},\"id\":\"3da75d0c-0343-4614-82f3-94b0d8e04697\",\"type\":\"Toolbar\"},{\"attributes\":{\"fill_alpha\":{\"field\":\"fill_alpha\"},\"fill_color\":{\"field\":\"color\"},\"height\":{\"field\":\"height\",\"units\":\"data\"},\"line_color\":{\"field\":\"line_color\"},\"width\":{\"field\":\"width\",\"units\":\"data\"},\"x\":{\"field\":\"x\"},\"y\":{\"field\":\"y\"}},\"id\":\"b5b4c772-832a-406b-acbc-68e8a870716f\",\"type\":\"Rect\"},{\"attributes\":{\"callback\":null,\"end\":1700},\"id\":\"3cb50abb-fa02-4dac-becb-8a03a3fedb6f\",\"type\":\"Range1d\"},{\"attributes\":{\"callback\":null,\"column_names\":[\"line_color\",\"fill_alpha\",\"label\",\"x\",\"y\",\"height\",\"line_alpha\",\"color\",\"width\"],\"data\":{\"Age_group\":[\"15-29\"],\"chart_index\":[{\"Age_group\":\"15-29\"}],\"color\":[\"#f22c40\"],\"fill_alpha\":[0.8],\"height\":[372.0],\"label\":[{\"Age_group\":\"15-29\"}],\"line_alpha\":[1.0],\"line_color\":[\"white\"],\"width\":[0.8],\"x\":[\"15-29\"],\"y\":[186.0]}},\"id\":\"314b76ee-ae21-4a51-afdd-3d37c565da24\",\"type\":\"ColumnDataSource\"},{\"attributes\":{\"plot\":{\"id\":\"8436b4eb-12ca-4ed3-a132-97970f982bad\",\"subtype\":\"Chart\",\"type\":\"Plot\"}},\"id\":\"1597430a-951b-4450-9d13-61bfe0719a0d\",\"type\":\"WheelZoomTool\"},{\"attributes\":{\"plot\":null,\"text\":\"Drug abuses increase across age groups\"},\"id\":\"92fa3aa4-6f71-40ca-9d39-9a987843893d\",\"type\":\"Title\"},{\"attributes\":{\"plot\":{\"id\":\"8f86e945-6995-42d4-871a-f9260a951b54\",\"subtype\":\"Chart\",\"type\":\"Plot\"}},\"id\":\"04c4d0da-1bcb-4b5f-b1f3-99f95ecd4a0f\",\"type\":\"PanTool\"},{\"attributes\":{\"callback\":null,\"column_names\":[\"line_color\",\"fill_alpha\",\"label\",\"x\",\"y\",\"height\",\"line_alpha\",\"color\",\"width\"],\"data\":{\"Age_group\":[\"60+\"],\"chart_index\":[{\"Age_group\":\"60+\"}],\"color\":[\"#df5320\"],\"fill_alpha\":[0.8],\"height\":[68.0],\"label\":[{\"Age_group\":\"60+\"}],\"line_alpha\":[1.0],\"line_color\":[\"white\"],\"width\":[0.8],\"x\":[\"60+\"],\"y\":[34.0]}},\"id\":\"3c8e97f7-0515-46c2-8e71-50933ebf283a\",\"type\":\"ColumnDataSource\"},{\"attributes\":{\"plot\":{\"id\":\"8f86e945-6995-42d4-871a-f9260a951b54\",\"subtype\":\"Chart\",\"type\":\"Plot\"}},\"id\":\"4eeecf7f-a62a-42d9-835d-5bc97c1b6207\",\"type\":\"WheelZoomTool\"},{\"attributes\":{\"label\":{\"value\":\"15-29\"},\"renderers\":[{\"id\":\"3bf48a8c-4c08-4780-9812-dca88f1baf32\",\"type\":\"GlyphRenderer\"}]},\"id\":\"2b54199d-c05c-4121-aa1e-cc8b44d05013\",\"type\":\"LegendItem\"},{\"attributes\":{\"child\":{\"id\":\"8436b4eb-12ca-4ed3-a132-97970f982bad\",\"subtype\":\"Chart\",\"type\":\"Plot\"},\"title\":\"2012\"},\"id\":\"8469fb1a-8c83-4c6e-828e-14b2d3ad88c3\",\"type\":\"Panel\"},{\"attributes\":{\"label\":{\"value\":\"60+\"},\"renderers\":[{\"id\":\"7d7731e9-52d3-4028-b69c-f92bcd1f5125\",\"type\":\"GlyphRenderer\"}]},\"id\":\"e3a00d87-ee61-410e-8181-c5c8c1eef9b2\",\"type\":\"LegendItem\"},{\"attributes\":{\"axis_label\":\"Suicides, indexed 2001 values\",\"formatter\":{\"id\":\"0974ea9d-9aad-4a13-8dd0-4a91e2c7076f\",\"type\":\"BasicTickFormatter\"},\"plot\":{\"id\":\"eb8f36b6-50c9-40cd-86d2-8caec39934c7\",\"subtype\":\"Chart\",\"type\":\"Plot\"},\"ticker\":{\"id\":\"e2db59f1-af0b-4c85-935f-b31dccbaced5\",\"type\":\"BasicTicker\"}},\"id\":\"52223ec3-d926-4471-8fd3-50075a0360c5\",\"type\":\"LinearAxis\"},{\"attributes\":{\"plot\":{\"id\":\"8436b4eb-12ca-4ed3-a132-97970f982bad\",\"subtype\":\"Chart\",\"type\":\"Plot\"}},\"id\":\"066e20e1-14cc-4a55-a5bf-174452e1f83e\",\"type\":\"HelpTool\"},{\"attributes\":{\"active_drag\":\"auto\",\"active_scroll\":\"auto\",\"active_tap\":\"auto\",\"tools\":[{\"id\":\"1be865c4-f851-47d9-8c84-584d317dc034\",\"type\":\"PanTool\"},{\"id\":\"b5125a26-6381-4bbb-93fb-c07637c47da3\",\"type\":\"WheelZoomTool\"},{\"id\":\"213157aa-ff71-407e-9394-8785fd2aeae8\",\"type\":\"BoxZoomTool\"},{\"id\":\"1cfb7c27-2023-477f-8bf4-ef5815b33e29\",\"type\":\"SaveTool\"},{\"id\":\"d197532b-fc1a-4ebc-999f-655f9f57e69b\",\"type\":\"ResetTool\"},{\"id\":\"832de6f6-6fa6-4e2d-8020-dccd0209e6f5\",\"type\":\"HelpTool\"}]},\"id\":\"47b1482a-1847-4b3c-913b-378142e7c98a\",\"type\":\"Toolbar\"},{\"attributes\":{\"children\":[{\"id\":\"08c17ec0-6084-492c-afdd-7f523c1288c4\",\"type\":\"Tabs\"}]},\"id\":\"e185ce6b-130c-49a3-ae35-97d50aaee717\",\"type\":\"WidgetBox\"},{\"attributes\":{\"overlay\":{\"id\":\"55ac41df-2624-4e59-84bf-75c30d6d984a\",\"type\":\"BoxAnnotation\"},\"plot\":{\"id\":\"8f86e945-6995-42d4-871a-f9260a951b54\",\"subtype\":\"Chart\",\"type\":\"Plot\"}},\"id\":\"e393b2db-7c51-41f7-9597-ca211be0476e\",\"type\":\"BoxZoomTool\"},{\"attributes\":{\"plot\":null,\"text\":\"Non-indexed values\"},\"id\":\"225584bb-7280-4222-9e9f-35daf009c00c\",\"type\":\"Title\"},{\"attributes\":{\"overlay\":{\"id\":\"889542f3-caaa-46f9-94e8-560ddfbac2f9\",\"type\":\"BoxAnnotation\"},\"plot\":{\"id\":\"eb8f36b6-50c9-40cd-86d2-8caec39934c7\",\"subtype\":\"Chart\",\"type\":\"Plot\"}},\"id\":\"213157aa-ff71-407e-9394-8785fd2aeae8\",\"type\":\"BoxZoomTool\"},{\"attributes\":{},\"id\":\"a28f2f69-6db9-4ad5-b0a8-77eea684e6cd\",\"type\":\"BasicTickFormatter\"},{\"attributes\":{\"callback\":null,\"column_names\":[\"y_values\",\"x_values\"],\"data\":{\"Age_group\":[\"60+\",\"60+\",\"60+\",\"60+\",\"60+\",\"60+\",\"60+\",\"60+\",\"60+\",\"60+\",\"60+\",\"60+\"],\"chart_index\":[{\"Age_group\":\"60+\"},{\"Age_group\":\"60+\"},{\"Age_group\":\"60+\"},{\"Age_group\":\"60+\"},{\"Age_group\":\"60+\"},{\"Age_group\":\"60+\"},{\"Age_group\":\"60+\"},{\"Age_group\":\"60+\"},{\"Age_group\":\"60+\"},{\"Age_group\":\"60+\"},{\"Age_group\":\"60+\"},{\"Age_group\":\"60+\"}],\"x_values\":[2001,2002,2003,2004,2005,2006,2007,2008,2009,2010,2011,2012],\"y_values\":{\"__ndarray__\":\"AAAAAAAA8D8AAAAAAAD0P6alpaWlpf0/09LS0tLS9j8PDw8PDw/7P2lpaWlpaf0/Dw8PDw8PAUBpaWlpaWkFQDw8PDw8PARAeHh4eHh4DEAPDw8PDw8LQPHw8PDw8A5A\",\"dtype\":\"float64\",\"shape\":[12]}}},\"id\":\"dad92e68-92ff-4f01-9027-993eccff30ba\",\"type\":\"ColumnDataSource\"},{\"attributes\":{\"callback\":null,\"column_names\":[\"line_color\",\"fill_alpha\",\"label\",\"x\",\"y\",\"height\",\"line_alpha\",\"color\",\"width\"],\"data\":{\"Age_group\":[\"15-29\"],\"chart_index\":[{\"Age_group\":\"15-29\"}],\"color\":[\"#f22c40\"],\"fill_alpha\":[0.8],\"height\":[1018.0],\"label\":[{\"Age_group\":\"15-29\"}],\"line_alpha\":[1.0],\"line_color\":[\"white\"],\"width\":[0.8],\"x\":[\"15-29\"],\"y\":[509.0]}},\"id\":\"d93c3910-f069-4727-8321-52919c836ad7\",\"type\":\"ColumnDataSource\"},{\"attributes\":{\"line_color\":{\"value\":\"#df5320\"},\"line_width\":{\"value\":2},\"x\":{\"field\":\"x_values\"},\"y\":{\"field\":\"y_values\"}},\"id\":\"9933684d-8247-44d5-a46c-7cab2a158cd3\",\"type\":\"Line\"},{\"attributes\":{\"data_source\":{\"id\":\"3c8e97f7-0515-46c2-8e71-50933ebf283a\",\"type\":\"ColumnDataSource\"},\"glyph\":{\"id\":\"42a0f1ac-3112-466c-b2d9-4849385ee529\",\"type\":\"Rect\"},\"hover_glyph\":null,\"nonselection_glyph\":null,\"selection_glyph\":null},\"id\":\"7d7731e9-52d3-4028-b69c-f92bcd1f5125\",\"type\":\"GlyphRenderer\"},{\"attributes\":{\"callback\":null,\"column_names\":[\"y_values\",\"x_values\"],\"data\":{\"Age_group\":[\"45-59\",\"45-59\",\"45-59\",\"45-59\",\"45-59\",\"45-59\",\"45-59\",\"45-59\",\"45-59\",\"45-59\",\"45-59\",\"45-59\"],\"chart_index\":[{\"Age_group\":\"45-59\"},{\"Age_group\":\"45-59\"},{\"Age_group\":\"45-59\"},{\"Age_group\":\"45-59\"},{\"Age_group\":\"45-59\"},{\"Age_group\":\"45-59\"},{\"Age_group\":\"45-59\"},{\"Age_group\":\"45-59\"},{\"Age_group\":\"45-59\"},{\"Age_group\":\"45-59\"},{\"Age_group\":\"45-59\"},{\"Age_group\":\"45-59\"}],\"x_values\":[2001,2002,2003,2004,2005,2006,2007,2008,2009,2010,2011,2012],\"y_values\":{\"__ndarray__\":\"AAAAAAAA8D/aw3kiBU3zP7ao4kc2LvU/a0Yg5F2A9T8XVfzIxqX2P7SH80QKmvY/SlcduMnR+j+WxITHsFv/Pzt7OE+koAFAvzdE//RaBEAVP7Jxqe0EQNvOHs4TKQhA\",\"dtype\":\"float64\",\"shape\":[12]}}},\"id\":\"4d74d3fc-8dfc-48fe-84a9-ed5a65ecc77b\",\"type\":\"ColumnDataSource\"},{\"attributes\":{\"plot\":{\"id\":\"8f86e945-6995-42d4-871a-f9260a951b54\",\"subtype\":\"Chart\",\"type\":\"Plot\"}},\"id\":\"958a0d5a-f8cd-45d8-841c-a7f454378158\",\"type\":\"HelpTool\"},{\"attributes\":{\"active_drag\":\"auto\",\"active_scroll\":\"auto\",\"active_tap\":\"auto\",\"tools\":[{\"id\":\"086d8309-7538-479d-80ab-d32b693dcbf5\",\"type\":\"PanTool\"},{\"id\":\"1597430a-951b-4450-9d13-61bfe0719a0d\",\"type\":\"WheelZoomTool\"},{\"id\":\"3aa1ecdb-b672-4f8a-a5e0-0658602d28fd\",\"type\":\"BoxZoomTool\"},{\"id\":\"229b7d36-83b3-4979-a57e-03bda32ed3ab\",\"type\":\"SaveTool\"},{\"id\":\"2c013e0d-1727-4881-98f2-e3eac095d5d1\",\"type\":\"ResetTool\"},{\"id\":\"066e20e1-14cc-4a55-a5bf-174452e1f83e\",\"type\":\"HelpTool\"}]},\"id\":\"d2c67032-55a8-402c-81ec-5eceb85a2a45\",\"type\":\"Toolbar\"},{\"attributes\":{\"plot\":{\"id\":\"eb8f36b6-50c9-40cd-86d2-8caec39934c7\",\"subtype\":\"Chart\",\"type\":\"Plot\"}},\"id\":\"832de6f6-6fa6-4e2d-8020-dccd0209e6f5\",\"type\":\"HelpTool\"},{\"attributes\":{\"axis_label\":\"Age_Group\",\"formatter\":{\"id\":\"c5da7e64-3137-41b2-baf2-b7c1f80e8dbf\",\"type\":\"CategoricalTickFormatter\"},\"major_label_orientation\":0.7853981633974483,\"plot\":{\"id\":\"8436b4eb-12ca-4ed3-a132-97970f982bad\",\"subtype\":\"Chart\",\"type\":\"Plot\"},\"ticker\":{\"id\":\"015b9f1a-9431-42b8-af87-01a93dc18959\",\"type\":\"CategoricalTicker\"}},\"id\":\"388916ec-b593-4ba1-ba74-2af246782a3f\",\"type\":\"CategoricalAxis\"},{\"attributes\":{\"data_source\":{\"id\":\"dad92e68-92ff-4f01-9027-993eccff30ba\",\"type\":\"ColumnDataSource\"},\"glyph\":{\"id\":\"9933684d-8247-44d5-a46c-7cab2a158cd3\",\"type\":\"Line\"},\"hover_glyph\":null,\"nonselection_glyph\":null,\"selection_glyph\":null},\"id\":\"dfabb109-1dfd-4ed7-8ad8-55c40dd34ccd\",\"type\":\"GlyphRenderer\"},{\"attributes\":{\"children\":[{\"id\":\"eb8f36b6-50c9-40cd-86d2-8caec39934c7\",\"subtype\":\"Chart\",\"type\":\"Plot\"},{\"id\":\"e185ce6b-130c-49a3-ae35-97d50aaee717\",\"type\":\"WidgetBox\"}]},\"id\":\"d9268af4-eb7a-4c75-b8aa-f0de8f81eecd\",\"type\":\"Row\"},{\"attributes\":{\"child\":{\"id\":\"8f86e945-6995-42d4-871a-f9260a951b54\",\"subtype\":\"Chart\",\"type\":\"Plot\"},\"title\":\"2001\"},\"id\":\"1ca8ce4c-e0c9-46f9-aa67-983e5055ff9a\",\"type\":\"Panel\"},{\"attributes\":{\"axis_label\":\"Year\",\"formatter\":{\"id\":\"4783f40f-8103-4b5c-9362-6c253dafdb7b\",\"type\":\"BasicTickFormatter\"},\"plot\":{\"id\":\"eb8f36b6-50c9-40cd-86d2-8caec39934c7\",\"subtype\":\"Chart\",\"type\":\"Plot\"},\"ticker\":{\"id\":\"6804d4fe-c9d1-483a-9c71-04d474b4b747\",\"type\":\"BasicTicker\"}},\"id\":\"ac013160-8638-47ad-bfc2-11942c09ac42\",\"type\":\"LinearAxis\"},{\"attributes\":{\"label\":{\"value\":\"45-59\"},\"renderers\":[{\"id\":\"c00a5ce5-a5b9-4ee2-8014-cc90080e0f4a\",\"type\":\"GlyphRenderer\"}]},\"id\":\"e73ee9b7-9e1f-4ef0-a18d-cd33753b0cd8\",\"type\":\"LegendItem\"},{\"attributes\":{},\"id\":\"29648ea8-b540-46e6-b5c9-9bccf191dec4\",\"type\":\"ToolEvents\"},{\"attributes\":{\"line_color\":{\"value\":\"#407ee7\"},\"line_width\":{\"value\":2},\"x\":{\"field\":\"x_values\"},\"y\":{\"field\":\"y_values\"}},\"id\":\"0284b16b-fbca-4115-9fd2-c9bc322cb2af\",\"type\":\"Line\"},{\"attributes\":{},\"id\":\"3c8690d6-ddda-4e51-a4ef-bea5c0f01853\",\"type\":\"BasicTicker\"},{\"attributes\":{\"data_source\":{\"id\":\"a6a34a1e-4fea-4450-958e-47f8d0e958e3\",\"type\":\"ColumnDataSource\"},\"glyph\":{\"id\":\"e5dac966-d68c-4f61-b746-486897609e74\",\"type\":\"Line\"},\"hover_glyph\":null,\"nonselection_glyph\":null,\"selection_glyph\":null},\"id\":\"a658aeed-fa7f-4ddf-a931-cd95dc2dc5ce\",\"type\":\"GlyphRenderer\"},{\"attributes\":{\"plot\":{\"id\":\"8436b4eb-12ca-4ed3-a132-97970f982bad\",\"subtype\":\"Chart\",\"type\":\"Plot\"}},\"id\":\"2c013e0d-1727-4881-98f2-e3eac095d5d1\",\"type\":\"ResetTool\"},{\"attributes\":{\"callback\":null,\"end\":1700},\"id\":\"87cc4ec8-b5b7-4d9b-a87e-1ab6e63eb3c5\",\"type\":\"Range1d\"},{\"attributes\":{\"plot\":{\"id\":\"eb8f36b6-50c9-40cd-86d2-8caec39934c7\",\"subtype\":\"Chart\",\"type\":\"Plot\"}},\"id\":\"d197532b-fc1a-4ebc-999f-655f9f57e69b\",\"type\":\"ResetTool\"},{\"attributes\":{\"bottom_units\":\"screen\",\"fill_alpha\":{\"value\":0.5},\"fill_color\":{\"value\":\"lightgrey\"},\"left_units\":\"screen\",\"level\":\"overlay\",\"line_alpha\":{\"value\":1.0},\"line_color\":{\"value\":\"black\"},\"line_dash\":[4,4],\"line_width\":{\"value\":2},\"plot\":null,\"render_mode\":\"css\",\"right_units\":\"screen\",\"top_units\":\"screen\"},\"id\":\"55ac41df-2624-4e59-84bf-75c30d6d984a\",\"type\":\"BoxAnnotation\"},{\"attributes\":{\"fill_alpha\":{\"field\":\"fill_alpha\"},\"fill_color\":{\"field\":\"color\"},\"height\":{\"field\":\"height\",\"units\":\"data\"},\"line_color\":{\"field\":\"line_color\"},\"width\":{\"field\":\"width\",\"units\":\"data\"},\"x\":{\"field\":\"x\"},\"y\":{\"field\":\"y\"}},\"id\":\"87a0290b-41d1-4314-a689-3e2eb645639c\",\"type\":\"Rect\"},{\"attributes\":{\"fill_alpha\":{\"field\":\"fill_alpha\"},\"fill_color\":{\"field\":\"color\"},\"height\":{\"field\":\"height\",\"units\":\"data\"},\"line_color\":{\"field\":\"line_color\"},\"width\":{\"field\":\"width\",\"units\":\"data\"},\"x\":{\"field\":\"x\"},\"y\":{\"field\":\"y\"}},\"id\":\"a12c0826-1f8f-43f6-a1f7-be33fc4df5b6\",\"type\":\"Rect\"},{\"attributes\":{},\"id\":\"0c8cd66a-ed49-45a0-aed1-c8d344bcd1c6\",\"type\":\"ToolEvents\"},{\"attributes\":{},\"id\":\"0974ea9d-9aad-4a13-8dd0-4a91e2c7076f\",\"type\":\"BasicTickFormatter\"}],\"root_ids\":[\"d9268af4-eb7a-4c75-b8aa-f0de8f81eecd\"]},\"title\":\"Bokeh Application\",\"version\":\"0.12.4\"}};\n",
       "            var render_items = [{\"docid\":\"b8acd06e-5ef3-4fbb-968f-525c7582cafa\",\"elementid\":\"452ac2dd-ab2f-4719-8aed-37bcddb9922e\",\"modelid\":\"d9268af4-eb7a-4c75-b8aa-f0de8f81eecd\"}];\n",
       "            \n",
       "            Bokeh.embed.embed_items(docs_json, render_items);\n",
       "          };\n",
       "          if (document.readyState != \"loading\") fn();\n",
       "          else document.addEventListener(\"DOMContentLoaded\", fn);\n",
       "        })();\n",
       "      },\n",
       "      function(Bokeh) {\n",
       "      }\n",
       "    ];\n",
       "  \n",
       "    function run_inline_js() {\n",
       "      \n",
       "      if ((window.Bokeh !== undefined) || (force === true)) {\n",
       "        for (var i = 0; i < inline_js.length; i++) {\n",
       "          inline_js[i](window.Bokeh);\n",
       "        }if (force === true) {\n",
       "          display_loaded();\n",
       "        }} else if (Date.now() < window._bokeh_timeout) {\n",
       "        setTimeout(run_inline_js, 100);\n",
       "      } else if (!window._bokeh_failed_load) {\n",
       "        console.log(\"Bokeh: BokehJS failed to load within specified timeout.\");\n",
       "        window._bokeh_failed_load = true;\n",
       "      } else if (force !== true) {\n",
       "        var cell = $(document.getElementById(\"452ac2dd-ab2f-4719-8aed-37bcddb9922e\")).parents('.cell').data().cell;\n",
       "        cell.output_area.append_execute_result(NB_LOAD_WARNING)\n",
       "      }\n",
       "  \n",
       "    }\n",
       "  \n",
       "    if (window._bokeh_is_loading === 0) {\n",
       "      console.log(\"Bokeh: BokehJS loaded, going straight to plotting\");\n",
       "      run_inline_js();\n",
       "    } else {\n",
       "      load_libs(js_urls, function() {\n",
       "        console.log(\"Bokeh: BokehJS plotting callback run at\", now());\n",
       "        run_inline_js();\n",
       "      });\n",
       "    }\n",
       "  }(this));\n",
       "</script>"
      ]
     },
     "metadata": {},
     "output_type": "display_data"
    }
   ],
   "source": [
    "#removing 0-14, since total is so low\n",
    "drug_by_age=drug_by_age.loc[drug_by_age.Age_group != '0-14']\n",
    "\n",
    "p1=Line(drug_by_age, x='Year', y='indexed_total', title='Drug abuses increase across age groups',\n",
    "        ylabel='Suicides, indexed 2001 values',\n",
    "       color='Age_group', width=550)\n",
    "p2=Bar(drug_by_age.loc[drug_by_age.Year==2012], 'Age_group', values='Total', color='Age_group',\n",
    "       ylabel='Total, 2012', width=400, height=550, title='Non-indexed values')\n",
    "p3=Bar(drug_by_age.loc[drug_by_age.Year==2001], 'Age_group', values='Total', color='Age_group',\n",
    "       ylabel='Total, 2001', width=400, height=550, title='Non-indexed values')\n",
    "\n",
    "#scaling the y axis labels to make it easy to compare 2012 to 2001.\n",
    "p2.y_range=ranges.Range1d(0,1700)\n",
    "p3.y_range=ranges.Range1d(0,1700)\n",
    "\n",
    "#creating tabs\n",
    "tab1=Panel(child=p2, title='2012')\n",
    "tab2=Panel(child=p3, title='2001')\n",
    "\n",
    "p1.toolbar_location=p2.toolbar_location=p3.toolbar_location=None\n",
    "layout=Tabs(tabs=[tab1, tab2])\n",
    "chart=row(p1,layout)\n",
    "show(chart)"
   ]
  },
  {
   "cell_type": "markdown",
   "metadata": {},
   "source": [
    "<b> My conclusion at this point is that drug abuses are increasing for all notable age groups, and especially among men, who constitute the vast majority of drug abuses. <b>"
   ]
  },
  {
   "cell_type": "markdown",
   "metadata": {},
   "source": [
    "I now want to understand where this is coming from Geographically. Are all states seeing this increase in drug overdoses? The problem here is there are vastly different populations in each state. Once again, I'm going to index everything vs 2001 values and plot 2012 values to start."
   ]
  },
  {
   "cell_type": "code",
   "execution_count": 126,
   "metadata": {
    "collapsed": true
   },
   "outputs": [],
   "source": [
    "import warnings ; warnings.simplefilter('ignore')"
   ]
  },
  {
   "cell_type": "code",
   "execution_count": 107,
   "metadata": {
    "collapsed": false
   },
   "outputs": [],
   "source": [
    "drug_by_state_y=causes.loc[causes.Type=='Drug Abuse/Addiction'].groupby(['State', 'Year']).agg('sum')"
   ]
  },
  {
   "cell_type": "code",
   "execution_count": 127,
   "metadata": {
    "collapsed": false
   },
   "outputs": [],
   "source": [
    "drug_by_state_y.reset_index(inplace=True)\n",
    "drug_by_state_y['indexed_total']=drug_by_state_y.apply(lambda x: \n",
    "            index_variable_totals(x['Total'],'State', x['State'], 2001, drug_by_state_y), axis=1)"
   ]
  },
  {
   "cell_type": "code",
   "execution_count": 128,
   "metadata": {
    "collapsed": false,
    "scrolled": false
   },
   "outputs": [
    {
     "data": {
      "text/html": [
       "<div>\n",
       "<table border=\"1\" class=\"dataframe\">\n",
       "  <thead>\n",
       "    <tr style=\"text-align: right;\">\n",
       "      <th></th>\n",
       "      <th>level_0</th>\n",
       "      <th>index</th>\n",
       "      <th>State</th>\n",
       "      <th>Year</th>\n",
       "      <th>Total</th>\n",
       "      <th>indexed_total</th>\n",
       "    </tr>\n",
       "  </thead>\n",
       "  <tbody>\n",
       "    <tr>\n",
       "      <th>251</th>\n",
       "      <td>251</td>\n",
       "      <td>251</td>\n",
       "      <td>Maharashtra</td>\n",
       "      <td>2012</td>\n",
       "      <td>1689</td>\n",
       "      <td>3.391566</td>\n",
       "    </tr>\n",
       "    <tr>\n",
       "      <th>239</th>\n",
       "      <td>239</td>\n",
       "      <td>239</td>\n",
       "      <td>Madhya Pradesh</td>\n",
       "      <td>2012</td>\n",
       "      <td>581</td>\n",
       "      <td>5.330275</td>\n",
       "    </tr>\n",
       "    <tr>\n",
       "      <th>215</th>\n",
       "      <td>215</td>\n",
       "      <td>215</td>\n",
       "      <td>Kerala</td>\n",
       "      <td>2012</td>\n",
       "      <td>275</td>\n",
       "      <td>3.313253</td>\n",
       "    </tr>\n",
       "    <tr>\n",
       "      <th>371</th>\n",
       "      <td>371</td>\n",
       "      <td>371</td>\n",
       "      <td>Tamil Nadu</td>\n",
       "      <td>2012</td>\n",
       "      <td>242</td>\n",
       "      <td>3.723077</td>\n",
       "    </tr>\n",
       "    <tr>\n",
       "      <th>83</th>\n",
       "      <td>83</td>\n",
       "      <td>83</td>\n",
       "      <td>Chhattisgarh</td>\n",
       "      <td>2012</td>\n",
       "      <td>240</td>\n",
       "      <td>2.891566</td>\n",
       "    </tr>\n",
       "    <tr>\n",
       "      <th>23</th>\n",
       "      <td>23</td>\n",
       "      <td>23</td>\n",
       "      <td>Andhra Pradesh</td>\n",
       "      <td>2012</td>\n",
       "      <td>164</td>\n",
       "      <td>6.560000</td>\n",
       "    </tr>\n",
       "    <tr>\n",
       "      <th>347</th>\n",
       "      <td>347</td>\n",
       "      <td>347</td>\n",
       "      <td>Rajasthan</td>\n",
       "      <td>2012</td>\n",
       "      <td>152</td>\n",
       "      <td>1.277311</td>\n",
       "    </tr>\n",
       "    <tr>\n",
       "      <th>395</th>\n",
       "      <td>395</td>\n",
       "      <td>395</td>\n",
       "      <td>Uttar Pradesh</td>\n",
       "      <td>2012</td>\n",
       "      <td>124</td>\n",
       "      <td>1.631579</td>\n",
       "    </tr>\n",
       "    <tr>\n",
       "      <th>335</th>\n",
       "      <td>335</td>\n",
       "      <td>335</td>\n",
       "      <td>Punjab</td>\n",
       "      <td>2012</td>\n",
       "      <td>91</td>\n",
       "      <td>13.000000</td>\n",
       "    </tr>\n",
       "    <tr>\n",
       "      <th>203</th>\n",
       "      <td>203</td>\n",
       "      <td>203</td>\n",
       "      <td>Karnataka</td>\n",
       "      <td>2012</td>\n",
       "      <td>77</td>\n",
       "      <td>1.040541</td>\n",
       "    </tr>\n",
       "    <tr>\n",
       "      <th>155</th>\n",
       "      <td>155</td>\n",
       "      <td>155</td>\n",
       "      <td>Haryana</td>\n",
       "      <td>2012</td>\n",
       "      <td>72</td>\n",
       "      <td>3.789474</td>\n",
       "    </tr>\n",
       "    <tr>\n",
       "      <th>287</th>\n",
       "      <td>287</td>\n",
       "      <td>287</td>\n",
       "      <td>Mizoram</td>\n",
       "      <td>2012</td>\n",
       "      <td>61</td>\n",
       "      <td>10.166667</td>\n",
       "    </tr>\n",
       "    <tr>\n",
       "      <th>143</th>\n",
       "      <td>143</td>\n",
       "      <td>143</td>\n",
       "      <td>Gujarat</td>\n",
       "      <td>2012</td>\n",
       "      <td>53</td>\n",
       "      <td>3.785714</td>\n",
       "    </tr>\n",
       "    <tr>\n",
       "      <th>119</th>\n",
       "      <td>119</td>\n",
       "      <td>119</td>\n",
       "      <td>Delhi (Ut)</td>\n",
       "      <td>2012</td>\n",
       "      <td>45</td>\n",
       "      <td>2.500000</td>\n",
       "    </tr>\n",
       "    <tr>\n",
       "      <th>359</th>\n",
       "      <td>359</td>\n",
       "      <td>359</td>\n",
       "      <td>Sikkim</td>\n",
       "      <td>2012</td>\n",
       "      <td>28</td>\n",
       "      <td>28.000000</td>\n",
       "    </tr>\n",
       "    <tr>\n",
       "      <th>47</th>\n",
       "      <td>47</td>\n",
       "      <td>47</td>\n",
       "      <td>Assam</td>\n",
       "      <td>2012</td>\n",
       "      <td>16</td>\n",
       "      <td>2.000000</td>\n",
       "    </tr>\n",
       "    <tr>\n",
       "      <th>59</th>\n",
       "      <td>59</td>\n",
       "      <td>59</td>\n",
       "      <td>Bihar</td>\n",
       "      <td>2012</td>\n",
       "      <td>10</td>\n",
       "      <td>1.428571</td>\n",
       "    </tr>\n",
       "    <tr>\n",
       "      <th>179</th>\n",
       "      <td>179</td>\n",
       "      <td>179</td>\n",
       "      <td>Jammu &amp; Kashmir</td>\n",
       "      <td>2012</td>\n",
       "      <td>4</td>\n",
       "      <td>4.000000</td>\n",
       "    </tr>\n",
       "  </tbody>\n",
       "</table>\n",
       "</div>"
      ],
      "text/plain": [
       "     level_0  index            State  Year  Total  indexed_total\n",
       "251      251    251      Maharashtra  2012   1689       3.391566\n",
       "239      239    239   Madhya Pradesh  2012    581       5.330275\n",
       "215      215    215           Kerala  2012    275       3.313253\n",
       "371      371    371       Tamil Nadu  2012    242       3.723077\n",
       "83        83     83     Chhattisgarh  2012    240       2.891566\n",
       "23        23     23   Andhra Pradesh  2012    164       6.560000\n",
       "347      347    347        Rajasthan  2012    152       1.277311\n",
       "395      395    395    Uttar Pradesh  2012    124       1.631579\n",
       "335      335    335           Punjab  2012     91      13.000000\n",
       "203      203    203        Karnataka  2012     77       1.040541\n",
       "155      155    155          Haryana  2012     72       3.789474\n",
       "287      287    287          Mizoram  2012     61      10.166667\n",
       "143      143    143          Gujarat  2012     53       3.785714\n",
       "119      119    119       Delhi (Ut)  2012     45       2.500000\n",
       "359      359    359           Sikkim  2012     28      28.000000\n",
       "47        47     47            Assam  2012     16       2.000000\n",
       "59        59     59            Bihar  2012     10       1.428571\n",
       "179      179    179  Jammu & Kashmir  2012      4       4.000000"
      ]
     },
     "execution_count": 128,
     "metadata": {},
     "output_type": "execute_result"
    }
   ],
   "source": [
    "drug_by_state_y.loc[(drug_by_state_y.Year ==2012) & \n",
    "                    (drug_by_state_y.indexed_total<30) &\n",
    "                    (drug_by_state_y.indexed_total>1)].sort('Total', ascending=False)"
   ]
  },
  {
   "cell_type": "markdown",
   "metadata": {},
   "source": [
    "The epidemic seems to be well spread out among. many of the largest states. I used an online tool from indzara.com to quickly generate a heatmap that gives me an idea of the geographic distribution. I graphed the inverse of the 2012 indexed total. Don't take the colors too seriously."
   ]
  },
  {
   "cell_type": "markdown",
   "metadata": {},
   "source": [
    "![title](http://i.imgur.com/DnZOBik.png)"
   ]
  },
  {
   "cell_type": "markdown",
   "metadata": {},
   "source": [
    "A few things stand out:\n",
    "1. This seems to be concentrated around the middle of the country. Why?\n",
    "2. Punjab and Haryana have seen high drug abuse levels, despite their neighbouring states not seeing these increased rates. Why? Note that this correlates with what we are seeing in the news today. Maybe they should have run this analysis and done something 5 years ago... http://www.bbc.com/news/world-asia-india-38824478 . This is truly tragic, and further analysis is needed to do something about this.\n"
   ]
  },
  {
   "cell_type": "code",
   "execution_count": null,
   "metadata": {
    "collapsed": true
   },
   "outputs": [],
   "source": []
  }
 ],
 "metadata": {
  "kernelspec": {
   "display_name": "Python 3",
   "language": "python",
   "name": "python3"
  },
  "language_info": {
   "codemirror_mode": {
    "name": "ipython",
    "version": 3
   },
   "file_extension": ".py",
   "mimetype": "text/x-python",
   "name": "python",
   "nbconvert_exporter": "python",
   "pygments_lexer": "ipython3",
   "version": "3.5.2"
  }
 },
 "nbformat": 4,
 "nbformat_minor": 2
}
